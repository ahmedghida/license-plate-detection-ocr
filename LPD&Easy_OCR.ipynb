{
  "nbformat": 4,
  "nbformat_minor": 0,
  "metadata": {
    "colab": {
      "provenance": []
    },
    "kernelspec": {
      "name": "python3",
      "display_name": "Python 3"
    },
    "language_info": {
      "name": "python"
    }
  },
  "cells": [
    {
      "cell_type": "code",
      "execution_count": 2,
      "metadata": {
        "colab": {
          "base_uri": "https://localhost:8080/"
        },
        "id": "u5SAvrkqgHX9",
        "outputId": "49fadfa9-d768-497a-e7ca-e3dbf9982064"
      },
      "outputs": [
        {
          "output_type": "stream",
          "name": "stdout",
          "text": [
            "Mounted at /content/drive\n",
            "/content/drive/MyDrive/Projects/LPD\n"
          ]
        }
      ],
      "source": [
        "from google.colab import drive\n",
        "drive.mount('/content/drive')\n",
        "%cd /content/drive/MyDrive/Projects/LPD"
      ]
    },
    {
      "cell_type": "markdown",
      "source": [],
      "metadata": {
        "id": "PDMZBRkXgS6M"
      }
    },
    {
      "cell_type": "code",
      "source": [
        "!pip install opendatasets"
      ],
      "metadata": {
        "colab": {
          "base_uri": "https://localhost:8080/"
        },
        "id": "P7Icw9qsgTMS",
        "outputId": "0bd1aae4-fbbc-400c-d27f-9d1f2044052d"
      },
      "execution_count": null,
      "outputs": [
        {
          "output_type": "stream",
          "name": "stdout",
          "text": [
            "Collecting opendatasets\n",
            "  Downloading opendatasets-0.1.22-py3-none-any.whl.metadata (9.2 kB)\n",
            "Requirement already satisfied: tqdm in /usr/local/lib/python3.10/dist-packages (from opendatasets) (4.66.5)\n",
            "Requirement already satisfied: kaggle in /usr/local/lib/python3.10/dist-packages (from opendatasets) (1.6.17)\n",
            "Requirement already satisfied: click in /usr/local/lib/python3.10/dist-packages (from opendatasets) (8.1.7)\n",
            "Requirement already satisfied: six>=1.10 in /usr/local/lib/python3.10/dist-packages (from kaggle->opendatasets) (1.16.0)\n",
            "Requirement already satisfied: certifi>=2023.7.22 in /usr/local/lib/python3.10/dist-packages (from kaggle->opendatasets) (2024.8.30)\n",
            "Requirement already satisfied: python-dateutil in /usr/local/lib/python3.10/dist-packages (from kaggle->opendatasets) (2.8.2)\n",
            "Requirement already satisfied: requests in /usr/local/lib/python3.10/dist-packages (from kaggle->opendatasets) (2.32.3)\n",
            "Requirement already satisfied: python-slugify in /usr/local/lib/python3.10/dist-packages (from kaggle->opendatasets) (8.0.4)\n",
            "Requirement already satisfied: urllib3 in /usr/local/lib/python3.10/dist-packages (from kaggle->opendatasets) (2.0.7)\n",
            "Requirement already satisfied: bleach in /usr/local/lib/python3.10/dist-packages (from kaggle->opendatasets) (6.1.0)\n",
            "Requirement already satisfied: webencodings in /usr/local/lib/python3.10/dist-packages (from bleach->kaggle->opendatasets) (0.5.1)\n",
            "Requirement already satisfied: text-unidecode>=1.3 in /usr/local/lib/python3.10/dist-packages (from python-slugify->kaggle->opendatasets) (1.3)\n",
            "Requirement already satisfied: charset-normalizer<4,>=2 in /usr/local/lib/python3.10/dist-packages (from requests->kaggle->opendatasets) (3.3.2)\n",
            "Requirement already satisfied: idna<4,>=2.5 in /usr/local/lib/python3.10/dist-packages (from requests->kaggle->opendatasets) (3.8)\n",
            "Downloading opendatasets-0.1.22-py3-none-any.whl (15 kB)\n",
            "Installing collected packages: opendatasets\n",
            "Successfully installed opendatasets-0.1.22\n"
          ]
        }
      ]
    },
    {
      "cell_type": "code",
      "source": [
        "import os\n",
        "import opendatasets as od\n",
        "if not os.path.isdir(\"car-plate-detection\"):\n",
        "  od.download(\"https://www.kaggle.com/datasets/andrewmvd/car-plate-detection\")"
      ],
      "metadata": {
        "id": "KhwsMguwhIBC"
      },
      "execution_count": null,
      "outputs": []
    },
    {
      "cell_type": "markdown",
      "source": [
        "EDA:"
      ],
      "metadata": {
        "id": "UDuAS0sqsZgy"
      }
    },
    {
      "cell_type": "code",
      "source": [
        "from glob import glob\n",
        "\n",
        "images=glob(\"car-plate-detection/images/*.png\")\n",
        "labels=glob(\"car-plate-detection/annotations/*.xml\")\n",
        "\n",
        "\n",
        "print(len(images),len(labels))"
      ],
      "metadata": {
        "colab": {
          "base_uri": "https://localhost:8080/"
        },
        "id": "MGtLK_bphM44",
        "outputId": "65219d3d-8bc4-4199-dfab-16539b554eb4"
      },
      "execution_count": null,
      "outputs": [
        {
          "output_type": "stream",
          "name": "stdout",
          "text": [
            "433 433\n"
          ]
        }
      ]
    },
    {
      "cell_type": "code",
      "source": [
        "from sklearn.model_selection import train_test_split\n",
        "\n",
        "train_images,val_images,train_labels,val_labels=train_test_split(images,labels,test_size=0.2,random_state=42)\n",
        "\n",
        "print(len(train_images),len(val_images),len(train_labels),len(val_labels))"
      ],
      "metadata": {
        "colab": {
          "base_uri": "https://localhost:8080/"
        },
        "id": "5ml1IBUBmWk3",
        "outputId": "4d945a15-0340-4bd5-cf1a-17d3b92dd53f"
      },
      "execution_count": null,
      "outputs": [
        {
          "output_type": "stream",
          "name": "stdout",
          "text": [
            "346 87 346 87\n"
          ]
        }
      ]
    },
    {
      "cell_type": "code",
      "source": [
        "import os\n",
        "import shutil\n",
        "import xml.etree.ElementTree as ET\n",
        "\n",
        "def convert_files(images, annotations, folder):\n",
        "    # Define YOLOv8 format folder structure: dataset/train or dataset/val\n",
        "    images_folder = os.path.join(folder, \"images\")\n",
        "    annotations_folder = os.path.join(folder, \"labels\")\n",
        "\n",
        "    # Create folders if they don't exist\n",
        "    os.makedirs(images_folder, exist_ok=True)\n",
        "    os.makedirs(annotations_folder, exist_ok=True)\n",
        "\n",
        "    # Loop over each annotation and corresponding image\n",
        "    for img_path, ann_path in zip(images, annotations):\n",
        "        # Extract the base file name (without extension)\n",
        "        file_name = os.path.basename(img_path).split('.')[0]\n",
        "\n",
        "        # Copy the image to the target folder (train/val in YOLOv8 format)\n",
        "        shutil.copy(img_path, os.path.join(images_folder, os.path.basename(img_path)))\n",
        "\n",
        "        # Parse the XML file for annotation\n",
        "        tree = ET.parse(ann_path)\n",
        "        root = tree.getroot()\n",
        "        width=int(root.find(\"size\").find(\"width\").text)\n",
        "        height=int(root.find(\"size\").find(\"height\").text)\n",
        "\n",
        "\n",
        "\n",
        "        # Prepare the output path for the converted annotation file (YOLO format .txt)\n",
        "        txt_output_path = os.path.join(annotations_folder, f\"{file_name}.txt\")\n",
        "\n",
        "        # Open the .txt file to write the converted annotations\n",
        "        with open(txt_output_path, \"w\") as f:\n",
        "            # Loop through each object in the XML file\n",
        "            for obj in root.findall(\"object\"):\n",
        "                bbox = obj.find(\"bndbox\")\n",
        "                class_name = 0\n",
        "                xmin = int(bbox.find(\"xmin\").text)\n",
        "                ymin = int(bbox.find(\"ymin\").text)\n",
        "                xmax = int(bbox.find(\"xmax\").text)\n",
        "                ymax = int(bbox.find(\"ymax\").text)\n",
        "\n",
        "\n",
        "                xcenter = (xmin + xmax) / (2 * width)\n",
        "                ycenter = (ymin + ymax) / (2 * height)\n",
        "                w = (xmax - xmin) / width\n",
        "                h = (ymax - ymin) / height\n",
        "\n",
        "                # Write in YOLO format: class_name xmin ymin xmax ymax (adjust class_name as needed)\n",
        "                f.write(f\"{class_name} {xcenter} {ycenter} {w} {h}\\n\")\n",
        "\n",
        "        print(f\"Processed {file_name}: Image and annotation moved to {folder}\")\n"
      ],
      "metadata": {
        "id": "H5tJCCI-mfXG"
      },
      "execution_count": null,
      "outputs": []
    },
    {
      "cell_type": "code",
      "source": [
        "train_folder = \"car-plate-detection/train\"\n",
        "\n",
        "convert_files(train_images, train_labels, train_folder)\n",
        "\n",
        "\n",
        "\n",
        "val_folder = \"car-plate-detection/val\"\n",
        "\n",
        "convert_files(val_images, val_labels, val_folder)\n"
      ],
      "metadata": {
        "colab": {
          "base_uri": "https://localhost:8080/"
        },
        "id": "ZoEfDq3tpVgV",
        "outputId": "b16e18de-8c3c-403d-c093-6ebb95c25f50"
      },
      "execution_count": null,
      "outputs": [
        {
          "output_type": "stream",
          "name": "stdout",
          "text": [
            "Processed Cars217: Image and annotation moved to car-plate-detection/train\n",
            "Processed Cars417: Image and annotation moved to car-plate-detection/train\n",
            "Processed Cars126: Image and annotation moved to car-plate-detection/train\n",
            "Processed Cars174: Image and annotation moved to car-plate-detection/train\n",
            "Processed Cars366: Image and annotation moved to car-plate-detection/train\n",
            "Processed Cars342: Image and annotation moved to car-plate-detection/train\n",
            "Processed Cars304: Image and annotation moved to car-plate-detection/train\n",
            "Processed Cars87: Image and annotation moved to car-plate-detection/train\n",
            "Processed Cars370: Image and annotation moved to car-plate-detection/train\n",
            "Processed Cars289: Image and annotation moved to car-plate-detection/train\n",
            "Processed Cars247: Image and annotation moved to car-plate-detection/train\n",
            "Processed Cars102: Image and annotation moved to car-plate-detection/train\n",
            "Processed Cars139: Image and annotation moved to car-plate-detection/train\n",
            "Processed Cars420: Image and annotation moved to car-plate-detection/train\n",
            "Processed Cars334: Image and annotation moved to car-plate-detection/train\n",
            "Processed Cars46: Image and annotation moved to car-plate-detection/train\n",
            "Processed Cars54: Image and annotation moved to car-plate-detection/train\n",
            "Processed Cars112: Image and annotation moved to car-plate-detection/train\n",
            "Processed Cars70: Image and annotation moved to car-plate-detection/train\n",
            "Processed Cars216: Image and annotation moved to car-plate-detection/train\n",
            "Processed Cars378: Image and annotation moved to car-plate-detection/train\n",
            "Processed Cars100: Image and annotation moved to car-plate-detection/train\n",
            "Processed Cars114: Image and annotation moved to car-plate-detection/train\n",
            "Processed Cars221: Image and annotation moved to car-plate-detection/train\n",
            "Processed Cars152: Image and annotation moved to car-plate-detection/train\n",
            "Processed Cars288: Image and annotation moved to car-plate-detection/train\n",
            "Processed Cars203: Image and annotation moved to car-plate-detection/train\n",
            "Processed Cars155: Image and annotation moved to car-plate-detection/train\n",
            "Processed Cars198: Image and annotation moved to car-plate-detection/train\n",
            "Processed Cars346: Image and annotation moved to car-plate-detection/train\n",
            "Processed Cars282: Image and annotation moved to car-plate-detection/train\n",
            "Processed Cars124: Image and annotation moved to car-plate-detection/train\n",
            "Processed Cars37: Image and annotation moved to car-plate-detection/train\n",
            "Processed Cars286: Image and annotation moved to car-plate-detection/train\n",
            "Processed Cars415: Image and annotation moved to car-plate-detection/train\n",
            "Processed Cars121: Image and annotation moved to car-plate-detection/train\n",
            "Processed Cars104: Image and annotation moved to car-plate-detection/train\n",
            "Processed Cars225: Image and annotation moved to car-plate-detection/train\n",
            "Processed Cars64: Image and annotation moved to car-plate-detection/train\n",
            "Processed Cars196: Image and annotation moved to car-plate-detection/train\n",
            "Processed Cars19: Image and annotation moved to car-plate-detection/train\n",
            "Processed Cars98: Image and annotation moved to car-plate-detection/train\n",
            "Processed Cars74: Image and annotation moved to car-plate-detection/train\n",
            "Processed Cars204: Image and annotation moved to car-plate-detection/train\n",
            "Processed Cars200: Image and annotation moved to car-plate-detection/train\n",
            "Processed Cars55: Image and annotation moved to car-plate-detection/train\n",
            "Processed Cars88: Image and annotation moved to car-plate-detection/train\n",
            "Processed Cars388: Image and annotation moved to car-plate-detection/train\n",
            "Processed Cars397: Image and annotation moved to car-plate-detection/train\n",
            "Processed Cars379: Image and annotation moved to car-plate-detection/train\n",
            "Processed Cars94: Image and annotation moved to car-plate-detection/train\n",
            "Processed Cars57: Image and annotation moved to car-plate-detection/train\n",
            "Processed Cars385: Image and annotation moved to car-plate-detection/train\n",
            "Processed Cars295: Image and annotation moved to car-plate-detection/train\n",
            "Processed Cars402: Image and annotation moved to car-plate-detection/train\n",
            "Processed Cars264: Image and annotation moved to car-plate-detection/train\n",
            "Processed Cars197: Image and annotation moved to car-plate-detection/train\n",
            "Processed Cars275: Image and annotation moved to car-plate-detection/train\n",
            "Processed Cars229: Image and annotation moved to car-plate-detection/train\n",
            "Processed Cars278: Image and annotation moved to car-plate-detection/train\n",
            "Processed Cars393: Image and annotation moved to car-plate-detection/train\n",
            "Processed Cars253: Image and annotation moved to car-plate-detection/train\n",
            "Processed Cars173: Image and annotation moved to car-plate-detection/train\n",
            "Processed Cars328: Image and annotation moved to car-plate-detection/train\n",
            "Processed Cars4: Image and annotation moved to car-plate-detection/train\n",
            "Processed Cars165: Image and annotation moved to car-plate-detection/train\n",
            "Processed Cars287: Image and annotation moved to car-plate-detection/train\n",
            "Processed Cars24: Image and annotation moved to car-plate-detection/train\n",
            "Processed Cars205: Image and annotation moved to car-plate-detection/train\n",
            "Processed Cars391: Image and annotation moved to car-plate-detection/train\n",
            "Processed Cars337: Image and annotation moved to car-plate-detection/train\n",
            "Processed Cars78: Image and annotation moved to car-plate-detection/train\n",
            "Processed Cars318: Image and annotation moved to car-plate-detection/train\n",
            "Processed Cars404: Image and annotation moved to car-plate-detection/train\n",
            "Processed Cars271: Image and annotation moved to car-plate-detection/train\n",
            "Processed Cars257: Image and annotation moved to car-plate-detection/train\n",
            "Processed Cars399: Image and annotation moved to car-plate-detection/train\n",
            "Processed Cars309: Image and annotation moved to car-plate-detection/train\n",
            "Processed Cars130: Image and annotation moved to car-plate-detection/train\n",
            "Processed Cars223: Image and annotation moved to car-plate-detection/train\n",
            "Processed Cars384: Image and annotation moved to car-plate-detection/train\n",
            "Processed Cars299: Image and annotation moved to car-plate-detection/train\n",
            "Processed Cars36: Image and annotation moved to car-plate-detection/train\n",
            "Processed Cars311: Image and annotation moved to car-plate-detection/train\n",
            "Processed Cars151: Image and annotation moved to car-plate-detection/train\n",
            "Processed Cars199: Image and annotation moved to car-plate-detection/train\n",
            "Processed Cars272: Image and annotation moved to car-plate-detection/train\n",
            "Processed Cars431: Image and annotation moved to car-plate-detection/train\n",
            "Processed Cars103: Image and annotation moved to car-plate-detection/train\n",
            "Processed Cars75: Image and annotation moved to car-plate-detection/train\n",
            "Processed Cars368: Image and annotation moved to car-plate-detection/train\n",
            "Processed Cars240: Image and annotation moved to car-plate-detection/train\n",
            "Processed Cars233: Image and annotation moved to car-plate-detection/train\n",
            "Processed Cars258: Image and annotation moved to car-plate-detection/train\n",
            "Processed Cars107: Image and annotation moved to car-plate-detection/train\n",
            "Processed Cars306: Image and annotation moved to car-plate-detection/train\n",
            "Processed Cars191: Image and annotation moved to car-plate-detection/train\n",
            "Processed Cars171: Image and annotation moved to car-plate-detection/train\n",
            "Processed Cars32: Image and annotation moved to car-plate-detection/train\n",
            "Processed Cars343: Image and annotation moved to car-plate-detection/train\n",
            "Processed Cars249: Image and annotation moved to car-plate-detection/train\n",
            "Processed Cars76: Image and annotation moved to car-plate-detection/train\n",
            "Processed Cars321: Image and annotation moved to car-plate-detection/train\n",
            "Processed Cars59: Image and annotation moved to car-plate-detection/train\n",
            "Processed Cars410: Image and annotation moved to car-plate-detection/train\n",
            "Processed Cars273: Image and annotation moved to car-plate-detection/train\n",
            "Processed Cars179: Image and annotation moved to car-plate-detection/train\n",
            "Processed Cars302: Image and annotation moved to car-plate-detection/train\n",
            "Processed Cars245: Image and annotation moved to car-plate-detection/train\n",
            "Processed Cars42: Image and annotation moved to car-plate-detection/train\n",
            "Processed Cars230: Image and annotation moved to car-plate-detection/train\n",
            "Processed Cars10: Image and annotation moved to car-plate-detection/train\n",
            "Processed Cars181: Image and annotation moved to car-plate-detection/train\n",
            "Processed Cars160: Image and annotation moved to car-plate-detection/train\n",
            "Processed Cars312: Image and annotation moved to car-plate-detection/train\n",
            "Processed Cars209: Image and annotation moved to car-plate-detection/train\n",
            "Processed Cars387: Image and annotation moved to car-plate-detection/train\n",
            "Processed Cars185: Image and annotation moved to car-plate-detection/train\n",
            "Processed Cars227: Image and annotation moved to car-plate-detection/train\n",
            "Processed Cars395: Image and annotation moved to car-plate-detection/train\n",
            "Processed Cars297: Image and annotation moved to car-plate-detection/train\n",
            "Processed Cars186: Image and annotation moved to car-plate-detection/train\n",
            "Processed Cars60: Image and annotation moved to car-plate-detection/train\n",
            "Processed Cars16: Image and annotation moved to car-plate-detection/train\n",
            "Processed Cars119: Image and annotation moved to car-plate-detection/train\n",
            "Processed Cars131: Image and annotation moved to car-plate-detection/train\n",
            "Processed Cars228: Image and annotation moved to car-plate-detection/train\n",
            "Processed Cars208: Image and annotation moved to car-plate-detection/train\n",
            "Processed Cars323: Image and annotation moved to car-plate-detection/train\n",
            "Processed Cars280: Image and annotation moved to car-plate-detection/train\n",
            "Processed Cars262: Image and annotation moved to car-plate-detection/train\n",
            "Processed Cars159: Image and annotation moved to car-plate-detection/train\n",
            "Processed Cars381: Image and annotation moved to car-plate-detection/train\n",
            "Processed Cars5: Image and annotation moved to car-plate-detection/train\n",
            "Processed Cars81: Image and annotation moved to car-plate-detection/train\n",
            "Processed Cars372: Image and annotation moved to car-plate-detection/train\n",
            "Processed Cars63: Image and annotation moved to car-plate-detection/train\n",
            "Processed Cars71: Image and annotation moved to car-plate-detection/train\n",
            "Processed Cars72: Image and annotation moved to car-plate-detection/train\n",
            "Processed Cars210: Image and annotation moved to car-plate-detection/train\n",
            "Processed Cars23: Image and annotation moved to car-plate-detection/train\n",
            "Processed Cars398: Image and annotation moved to car-plate-detection/train\n",
            "Processed Cars333: Image and annotation moved to car-plate-detection/train\n",
            "Processed Cars3: Image and annotation moved to car-plate-detection/train\n",
            "Processed Cars303: Image and annotation moved to car-plate-detection/train\n",
            "Processed Cars176: Image and annotation moved to car-plate-detection/train\n",
            "Processed Cars427: Image and annotation moved to car-plate-detection/train\n",
            "Processed Cars296: Image and annotation moved to car-plate-detection/train\n",
            "Processed Cars319: Image and annotation moved to car-plate-detection/train\n",
            "Processed Cars45: Image and annotation moved to car-plate-detection/train\n",
            "Processed Cars50: Image and annotation moved to car-plate-detection/train\n",
            "Processed Cars353: Image and annotation moved to car-plate-detection/train\n",
            "Processed Cars79: Image and annotation moved to car-plate-detection/train\n",
            "Processed Cars263: Image and annotation moved to car-plate-detection/train\n",
            "Processed Cars61: Image and annotation moved to car-plate-detection/train\n",
            "Processed Cars82: Image and annotation moved to car-plate-detection/train\n",
            "Processed Cars73: Image and annotation moved to car-plate-detection/train\n",
            "Processed Cars375: Image and annotation moved to car-plate-detection/train\n",
            "Processed Cars214: Image and annotation moved to car-plate-detection/train\n",
            "Processed Cars132: Image and annotation moved to car-plate-detection/train\n",
            "Processed Cars108: Image and annotation moved to car-plate-detection/train\n",
            "Processed Cars363: Image and annotation moved to car-plate-detection/train\n",
            "Processed Cars265: Image and annotation moved to car-plate-detection/train\n",
            "Processed Cars412: Image and annotation moved to car-plate-detection/train\n",
            "Processed Cars348: Image and annotation moved to car-plate-detection/train\n",
            "Processed Cars2: Image and annotation moved to car-plate-detection/train\n",
            "Processed Cars26: Image and annotation moved to car-plate-detection/train\n",
            "Processed Cars338: Image and annotation moved to car-plate-detection/train\n",
            "Processed Cars52: Image and annotation moved to car-plate-detection/train\n",
            "Processed Cars8: Image and annotation moved to car-plate-detection/train\n",
            "Processed Cars354: Image and annotation moved to car-plate-detection/train\n",
            "Processed Cars85: Image and annotation moved to car-plate-detection/train\n",
            "Processed Cars38: Image and annotation moved to car-plate-detection/train\n",
            "Processed Cars308: Image and annotation moved to car-plate-detection/train\n",
            "Processed Cars419: Image and annotation moved to car-plate-detection/train\n",
            "Processed Cars246: Image and annotation moved to car-plate-detection/train\n",
            "Processed Cars220: Image and annotation moved to car-plate-detection/train\n",
            "Processed Cars276: Image and annotation moved to car-plate-detection/train\n",
            "Processed Cars330: Image and annotation moved to car-plate-detection/train\n",
            "Processed Cars307: Image and annotation moved to car-plate-detection/train\n",
            "Processed Cars201: Image and annotation moved to car-plate-detection/train\n",
            "Processed Cars206: Image and annotation moved to car-plate-detection/train\n",
            "Processed Cars30: Image and annotation moved to car-plate-detection/train\n",
            "Processed Cars418: Image and annotation moved to car-plate-detection/train\n",
            "Processed Cars360: Image and annotation moved to car-plate-detection/train\n",
            "Processed Cars212: Image and annotation moved to car-plate-detection/train\n",
            "Processed Cars429: Image and annotation moved to car-plate-detection/train\n",
            "Processed Cars195: Image and annotation moved to car-plate-detection/train\n",
            "Processed Cars389: Image and annotation moved to car-plate-detection/train\n",
            "Processed Cars218: Image and annotation moved to car-plate-detection/train\n",
            "Processed Cars383: Image and annotation moved to car-plate-detection/train\n",
            "Processed Cars138: Image and annotation moved to car-plate-detection/train\n",
            "Processed Cars69: Image and annotation moved to car-plate-detection/train\n",
            "Processed Cars157: Image and annotation moved to car-plate-detection/train\n",
            "Processed Cars175: Image and annotation moved to car-plate-detection/train\n",
            "Processed Cars316: Image and annotation moved to car-plate-detection/train\n",
            "Processed Cars266: Image and annotation moved to car-plate-detection/train\n",
            "Processed Cars241: Image and annotation moved to car-plate-detection/train\n",
            "Processed Cars109: Image and annotation moved to car-plate-detection/train\n",
            "Processed Cars13: Image and annotation moved to car-plate-detection/train\n",
            "Processed Cars123: Image and annotation moved to car-plate-detection/train\n",
            "Processed Cars251: Image and annotation moved to car-plate-detection/train\n",
            "Processed Cars226: Image and annotation moved to car-plate-detection/train\n",
            "Processed Cars41: Image and annotation moved to car-plate-detection/train\n",
            "Processed Cars365: Image and annotation moved to car-plate-detection/train\n",
            "Processed Cars298: Image and annotation moved to car-plate-detection/train\n",
            "Processed Cars184: Image and annotation moved to car-plate-detection/train\n",
            "Processed Cars144: Image and annotation moved to car-plate-detection/train\n",
            "Processed Cars314: Image and annotation moved to car-plate-detection/train\n",
            "Processed Cars390: Image and annotation moved to car-plate-detection/train\n",
            "Processed Cars9: Image and annotation moved to car-plate-detection/train\n",
            "Processed Cars259: Image and annotation moved to car-plate-detection/train\n",
            "Processed Cars135: Image and annotation moved to car-plate-detection/train\n",
            "Processed Cars49: Image and annotation moved to car-plate-detection/train\n",
            "Processed Cars284: Image and annotation moved to car-plate-detection/train\n",
            "Processed Cars352: Image and annotation moved to car-plate-detection/train\n",
            "Processed Cars327: Image and annotation moved to car-plate-detection/train\n",
            "Processed Cars422: Image and annotation moved to car-plate-detection/train\n",
            "Processed Cars101: Image and annotation moved to car-plate-detection/train\n",
            "Processed Cars329: Image and annotation moved to car-plate-detection/train\n",
            "Processed Cars6: Image and annotation moved to car-plate-detection/train\n",
            "Processed Cars189: Image and annotation moved to car-plate-detection/train\n",
            "Processed Cars301: Image and annotation moved to car-plate-detection/train\n",
            "Processed Cars432: Image and annotation moved to car-plate-detection/train\n",
            "Processed Cars290: Image and annotation moved to car-plate-detection/train\n",
            "Processed Cars252: Image and annotation moved to car-plate-detection/train\n",
            "Processed Cars187: Image and annotation moved to car-plate-detection/train\n",
            "Processed Cars361: Image and annotation moved to car-plate-detection/train\n",
            "Processed Cars292: Image and annotation moved to car-plate-detection/train\n",
            "Processed Cars153: Image and annotation moved to car-plate-detection/train\n",
            "Processed Cars140: Image and annotation moved to car-plate-detection/train\n",
            "Processed Cars127: Image and annotation moved to car-plate-detection/train\n",
            "Processed Cars339: Image and annotation moved to car-plate-detection/train\n",
            "Processed Cars279: Image and annotation moved to car-plate-detection/train\n",
            "Processed Cars58: Image and annotation moved to car-plate-detection/train\n",
            "Processed Cars122: Image and annotation moved to car-plate-detection/train\n",
            "Processed Cars47: Image and annotation moved to car-plate-detection/train\n",
            "Processed Cars305: Image and annotation moved to car-plate-detection/train\n",
            "Processed Cars332: Image and annotation moved to car-plate-detection/train\n",
            "Processed Cars358: Image and annotation moved to car-plate-detection/train\n",
            "Processed Cars244: Image and annotation moved to car-plate-detection/train\n",
            "Processed Cars430: Image and annotation moved to car-plate-detection/train\n",
            "Processed Cars222: Image and annotation moved to car-plate-detection/train\n",
            "Processed Cars154: Image and annotation moved to car-plate-detection/train\n",
            "Processed Cars22: Image and annotation moved to car-plate-detection/train\n",
            "Processed Cars213: Image and annotation moved to car-plate-detection/train\n",
            "Processed Cars105: Image and annotation moved to car-plate-detection/train\n",
            "Processed Cars392: Image and annotation moved to car-plate-detection/train\n",
            "Processed Cars156: Image and annotation moved to car-plate-detection/train\n",
            "Processed Cars369: Image and annotation moved to car-plate-detection/train\n",
            "Processed Cars110: Image and annotation moved to car-plate-detection/train\n",
            "Processed Cars239: Image and annotation moved to car-plate-detection/train\n",
            "Processed Cars134: Image and annotation moved to car-plate-detection/train\n",
            "Processed Cars68: Image and annotation moved to car-plate-detection/train\n",
            "Processed Cars414: Image and annotation moved to car-plate-detection/train\n",
            "Processed Cars293: Image and annotation moved to car-plate-detection/train\n",
            "Processed Cars35: Image and annotation moved to car-plate-detection/train\n",
            "Processed Cars48: Image and annotation moved to car-plate-detection/train\n",
            "Processed Cars401: Image and annotation moved to car-plate-detection/train\n",
            "Processed Cars310: Image and annotation moved to car-plate-detection/train\n",
            "Processed Cars285: Image and annotation moved to car-plate-detection/train\n",
            "Processed Cars29: Image and annotation moved to car-plate-detection/train\n",
            "Processed Cars364: Image and annotation moved to car-plate-detection/train\n",
            "Processed Cars66: Image and annotation moved to car-plate-detection/train\n",
            "Processed Cars324: Image and annotation moved to car-plate-detection/train\n",
            "Processed Cars90: Image and annotation moved to car-plate-detection/train\n",
            "Processed Cars67: Image and annotation moved to car-plate-detection/train\n",
            "Processed Cars371: Image and annotation moved to car-plate-detection/train\n",
            "Processed Cars413: Image and annotation moved to car-plate-detection/train\n",
            "Processed Cars340: Image and annotation moved to car-plate-detection/train\n",
            "Processed Cars28: Image and annotation moved to car-plate-detection/train\n",
            "Processed Cars243: Image and annotation moved to car-plate-detection/train\n",
            "Processed Cars137: Image and annotation moved to car-plate-detection/train\n",
            "Processed Cars294: Image and annotation moved to car-plate-detection/train\n",
            "Processed Cars27: Image and annotation moved to car-plate-detection/train\n",
            "Processed Cars377: Image and annotation moved to car-plate-detection/train\n",
            "Processed Cars331: Image and annotation moved to car-plate-detection/train\n",
            "Processed Cars193: Image and annotation moved to car-plate-detection/train\n",
            "Processed Cars146: Image and annotation moved to car-plate-detection/train\n",
            "Processed Cars1: Image and annotation moved to car-plate-detection/train\n",
            "Processed Cars86: Image and annotation moved to car-plate-detection/train\n",
            "Processed Cars142: Image and annotation moved to car-plate-detection/train\n",
            "Processed Cars170: Image and annotation moved to car-plate-detection/train\n",
            "Processed Cars283: Image and annotation moved to car-plate-detection/train\n",
            "Processed Cars129: Image and annotation moved to car-plate-detection/train\n",
            "Processed Cars335: Image and annotation moved to car-plate-detection/train\n",
            "Processed Cars428: Image and annotation moved to car-plate-detection/train\n",
            "Processed Cars180: Image and annotation moved to car-plate-detection/train\n",
            "Processed Cars403: Image and annotation moved to car-plate-detection/train\n",
            "Processed Cars145: Image and annotation moved to car-plate-detection/train\n",
            "Processed Cars409: Image and annotation moved to car-plate-detection/train\n",
            "Processed Cars336: Image and annotation moved to car-plate-detection/train\n",
            "Processed Cars315: Image and annotation moved to car-plate-detection/train\n",
            "Processed Cars11: Image and annotation moved to car-plate-detection/train\n",
            "Processed Cars382: Image and annotation moved to car-plate-detection/train\n",
            "Processed Cars178: Image and annotation moved to car-plate-detection/train\n",
            "Processed Cars344: Image and annotation moved to car-plate-detection/train\n",
            "Processed Cars248: Image and annotation moved to car-plate-detection/train\n",
            "Processed Cars394: Image and annotation moved to car-plate-detection/train\n",
            "Processed Cars93: Image and annotation moved to car-plate-detection/train\n",
            "Processed Cars219: Image and annotation moved to car-plate-detection/train\n",
            "Processed Cars374: Image and annotation moved to car-plate-detection/train\n",
            "Processed Cars84: Image and annotation moved to car-plate-detection/train\n",
            "Processed Cars386: Image and annotation moved to car-plate-detection/train\n",
            "Processed Cars317: Image and annotation moved to car-plate-detection/train\n",
            "Processed Cars147: Image and annotation moved to car-plate-detection/train\n",
            "Processed Cars425: Image and annotation moved to car-plate-detection/train\n",
            "Processed Cars143: Image and annotation moved to car-plate-detection/train\n",
            "Processed Cars255: Image and annotation moved to car-plate-detection/train\n",
            "Processed Cars269: Image and annotation moved to car-plate-detection/train\n",
            "Processed Cars97: Image and annotation moved to car-plate-detection/train\n",
            "Processed Cars267: Image and annotation moved to car-plate-detection/train\n",
            "Processed Cars250: Image and annotation moved to car-plate-detection/train\n",
            "Processed Cars150: Image and annotation moved to car-plate-detection/train\n",
            "Processed Cars141: Image and annotation moved to car-plate-detection/train\n",
            "Processed Cars408: Image and annotation moved to car-plate-detection/train\n",
            "Processed Cars31: Image and annotation moved to car-plate-detection/train\n",
            "Processed Cars325: Image and annotation moved to car-plate-detection/train\n",
            "Processed Cars117: Image and annotation moved to car-plate-detection/train\n",
            "Processed Cars380: Image and annotation moved to car-plate-detection/train\n",
            "Processed Cars242: Image and annotation moved to car-plate-detection/train\n",
            "Processed Cars347: Image and annotation moved to car-plate-detection/train\n",
            "Processed Cars270: Image and annotation moved to car-plate-detection/train\n",
            "Processed Cars56: Image and annotation moved to car-plate-detection/train\n",
            "Processed Cars362: Image and annotation moved to car-plate-detection/train\n",
            "Processed Cars407: Image and annotation moved to car-plate-detection/train\n",
            "Processed Cars33: Image and annotation moved to car-plate-detection/train\n",
            "Processed Cars376: Image and annotation moved to car-plate-detection/train\n",
            "Processed Cars232: Image and annotation moved to car-plate-detection/train\n",
            "Processed Cars215: Image and annotation moved to car-plate-detection/train\n",
            "Processed Cars234: Image and annotation moved to car-plate-detection/train\n",
            "Processed Cars421: Image and annotation moved to car-plate-detection/train\n",
            "Processed Cars188: Image and annotation moved to car-plate-detection/train\n",
            "Processed Cars44: Image and annotation moved to car-plate-detection/train\n",
            "Processed Cars177: Image and annotation moved to car-plate-detection/train\n",
            "Processed Cars396: Image and annotation moved to car-plate-detection/train\n",
            "Processed Cars291: Image and annotation moved to car-plate-detection/train\n",
            "Processed Cars207: Image and annotation moved to car-plate-detection/train\n",
            "Processed Cars99: Image and annotation moved to car-plate-detection/train\n",
            "Processed Cars116: Image and annotation moved to car-plate-detection/train\n",
            "Processed Cars268: Image and annotation moved to car-plate-detection/train\n",
            "Processed Cars162: Image and annotation moved to car-plate-detection/train\n",
            "Processed Cars194: Image and annotation moved to car-plate-detection/train\n",
            "Processed Cars341: Image and annotation moved to car-plate-detection/train\n",
            "Processed Cars411: Image and annotation moved to car-plate-detection/train\n",
            "Processed Cars190: Image and annotation moved to car-plate-detection/train\n",
            "Processed Cars92: Image and annotation moved to car-plate-detection/val\n",
            "Processed Cars166: Image and annotation moved to car-plate-detection/val\n",
            "Processed Cars261: Image and annotation moved to car-plate-detection/val\n",
            "Processed Cars125: Image and annotation moved to car-plate-detection/val\n",
            "Processed Cars426: Image and annotation moved to car-plate-detection/val\n",
            "Processed Cars77: Image and annotation moved to car-plate-detection/val\n",
            "Processed Cars326: Image and annotation moved to car-plate-detection/val\n",
            "Processed Cars238: Image and annotation moved to car-plate-detection/val\n",
            "Processed Cars25: Image and annotation moved to car-plate-detection/val\n",
            "Processed Cars83: Image and annotation moved to car-plate-detection/val\n",
            "Processed Cars235: Image and annotation moved to car-plate-detection/val\n",
            "Processed Cars161: Image and annotation moved to car-plate-detection/val\n",
            "Processed Cars281: Image and annotation moved to car-plate-detection/val\n",
            "Processed Cars40: Image and annotation moved to car-plate-detection/val\n",
            "Processed Cars133: Image and annotation moved to car-plate-detection/val\n",
            "Processed Cars65: Image and annotation moved to car-plate-detection/val\n",
            "Processed Cars345: Image and annotation moved to car-plate-detection/val\n",
            "Processed Cars163: Image and annotation moved to car-plate-detection/val\n",
            "Processed Cars106: Image and annotation moved to car-plate-detection/val\n",
            "Processed Cars351: Image and annotation moved to car-plate-detection/val\n",
            "Processed Cars357: Image and annotation moved to car-plate-detection/val\n",
            "Processed Cars424: Image and annotation moved to car-plate-detection/val\n",
            "Processed Cars416: Image and annotation moved to car-plate-detection/val\n",
            "Processed Cars148: Image and annotation moved to car-plate-detection/val\n",
            "Processed Cars359: Image and annotation moved to car-plate-detection/val\n",
            "Processed Cars277: Image and annotation moved to car-plate-detection/val\n",
            "Processed Cars231: Image and annotation moved to car-plate-detection/val\n",
            "Processed Cars62: Image and annotation moved to car-plate-detection/val\n",
            "Processed Cars405: Image and annotation moved to car-plate-detection/val\n",
            "Processed Cars34: Image and annotation moved to car-plate-detection/val\n",
            "Processed Cars211: Image and annotation moved to car-plate-detection/val\n",
            "Processed Cars7: Image and annotation moved to car-plate-detection/val\n",
            "Processed Cars373: Image and annotation moved to car-plate-detection/val\n",
            "Processed Cars182: Image and annotation moved to car-plate-detection/val\n",
            "Processed Cars95: Image and annotation moved to car-plate-detection/val\n",
            "Processed Cars168: Image and annotation moved to car-plate-detection/val\n",
            "Processed Cars367: Image and annotation moved to car-plate-detection/val\n",
            "Processed Cars224: Image and annotation moved to car-plate-detection/val\n",
            "Processed Cars39: Image and annotation moved to car-plate-detection/val\n",
            "Processed Cars96: Image and annotation moved to car-plate-detection/val\n",
            "Processed Cars300: Image and annotation moved to car-plate-detection/val\n",
            "Processed Cars237: Image and annotation moved to car-plate-detection/val\n",
            "Processed Cars169: Image and annotation moved to car-plate-detection/val\n",
            "Processed Cars164: Image and annotation moved to car-plate-detection/val\n",
            "Processed Cars128: Image and annotation moved to car-plate-detection/val\n",
            "Processed Cars202: Image and annotation moved to car-plate-detection/val\n",
            "Processed Cars400: Image and annotation moved to car-plate-detection/val\n",
            "Processed Cars167: Image and annotation moved to car-plate-detection/val\n",
            "Processed Cars320: Image and annotation moved to car-plate-detection/val\n",
            "Processed Cars51: Image and annotation moved to car-plate-detection/val\n",
            "Processed Cars111: Image and annotation moved to car-plate-detection/val\n",
            "Processed Cars313: Image and annotation moved to car-plate-detection/val\n",
            "Processed Cars406: Image and annotation moved to car-plate-detection/val\n",
            "Processed Cars0: Image and annotation moved to car-plate-detection/val\n",
            "Processed Cars115: Image and annotation moved to car-plate-detection/val\n",
            "Processed Cars349: Image and annotation moved to car-plate-detection/val\n",
            "Processed Cars356: Image and annotation moved to car-plate-detection/val\n",
            "Processed Cars149: Image and annotation moved to car-plate-detection/val\n",
            "Processed Cars256: Image and annotation moved to car-plate-detection/val\n",
            "Processed Cars172: Image and annotation moved to car-plate-detection/val\n",
            "Processed Cars423: Image and annotation moved to car-plate-detection/val\n",
            "Processed Cars355: Image and annotation moved to car-plate-detection/val\n",
            "Processed Cars17: Image and annotation moved to car-plate-detection/val\n",
            "Processed Cars18: Image and annotation moved to car-plate-detection/val\n",
            "Processed Cars43: Image and annotation moved to car-plate-detection/val\n",
            "Processed Cars120: Image and annotation moved to car-plate-detection/val\n",
            "Processed Cars260: Image and annotation moved to car-plate-detection/val\n",
            "Processed Cars322: Image and annotation moved to car-plate-detection/val\n",
            "Processed Cars236: Image and annotation moved to car-plate-detection/val\n",
            "Processed Cars136: Image and annotation moved to car-plate-detection/val\n",
            "Processed Cars274: Image and annotation moved to car-plate-detection/val\n",
            "Processed Cars89: Image and annotation moved to car-plate-detection/val\n",
            "Processed Cars192: Image and annotation moved to car-plate-detection/val\n",
            "Processed Cars80: Image and annotation moved to car-plate-detection/val\n",
            "Processed Cars91: Image and annotation moved to car-plate-detection/val\n",
            "Processed Cars350: Image and annotation moved to car-plate-detection/val\n",
            "Processed Cars118: Image and annotation moved to car-plate-detection/val\n",
            "Processed Cars14: Image and annotation moved to car-plate-detection/val\n",
            "Processed Cars254: Image and annotation moved to car-plate-detection/val\n",
            "Processed Cars20: Image and annotation moved to car-plate-detection/val\n",
            "Processed Cars183: Image and annotation moved to car-plate-detection/val\n",
            "Processed Cars53: Image and annotation moved to car-plate-detection/val\n",
            "Processed Cars15: Image and annotation moved to car-plate-detection/val\n",
            "Processed Cars21: Image and annotation moved to car-plate-detection/val\n",
            "Processed Cars12: Image and annotation moved to car-plate-detection/val\n",
            "Processed Cars113: Image and annotation moved to car-plate-detection/val\n",
            "Processed Cars158: Image and annotation moved to car-plate-detection/val\n"
          ]
        }
      ]
    },
    {
      "cell_type": "code",
      "source": [
        "print(len(os.listdir(\"car-plate-detection/train/images\")))\n",
        "print(len(os.listdir(\"car-plate-detection/val/images\")))"
      ],
      "metadata": {
        "colab": {
          "base_uri": "https://localhost:8080/"
        },
        "id": "3Riw5z7PqSwU",
        "outputId": "d2e9ca9f-0d1e-486c-ac76-3d427269e92e"
      },
      "execution_count": null,
      "outputs": [
        {
          "output_type": "stream",
          "name": "stdout",
          "text": [
            "346\n",
            "87\n"
          ]
        }
      ]
    },
    {
      "cell_type": "code",
      "source": [
        "import yaml\n",
        "import os\n",
        "\n",
        "# Define your paths and class names\n",
        "train_folder = \"/content/drive/MyDrive/Projects/LPD/car-plate-detection/train/images\"\n",
        "val_folder = \"/content/drive/MyDrive/Projects/LPD/car-plate-detection/val/images\"\n",
        "class_names = [\"license\"]  # List of class names\n",
        "\n",
        "# Define the YAML structure\n",
        "data = {\n",
        "    'train': os.path.abspath(train_folder),  # Absolute path to train images\n",
        "    'val': os.path.abspath(val_folder),      # Absolute path to val images\n",
        "    'nc': len(class_names),                  # Number of classes\n",
        "    'names': class_names                     # List of class names\n",
        "}\n",
        "\n",
        "# Write the YAML file to a specific location\n",
        "yaml_file_path = '/content/drive/MyDrive/Projects/LPD/data.yaml'\n",
        "with open(yaml_file_path, 'w') as file:\n",
        "    yaml.dump(data, file, default_flow_style=False)\n",
        "\n",
        "print(f\"YAML file created successfully at '{yaml_file_path}'\")\n"
      ],
      "metadata": {
        "colab": {
          "base_uri": "https://localhost:8080/"
        },
        "id": "hFLOmfJOsKkS",
        "outputId": "674c1a6b-0d99-4cf5-9602-53d497e1727a"
      },
      "execution_count": null,
      "outputs": [
        {
          "output_type": "stream",
          "name": "stdout",
          "text": [
            "YAML file created successfully at '/content/drive/MyDrive/Projects/LPD/data.yaml'\n"
          ]
        }
      ]
    },
    {
      "cell_type": "markdown",
      "source": [
        "## Yolov8"
      ],
      "metadata": {
        "id": "4P-3bI9-qmZ8"
      }
    },
    {
      "cell_type": "code",
      "source": [
        "pip install ultralytics"
      ],
      "metadata": {
        "colab": {
          "base_uri": "https://localhost:8080/"
        },
        "id": "cOKnpEC1qbGy",
        "outputId": "16e06789-c452-4b60-869b-001a7734bd43"
      },
      "execution_count": 4,
      "outputs": [
        {
          "output_type": "stream",
          "name": "stdout",
          "text": [
            "Collecting ultralytics\n",
            "  Downloading ultralytics-8.2.95-py3-none-any.whl.metadata (39 kB)\n",
            "Requirement already satisfied: numpy<2.0.0,>=1.23.0 in /usr/local/lib/python3.10/dist-packages (from ultralytics) (1.26.4)\n",
            "Requirement already satisfied: matplotlib>=3.3.0 in /usr/local/lib/python3.10/dist-packages (from ultralytics) (3.7.1)\n",
            "Requirement already satisfied: opencv-python>=4.6.0 in /usr/local/lib/python3.10/dist-packages (from ultralytics) (4.10.0.84)\n",
            "Requirement already satisfied: pillow>=7.1.2 in /usr/local/lib/python3.10/dist-packages (from ultralytics) (9.4.0)\n",
            "Requirement already satisfied: pyyaml>=5.3.1 in /usr/local/lib/python3.10/dist-packages (from ultralytics) (6.0.2)\n",
            "Requirement already satisfied: requests>=2.23.0 in /usr/local/lib/python3.10/dist-packages (from ultralytics) (2.32.3)\n",
            "Requirement already satisfied: scipy>=1.4.1 in /usr/local/lib/python3.10/dist-packages (from ultralytics) (1.13.1)\n",
            "Requirement already satisfied: torch>=1.8.0 in /usr/local/lib/python3.10/dist-packages (from ultralytics) (2.4.0+cu121)\n",
            "Requirement already satisfied: torchvision>=0.9.0 in /usr/local/lib/python3.10/dist-packages (from ultralytics) (0.19.0+cu121)\n",
            "Requirement already satisfied: tqdm>=4.64.0 in /usr/local/lib/python3.10/dist-packages (from ultralytics) (4.66.5)\n",
            "Requirement already satisfied: psutil in /usr/local/lib/python3.10/dist-packages (from ultralytics) (5.9.5)\n",
            "Requirement already satisfied: py-cpuinfo in /usr/local/lib/python3.10/dist-packages (from ultralytics) (9.0.0)\n",
            "Requirement already satisfied: pandas>=1.1.4 in /usr/local/lib/python3.10/dist-packages (from ultralytics) (2.1.4)\n",
            "Requirement already satisfied: seaborn>=0.11.0 in /usr/local/lib/python3.10/dist-packages (from ultralytics) (0.13.1)\n",
            "Collecting ultralytics-thop>=2.0.0 (from ultralytics)\n",
            "  Downloading ultralytics_thop-2.0.6-py3-none-any.whl.metadata (9.1 kB)\n",
            "Requirement already satisfied: contourpy>=1.0.1 in /usr/local/lib/python3.10/dist-packages (from matplotlib>=3.3.0->ultralytics) (1.3.0)\n",
            "Requirement already satisfied: cycler>=0.10 in /usr/local/lib/python3.10/dist-packages (from matplotlib>=3.3.0->ultralytics) (0.12.1)\n",
            "Requirement already satisfied: fonttools>=4.22.0 in /usr/local/lib/python3.10/dist-packages (from matplotlib>=3.3.0->ultralytics) (4.53.1)\n",
            "Requirement already satisfied: kiwisolver>=1.0.1 in /usr/local/lib/python3.10/dist-packages (from matplotlib>=3.3.0->ultralytics) (1.4.7)\n",
            "Requirement already satisfied: packaging>=20.0 in /usr/local/lib/python3.10/dist-packages (from matplotlib>=3.3.0->ultralytics) (24.1)\n",
            "Requirement already satisfied: pyparsing>=2.3.1 in /usr/local/lib/python3.10/dist-packages (from matplotlib>=3.3.0->ultralytics) (3.1.4)\n",
            "Requirement already satisfied: python-dateutil>=2.7 in /usr/local/lib/python3.10/dist-packages (from matplotlib>=3.3.0->ultralytics) (2.8.2)\n",
            "Requirement already satisfied: pytz>=2020.1 in /usr/local/lib/python3.10/dist-packages (from pandas>=1.1.4->ultralytics) (2024.2)\n",
            "Requirement already satisfied: tzdata>=2022.1 in /usr/local/lib/python3.10/dist-packages (from pandas>=1.1.4->ultralytics) (2024.1)\n",
            "Requirement already satisfied: charset-normalizer<4,>=2 in /usr/local/lib/python3.10/dist-packages (from requests>=2.23.0->ultralytics) (3.3.2)\n",
            "Requirement already satisfied: idna<4,>=2.5 in /usr/local/lib/python3.10/dist-packages (from requests>=2.23.0->ultralytics) (3.8)\n",
            "Requirement already satisfied: urllib3<3,>=1.21.1 in /usr/local/lib/python3.10/dist-packages (from requests>=2.23.0->ultralytics) (2.0.7)\n",
            "Requirement already satisfied: certifi>=2017.4.17 in /usr/local/lib/python3.10/dist-packages (from requests>=2.23.0->ultralytics) (2024.8.30)\n",
            "Requirement already satisfied: filelock in /usr/local/lib/python3.10/dist-packages (from torch>=1.8.0->ultralytics) (3.16.0)\n",
            "Requirement already satisfied: typing-extensions>=4.8.0 in /usr/local/lib/python3.10/dist-packages (from torch>=1.8.0->ultralytics) (4.12.2)\n",
            "Requirement already satisfied: sympy in /usr/local/lib/python3.10/dist-packages (from torch>=1.8.0->ultralytics) (1.13.2)\n",
            "Requirement already satisfied: networkx in /usr/local/lib/python3.10/dist-packages (from torch>=1.8.0->ultralytics) (3.3)\n",
            "Requirement already satisfied: jinja2 in /usr/local/lib/python3.10/dist-packages (from torch>=1.8.0->ultralytics) (3.1.4)\n",
            "Requirement already satisfied: fsspec in /usr/local/lib/python3.10/dist-packages (from torch>=1.8.0->ultralytics) (2024.6.1)\n",
            "Requirement already satisfied: six>=1.5 in /usr/local/lib/python3.10/dist-packages (from python-dateutil>=2.7->matplotlib>=3.3.0->ultralytics) (1.16.0)\n",
            "Requirement already satisfied: MarkupSafe>=2.0 in /usr/local/lib/python3.10/dist-packages (from jinja2->torch>=1.8.0->ultralytics) (2.1.5)\n",
            "Requirement already satisfied: mpmath<1.4,>=1.1.0 in /usr/local/lib/python3.10/dist-packages (from sympy->torch>=1.8.0->ultralytics) (1.3.0)\n",
            "Downloading ultralytics-8.2.95-py3-none-any.whl (872 kB)\n",
            "\u001b[2K   \u001b[90m━━━━━━━━━━━━━━━━━━━━━━━━━━━━━━━━━━━━━━━━\u001b[0m \u001b[32m872.8/872.8 kB\u001b[0m \u001b[31m15.1 MB/s\u001b[0m eta \u001b[36m0:00:00\u001b[0m\n",
            "\u001b[?25hDownloading ultralytics_thop-2.0.6-py3-none-any.whl (26 kB)\n",
            "Installing collected packages: ultralytics-thop, ultralytics\n",
            "Successfully installed ultralytics-8.2.95 ultralytics-thop-2.0.6\n"
          ]
        }
      ]
    },
    {
      "cell_type": "code",
      "source": [
        "from ultralytics import YOLO\n",
        "model = YOLO('yolov8n.pt')"
      ],
      "metadata": {
        "id": "_mcXJ2j-swSA"
      },
      "execution_count": null,
      "outputs": []
    },
    {
      "cell_type": "code",
      "source": [
        "model.train(\n",
        "    data='data.yaml',  # Path to the dataset configuration file\n",
        "    epochs=100,            # Number of training epochs\n",
        "    batch=8,              # Batch size\n",
        "    device='cuda',         # Use GPU for training\n",
        "    imgsz=320,             # Image size (width and height) for training\n",
        "    cache=True             # Cache images for faster training\n",
        ")"
      ],
      "metadata": {
        "colab": {
          "base_uri": "https://localhost:8080/"
        },
        "id": "jypXx0eixiEP",
        "outputId": "873085e7-9835-4968-f947-923af125e5b3"
      },
      "execution_count": null,
      "outputs": [
        {
          "output_type": "stream",
          "name": "stdout",
          "text": [
            "Ultralytics YOLOv8.2.95 🚀 Python-3.10.12 torch-2.4.0+cu121 CUDA:0 (Tesla T4, 15102MiB)\n",
            "\u001b[34m\u001b[1mengine/trainer: \u001b[0mtask=detect, mode=train, model=yolov8n.pt, data=data.yaml, epochs=100, time=None, patience=100, batch=8, imgsz=320, save=True, save_period=-1, cache=True, device=cuda, workers=8, project=None, name=train, exist_ok=False, pretrained=True, optimizer=auto, verbose=True, seed=0, deterministic=True, single_cls=False, rect=False, cos_lr=False, close_mosaic=10, resume=False, amp=True, fraction=1.0, profile=False, freeze=None, multi_scale=False, overlap_mask=True, mask_ratio=4, dropout=0.0, val=True, split=val, save_json=False, save_hybrid=False, conf=None, iou=0.7, max_det=300, half=False, dnn=False, plots=True, source=None, vid_stride=1, stream_buffer=False, visualize=False, augment=False, agnostic_nms=False, classes=None, retina_masks=False, embed=None, show=False, save_frames=False, save_txt=False, save_conf=False, save_crop=False, show_labels=True, show_conf=True, show_boxes=True, line_width=None, format=torchscript, keras=False, optimize=False, int8=False, dynamic=False, simplify=False, opset=None, workspace=4, nms=False, lr0=0.01, lrf=0.01, momentum=0.937, weight_decay=0.0005, warmup_epochs=3.0, warmup_momentum=0.8, warmup_bias_lr=0.1, box=7.5, cls=0.5, dfl=1.5, pose=12.0, kobj=1.0, label_smoothing=0.0, nbs=64, hsv_h=0.015, hsv_s=0.7, hsv_v=0.4, degrees=0.0, translate=0.1, scale=0.5, shear=0.0, perspective=0.0, flipud=0.0, fliplr=0.5, bgr=0.0, mosaic=1.0, mixup=0.0, copy_paste=0.0, auto_augment=randaugment, erasing=0.4, crop_fraction=1.0, cfg=None, tracker=botsort.yaml, save_dir=runs/detect/train\n",
            "Downloading https://ultralytics.com/assets/Arial.ttf to '/root/.config/Ultralytics/Arial.ttf'...\n"
          ]
        },
        {
          "output_type": "stream",
          "name": "stderr",
          "text": [
            "100%|██████████| 755k/755k [00:00<00:00, 23.6MB/s]\n"
          ]
        },
        {
          "output_type": "stream",
          "name": "stdout",
          "text": [
            "Overriding model.yaml nc=80 with nc=1\n",
            "\n",
            "                   from  n    params  module                                       arguments                     \n",
            "  0                  -1  1       464  ultralytics.nn.modules.conv.Conv             [3, 16, 3, 2]                 \n",
            "  1                  -1  1      4672  ultralytics.nn.modules.conv.Conv             [16, 32, 3, 2]                \n",
            "  2                  -1  1      7360  ultralytics.nn.modules.block.C2f             [32, 32, 1, True]             \n",
            "  3                  -1  1     18560  ultralytics.nn.modules.conv.Conv             [32, 64, 3, 2]                \n",
            "  4                  -1  2     49664  ultralytics.nn.modules.block.C2f             [64, 64, 2, True]             \n",
            "  5                  -1  1     73984  ultralytics.nn.modules.conv.Conv             [64, 128, 3, 2]               \n",
            "  6                  -1  2    197632  ultralytics.nn.modules.block.C2f             [128, 128, 2, True]           \n",
            "  7                  -1  1    295424  ultralytics.nn.modules.conv.Conv             [128, 256, 3, 2]              \n",
            "  8                  -1  1    460288  ultralytics.nn.modules.block.C2f             [256, 256, 1, True]           \n",
            "  9                  -1  1    164608  ultralytics.nn.modules.block.SPPF            [256, 256, 5]                 \n",
            " 10                  -1  1         0  torch.nn.modules.upsampling.Upsample         [None, 2, 'nearest']          \n",
            " 11             [-1, 6]  1         0  ultralytics.nn.modules.conv.Concat           [1]                           \n",
            " 12                  -1  1    148224  ultralytics.nn.modules.block.C2f             [384, 128, 1]                 \n",
            " 13                  -1  1         0  torch.nn.modules.upsampling.Upsample         [None, 2, 'nearest']          \n",
            " 14             [-1, 4]  1         0  ultralytics.nn.modules.conv.Concat           [1]                           \n",
            " 15                  -1  1     37248  ultralytics.nn.modules.block.C2f             [192, 64, 1]                  \n",
            " 16                  -1  1     36992  ultralytics.nn.modules.conv.Conv             [64, 64, 3, 2]                \n",
            " 17            [-1, 12]  1         0  ultralytics.nn.modules.conv.Concat           [1]                           \n",
            " 18                  -1  1    123648  ultralytics.nn.modules.block.C2f             [192, 128, 1]                 \n",
            " 19                  -1  1    147712  ultralytics.nn.modules.conv.Conv             [128, 128, 3, 2]              \n",
            " 20             [-1, 9]  1         0  ultralytics.nn.modules.conv.Concat           [1]                           \n",
            " 21                  -1  1    493056  ultralytics.nn.modules.block.C2f             [384, 256, 1]                 \n",
            " 22        [15, 18, 21]  1    751507  ultralytics.nn.modules.head.Detect           [1, [64, 128, 256]]           \n",
            "Model summary: 225 layers, 3,011,043 parameters, 3,011,027 gradients, 8.2 GFLOPs\n",
            "\n",
            "Transferred 319/355 items from pretrained weights\n",
            "\u001b[34m\u001b[1mTensorBoard: \u001b[0mStart with 'tensorboard --logdir runs/detect/train', view at http://localhost:6006/\n",
            "Freezing layer 'model.22.dfl.conv.weight'\n",
            "\u001b[34m\u001b[1mAMP: \u001b[0mrunning Automatic Mixed Precision (AMP) checks with YOLOv8n...\n",
            "\u001b[34m\u001b[1mAMP: \u001b[0mchecks passed ✅\n"
          ]
        },
        {
          "output_type": "stream",
          "name": "stderr",
          "text": [
            "\u001b[34m\u001b[1mtrain: \u001b[0mScanning /content/drive/MyDrive/Projects/LPD/car-plate-detection/train/labels... 346 images, 0 backgrounds, 0 corrupt: 100%|██████████| 346/346 [00:07<00:00, 47.66it/s]\n"
          ]
        },
        {
          "output_type": "stream",
          "name": "stdout",
          "text": [
            "\u001b[34m\u001b[1mtrain: \u001b[0mNew cache created: /content/drive/MyDrive/Projects/LPD/car-plate-detection/train/labels.cache\n",
            "WARNING ⚠️ cache='ram' may produce non-deterministic training results. Consider cache='disk' as a deterministic alternative if your disk space allows.\n"
          ]
        },
        {
          "output_type": "stream",
          "name": "stderr",
          "text": [
            "\u001b[34m\u001b[1mtrain: \u001b[0mCaching images (0.1GB RAM): 100%|██████████| 346/346 [00:06<00:00, 54.72it/s]\n"
          ]
        },
        {
          "output_type": "stream",
          "name": "stdout",
          "text": [
            "\u001b[34m\u001b[1malbumentations: \u001b[0mBlur(p=0.01, blur_limit=(3, 7)), MedianBlur(p=0.01, blur_limit=(3, 7)), ToGray(p=0.01), CLAHE(p=0.01, clip_limit=(1, 4.0), tile_grid_size=(8, 8))\n"
          ]
        },
        {
          "output_type": "stream",
          "name": "stderr",
          "text": [
            "/usr/local/lib/python3.10/dist-packages/albumentations/__init__.py:13: UserWarning: A new version of Albumentations is available: 1.4.15 (you have 1.4.14). Upgrade using: pip install -U albumentations. To disable automatic update checks, set the environment variable NO_ALBUMENTATIONS_UPDATE to 1.\n",
            "  check_for_updates()\n",
            "/usr/lib/python3.10/multiprocessing/popen_fork.py:66: RuntimeWarning: os.fork() was called. os.fork() is incompatible with multithreaded code, and JAX is multithreaded, so this will likely lead to a deadlock.\n",
            "  self.pid = os.fork()\n",
            "\u001b[34m\u001b[1mval: \u001b[0mScanning /content/drive/MyDrive/Projects/LPD/car-plate-detection/val/labels... 87 images, 0 backgrounds, 0 corrupt: 100%|██████████| 87/87 [00:00<00:00, 115.50it/s]\n"
          ]
        },
        {
          "output_type": "stream",
          "name": "stdout",
          "text": [
            "\u001b[34m\u001b[1mval: \u001b[0mNew cache created: /content/drive/MyDrive/Projects/LPD/car-plate-detection/val/labels.cache\n",
            "WARNING ⚠️ cache='ram' may produce non-deterministic training results. Consider cache='disk' as a deterministic alternative if your disk space allows.\n"
          ]
        },
        {
          "output_type": "stream",
          "name": "stderr",
          "text": [
            "\u001b[34m\u001b[1mval: \u001b[0mCaching images (0.0GB RAM): 100%|██████████| 87/87 [00:01<00:00, 45.23it/s]\n"
          ]
        },
        {
          "output_type": "stream",
          "name": "stdout",
          "text": [
            "Plotting labels to runs/detect/train/labels.jpg... \n",
            "\u001b[34m\u001b[1moptimizer:\u001b[0m 'optimizer=auto' found, ignoring 'lr0=0.01' and 'momentum=0.937' and determining best 'optimizer', 'lr0' and 'momentum' automatically... \n",
            "\u001b[34m\u001b[1moptimizer:\u001b[0m AdamW(lr=0.002, momentum=0.9) with parameter groups 57 weight(decay=0.0), 64 weight(decay=0.0005), 63 bias(decay=0.0)\n",
            "\u001b[34m\u001b[1mTensorBoard: \u001b[0mmodel graph visualization added ✅\n",
            "Image sizes 320 train, 320 val\n",
            "Using 2 dataloader workers\n",
            "Logging results to \u001b[1mruns/detect/train\u001b[0m\n",
            "Starting training for 100 epochs...\n",
            "\n",
            "      Epoch    GPU_mem   box_loss   cls_loss   dfl_loss  Instances       Size\n"
          ]
        },
        {
          "output_type": "stream",
          "name": "stderr",
          "text": [
            "      1/100     0.419G      1.602      2.497      1.271          7        320: 100%|██████████| 44/44 [00:06<00:00,  7.06it/s]\n",
            "                 Class     Images  Instances      Box(P          R      mAP50  mAP50-95): 100%|██████████| 6/6 [00:02<00:00,  2.23it/s]"
          ]
        },
        {
          "output_type": "stream",
          "name": "stdout",
          "text": [
            "                   all         87         94     0.0136      0.851      0.197     0.0736\n"
          ]
        },
        {
          "output_type": "stream",
          "name": "stderr",
          "text": [
            "\n"
          ]
        },
        {
          "output_type": "stream",
          "name": "stdout",
          "text": [
            "\n",
            "      Epoch    GPU_mem   box_loss   cls_loss   dfl_loss  Instances       Size\n"
          ]
        },
        {
          "output_type": "stream",
          "name": "stderr",
          "text": [
            "      2/100     0.352G      1.539      1.519      1.198          5        320: 100%|██████████| 44/44 [00:06<00:00,  6.98it/s]\n",
            "                 Class     Images  Instances      Box(P          R      mAP50  mAP50-95): 100%|██████████| 6/6 [00:00<00:00, 13.04it/s]"
          ]
        },
        {
          "output_type": "stream",
          "name": "stdout",
          "text": [
            "                   all         87         94      0.835      0.215      0.539      0.232\n"
          ]
        },
        {
          "output_type": "stream",
          "name": "stderr",
          "text": [
            "\n"
          ]
        },
        {
          "output_type": "stream",
          "name": "stdout",
          "text": [
            "\n",
            "      Epoch    GPU_mem   box_loss   cls_loss   dfl_loss  Instances       Size\n"
          ]
        },
        {
          "output_type": "stream",
          "name": "stderr",
          "text": [
            "      3/100     0.352G      1.479      1.304      1.208          3        320: 100%|██████████| 44/44 [00:03<00:00, 11.32it/s]\n",
            "                 Class     Images  Instances      Box(P          R      mAP50  mAP50-95): 100%|██████████| 6/6 [00:00<00:00, 13.17it/s]"
          ]
        },
        {
          "output_type": "stream",
          "name": "stdout",
          "text": [
            "                   all         87         94      0.668      0.702      0.647      0.295\n"
          ]
        },
        {
          "output_type": "stream",
          "name": "stderr",
          "text": [
            "\n"
          ]
        },
        {
          "output_type": "stream",
          "name": "stdout",
          "text": [
            "\n",
            "      Epoch    GPU_mem   box_loss   cls_loss   dfl_loss  Instances       Size\n"
          ]
        },
        {
          "output_type": "stream",
          "name": "stderr",
          "text": [
            "      4/100      0.35G      1.545      1.316      1.193          8        320: 100%|██████████| 44/44 [00:04<00:00,  9.90it/s]\n",
            "                 Class     Images  Instances      Box(P          R      mAP50  mAP50-95): 100%|██████████| 6/6 [00:00<00:00, 10.07it/s]"
          ]
        },
        {
          "output_type": "stream",
          "name": "stdout",
          "text": [
            "                   all         87         94      0.775      0.697      0.758      0.338\n"
          ]
        },
        {
          "output_type": "stream",
          "name": "stderr",
          "text": [
            "\n"
          ]
        },
        {
          "output_type": "stream",
          "name": "stdout",
          "text": [
            "\n",
            "      Epoch    GPU_mem   box_loss   cls_loss   dfl_loss  Instances       Size\n"
          ]
        },
        {
          "output_type": "stream",
          "name": "stderr",
          "text": [
            "      5/100      0.35G      1.443      1.199      1.185          2        320: 100%|██████████| 44/44 [00:05<00:00,  7.90it/s]\n",
            "                 Class     Images  Instances      Box(P          R      mAP50  mAP50-95): 100%|██████████| 6/6 [00:00<00:00, 13.55it/s]"
          ]
        },
        {
          "output_type": "stream",
          "name": "stdout",
          "text": [
            "                   all         87         94      0.854      0.649      0.742      0.369\n"
          ]
        },
        {
          "output_type": "stream",
          "name": "stderr",
          "text": [
            "\n"
          ]
        },
        {
          "output_type": "stream",
          "name": "stdout",
          "text": [
            "\n",
            "      Epoch    GPU_mem   box_loss   cls_loss   dfl_loss  Instances       Size\n"
          ]
        },
        {
          "output_type": "stream",
          "name": "stderr",
          "text": [
            "      6/100      0.35G      1.401      1.162      1.181          7        320: 100%|██████████| 44/44 [00:03<00:00, 11.39it/s]\n",
            "                 Class     Images  Instances      Box(P          R      mAP50  mAP50-95): 100%|██████████| 6/6 [00:00<00:00, 13.40it/s]"
          ]
        },
        {
          "output_type": "stream",
          "name": "stdout",
          "text": [
            "                   all         87         94      0.841      0.745      0.845       0.39\n"
          ]
        },
        {
          "output_type": "stream",
          "name": "stderr",
          "text": [
            "\n"
          ]
        },
        {
          "output_type": "stream",
          "name": "stdout",
          "text": [
            "\n",
            "      Epoch    GPU_mem   box_loss   cls_loss   dfl_loss  Instances       Size\n"
          ]
        },
        {
          "output_type": "stream",
          "name": "stderr",
          "text": [
            "      7/100     0.352G      1.388      1.151      1.152          4        320: 100%|██████████| 44/44 [00:04<00:00,  9.68it/s]\n",
            "                 Class     Images  Instances      Box(P          R      mAP50  mAP50-95): 100%|██████████| 6/6 [00:00<00:00,  9.58it/s]\n"
          ]
        },
        {
          "output_type": "stream",
          "name": "stdout",
          "text": [
            "                   all         87         94      0.865      0.748      0.748      0.329\n",
            "\n",
            "      Epoch    GPU_mem   box_loss   cls_loss   dfl_loss  Instances       Size\n"
          ]
        },
        {
          "output_type": "stream",
          "name": "stderr",
          "text": [
            "      8/100      0.35G      1.379      1.085      1.188          4        320: 100%|██████████| 44/44 [00:05<00:00,  8.13it/s]\n",
            "                 Class     Images  Instances      Box(P          R      mAP50  mAP50-95): 100%|██████████| 6/6 [00:00<00:00, 12.24it/s]"
          ]
        },
        {
          "output_type": "stream",
          "name": "stdout",
          "text": [
            "                   all         87         94      0.883      0.723      0.819      0.366\n"
          ]
        },
        {
          "output_type": "stream",
          "name": "stderr",
          "text": [
            "\n"
          ]
        },
        {
          "output_type": "stream",
          "name": "stdout",
          "text": [
            "\n",
            "      Epoch    GPU_mem   box_loss   cls_loss   dfl_loss  Instances       Size\n"
          ]
        },
        {
          "output_type": "stream",
          "name": "stderr",
          "text": [
            "      9/100     0.352G      1.346      1.024       1.18          3        320: 100%|██████████| 44/44 [00:03<00:00, 11.37it/s]\n",
            "                 Class     Images  Instances      Box(P          R      mAP50  mAP50-95): 100%|██████████| 6/6 [00:00<00:00, 13.15it/s]"
          ]
        },
        {
          "output_type": "stream",
          "name": "stdout",
          "text": [
            "                   all         87         94      0.832      0.791      0.837      0.385\n"
          ]
        },
        {
          "output_type": "stream",
          "name": "stderr",
          "text": [
            "\n"
          ]
        },
        {
          "output_type": "stream",
          "name": "stdout",
          "text": [
            "\n",
            "      Epoch    GPU_mem   box_loss   cls_loss   dfl_loss  Instances       Size\n"
          ]
        },
        {
          "output_type": "stream",
          "name": "stderr",
          "text": [
            "     10/100      0.35G       1.27     0.9895      1.137          6        320: 100%|██████████| 44/44 [00:04<00:00,  8.87it/s]\n",
            "                 Class     Images  Instances      Box(P          R      mAP50  mAP50-95): 100%|██████████| 6/6 [00:00<00:00,  7.22it/s]"
          ]
        },
        {
          "output_type": "stream",
          "name": "stdout",
          "text": [
            "                   all         87         94      0.867      0.787      0.818      0.373\n"
          ]
        },
        {
          "output_type": "stream",
          "name": "stderr",
          "text": [
            "\n"
          ]
        },
        {
          "output_type": "stream",
          "name": "stdout",
          "text": [
            "\n",
            "      Epoch    GPU_mem   box_loss   cls_loss   dfl_loss  Instances       Size\n"
          ]
        },
        {
          "output_type": "stream",
          "name": "stderr",
          "text": [
            "     11/100      0.35G      1.293     0.8919      1.106          6        320: 100%|██████████| 44/44 [00:09<00:00,  4.58it/s]\n",
            "                 Class     Images  Instances      Box(P          R      mAP50  mAP50-95): 100%|██████████| 6/6 [00:00<00:00, 11.30it/s]"
          ]
        },
        {
          "output_type": "stream",
          "name": "stdout",
          "text": [
            "                   all         87         94       0.88      0.787      0.829      0.411\n"
          ]
        },
        {
          "output_type": "stream",
          "name": "stderr",
          "text": [
            "\n"
          ]
        },
        {
          "output_type": "stream",
          "name": "stdout",
          "text": [
            "\n",
            "      Epoch    GPU_mem   box_loss   cls_loss   dfl_loss  Instances       Size\n"
          ]
        },
        {
          "output_type": "stream",
          "name": "stderr",
          "text": [
            "     12/100      0.35G      1.256     0.8729      1.102          4        320: 100%|██████████| 44/44 [00:03<00:00, 11.37it/s]\n",
            "                 Class     Images  Instances      Box(P          R      mAP50  mAP50-95): 100%|██████████| 6/6 [00:00<00:00, 13.49it/s]"
          ]
        },
        {
          "output_type": "stream",
          "name": "stdout",
          "text": [
            "                   all         87         94      0.837      0.777      0.781      0.374\n"
          ]
        },
        {
          "output_type": "stream",
          "name": "stderr",
          "text": [
            "\n"
          ]
        },
        {
          "output_type": "stream",
          "name": "stdout",
          "text": [
            "\n",
            "      Epoch    GPU_mem   box_loss   cls_loss   dfl_loss  Instances       Size\n"
          ]
        },
        {
          "output_type": "stream",
          "name": "stderr",
          "text": [
            "     13/100      0.35G      1.245     0.8709      1.107          3        320: 100%|██████████| 44/44 [00:05<00:00,  8.17it/s]\n",
            "                 Class     Images  Instances      Box(P          R      mAP50  mAP50-95): 100%|██████████| 6/6 [00:00<00:00,  7.85it/s]"
          ]
        },
        {
          "output_type": "stream",
          "name": "stdout",
          "text": [
            "                   all         87         94      0.858       0.84      0.857      0.363\n"
          ]
        },
        {
          "output_type": "stream",
          "name": "stderr",
          "text": [
            "\n"
          ]
        },
        {
          "output_type": "stream",
          "name": "stdout",
          "text": [
            "\n",
            "      Epoch    GPU_mem   box_loss   cls_loss   dfl_loss  Instances       Size\n"
          ]
        },
        {
          "output_type": "stream",
          "name": "stderr",
          "text": [
            "     14/100     0.352G      1.237     0.8746       1.08          2        320: 100%|██████████| 44/44 [00:04<00:00,  9.89it/s]\n",
            "                 Class     Images  Instances      Box(P          R      mAP50  mAP50-95): 100%|██████████| 6/6 [00:00<00:00, 13.74it/s]"
          ]
        },
        {
          "output_type": "stream",
          "name": "stdout",
          "text": [
            "                   all         87         94      0.901      0.766       0.83      0.424\n"
          ]
        },
        {
          "output_type": "stream",
          "name": "stderr",
          "text": [
            "\n"
          ]
        },
        {
          "output_type": "stream",
          "name": "stdout",
          "text": [
            "\n",
            "      Epoch    GPU_mem   box_loss   cls_loss   dfl_loss  Instances       Size\n"
          ]
        },
        {
          "output_type": "stream",
          "name": "stderr",
          "text": [
            "     15/100      0.35G      1.177      0.851      1.088          3        320: 100%|██████████| 44/44 [00:03<00:00, 11.39it/s]\n",
            "                 Class     Images  Instances      Box(P          R      mAP50  mAP50-95): 100%|██████████| 6/6 [00:00<00:00, 12.87it/s]"
          ]
        },
        {
          "output_type": "stream",
          "name": "stdout",
          "text": [
            "                   all         87         94      0.884       0.83      0.857      0.444\n"
          ]
        },
        {
          "output_type": "stream",
          "name": "stderr",
          "text": [
            "\n"
          ]
        },
        {
          "output_type": "stream",
          "name": "stdout",
          "text": [
            "\n",
            "      Epoch    GPU_mem   box_loss   cls_loss   dfl_loss  Instances       Size\n"
          ]
        },
        {
          "output_type": "stream",
          "name": "stderr",
          "text": [
            "     16/100     0.352G      1.207      0.846      1.102          4        320: 100%|██████████| 44/44 [00:05<00:00,  8.20it/s]\n",
            "                 Class     Images  Instances      Box(P          R      mAP50  mAP50-95): 100%|██████████| 6/6 [00:00<00:00,  8.89it/s]"
          ]
        },
        {
          "output_type": "stream",
          "name": "stdout",
          "text": [
            "                   all         87         94      0.865       0.75      0.816      0.407\n"
          ]
        },
        {
          "output_type": "stream",
          "name": "stderr",
          "text": [
            "\n"
          ]
        },
        {
          "output_type": "stream",
          "name": "stdout",
          "text": [
            "\n",
            "      Epoch    GPU_mem   box_loss   cls_loss   dfl_loss  Instances       Size\n"
          ]
        },
        {
          "output_type": "stream",
          "name": "stderr",
          "text": [
            "     17/100     0.352G      1.139     0.7951      1.077          1        320: 100%|██████████| 44/44 [00:04<00:00,  9.82it/s]\n",
            "                 Class     Images  Instances      Box(P          R      mAP50  mAP50-95): 100%|██████████| 6/6 [00:00<00:00, 12.91it/s]"
          ]
        },
        {
          "output_type": "stream",
          "name": "stdout",
          "text": [
            "                   all         87         94      0.913       0.78      0.832      0.434\n"
          ]
        },
        {
          "output_type": "stream",
          "name": "stderr",
          "text": [
            "\n"
          ]
        },
        {
          "output_type": "stream",
          "name": "stdout",
          "text": [
            "\n",
            "      Epoch    GPU_mem   box_loss   cls_loss   dfl_loss  Instances       Size\n"
          ]
        },
        {
          "output_type": "stream",
          "name": "stderr",
          "text": [
            "     18/100      0.35G      1.158     0.8208      1.124          2        320: 100%|██████████| 44/44 [00:03<00:00, 11.37it/s]\n",
            "                 Class     Images  Instances      Box(P          R      mAP50  mAP50-95): 100%|██████████| 6/6 [00:00<00:00, 14.08it/s]"
          ]
        },
        {
          "output_type": "stream",
          "name": "stdout",
          "text": [
            "                   all         87         94      0.948      0.782      0.828      0.414\n"
          ]
        },
        {
          "output_type": "stream",
          "name": "stderr",
          "text": [
            "\n"
          ]
        },
        {
          "output_type": "stream",
          "name": "stdout",
          "text": [
            "\n",
            "      Epoch    GPU_mem   box_loss   cls_loss   dfl_loss  Instances       Size\n"
          ]
        },
        {
          "output_type": "stream",
          "name": "stderr",
          "text": [
            "     19/100      0.35G      1.197     0.8031      1.093          2        320: 100%|██████████| 44/44 [00:05<00:00,  8.12it/s]\n",
            "                 Class     Images  Instances      Box(P          R      mAP50  mAP50-95): 100%|██████████| 6/6 [00:00<00:00,  9.07it/s]"
          ]
        },
        {
          "output_type": "stream",
          "name": "stdout",
          "text": [
            "                   all         87         94      0.893      0.809       0.81      0.433\n"
          ]
        },
        {
          "output_type": "stream",
          "name": "stderr",
          "text": [
            "\n"
          ]
        },
        {
          "output_type": "stream",
          "name": "stdout",
          "text": [
            "\n",
            "      Epoch    GPU_mem   box_loss   cls_loss   dfl_loss  Instances       Size\n"
          ]
        },
        {
          "output_type": "stream",
          "name": "stderr",
          "text": [
            "     20/100      0.35G      1.188     0.8066      1.071          1        320: 100%|██████████| 44/44 [00:04<00:00, 10.35it/s]\n",
            "                 Class     Images  Instances      Box(P          R      mAP50  mAP50-95): 100%|██████████| 6/6 [00:00<00:00, 13.60it/s]"
          ]
        },
        {
          "output_type": "stream",
          "name": "stdout",
          "text": [
            "                   all         87         94      0.925      0.755      0.838      0.455\n"
          ]
        },
        {
          "output_type": "stream",
          "name": "stderr",
          "text": [
            "\n"
          ]
        },
        {
          "output_type": "stream",
          "name": "stdout",
          "text": [
            "\n",
            "      Epoch    GPU_mem   box_loss   cls_loss   dfl_loss  Instances       Size\n"
          ]
        },
        {
          "output_type": "stream",
          "name": "stderr",
          "text": [
            "     21/100      0.35G      1.198     0.7748      1.072          5        320: 100%|██████████| 44/44 [00:03<00:00, 11.09it/s]\n",
            "                 Class     Images  Instances      Box(P          R      mAP50  mAP50-95): 100%|██████████| 6/6 [00:00<00:00, 13.35it/s]"
          ]
        },
        {
          "output_type": "stream",
          "name": "stdout",
          "text": [
            "                   all         87         94      0.911      0.777      0.838      0.409\n"
          ]
        },
        {
          "output_type": "stream",
          "name": "stderr",
          "text": [
            "\n"
          ]
        },
        {
          "output_type": "stream",
          "name": "stdout",
          "text": [
            "\n",
            "      Epoch    GPU_mem   box_loss   cls_loss   dfl_loss  Instances       Size\n"
          ]
        },
        {
          "output_type": "stream",
          "name": "stderr",
          "text": [
            "     22/100      0.35G      1.128     0.7385      1.085          2        320: 100%|██████████| 44/44 [00:05<00:00,  7.49it/s]\n",
            "                 Class     Images  Instances      Box(P          R      mAP50  mAP50-95): 100%|██████████| 6/6 [00:00<00:00,  8.12it/s]"
          ]
        },
        {
          "output_type": "stream",
          "name": "stdout",
          "text": [
            "                   all         87         94      0.911      0.713        0.8      0.395\n"
          ]
        },
        {
          "output_type": "stream",
          "name": "stderr",
          "text": [
            "\n"
          ]
        },
        {
          "output_type": "stream",
          "name": "stdout",
          "text": [
            "\n",
            "      Epoch    GPU_mem   box_loss   cls_loss   dfl_loss  Instances       Size\n"
          ]
        },
        {
          "output_type": "stream",
          "name": "stderr",
          "text": [
            "     23/100     0.352G       1.09     0.7479      1.037          4        320: 100%|██████████| 44/44 [00:04<00:00,  9.91it/s]\n",
            "                 Class     Images  Instances      Box(P          R      mAP50  mAP50-95): 100%|██████████| 6/6 [00:00<00:00, 13.70it/s]"
          ]
        },
        {
          "output_type": "stream",
          "name": "stdout",
          "text": [
            "                   all         87         94      0.897       0.84      0.864      0.462\n"
          ]
        },
        {
          "output_type": "stream",
          "name": "stderr",
          "text": [
            "\n"
          ]
        },
        {
          "output_type": "stream",
          "name": "stdout",
          "text": [
            "\n",
            "      Epoch    GPU_mem   box_loss   cls_loss   dfl_loss  Instances       Size\n"
          ]
        },
        {
          "output_type": "stream",
          "name": "stderr",
          "text": [
            "     24/100      0.35G      1.088     0.7366      1.039          4        320: 100%|██████████| 44/44 [00:03<00:00, 11.20it/s]\n",
            "                 Class     Images  Instances      Box(P          R      mAP50  mAP50-95): 100%|██████████| 6/6 [00:00<00:00, 13.50it/s]"
          ]
        },
        {
          "output_type": "stream",
          "name": "stdout",
          "text": [
            "                   all         87         94      0.867      0.835      0.838      0.436\n"
          ]
        },
        {
          "output_type": "stream",
          "name": "stderr",
          "text": [
            "\n"
          ]
        },
        {
          "output_type": "stream",
          "name": "stdout",
          "text": [
            "\n",
            "      Epoch    GPU_mem   box_loss   cls_loss   dfl_loss  Instances       Size\n"
          ]
        },
        {
          "output_type": "stream",
          "name": "stderr",
          "text": [
            "     25/100      0.35G      1.046     0.7059      1.034          5        320: 100%|██████████| 44/44 [00:05<00:00,  7.94it/s]\n",
            "                 Class     Images  Instances      Box(P          R      mAP50  mAP50-95): 100%|██████████| 6/6 [00:00<00:00,  7.97it/s]"
          ]
        },
        {
          "output_type": "stream",
          "name": "stdout",
          "text": [
            "                   all         87         94      0.903       0.84       0.85       0.44\n"
          ]
        },
        {
          "output_type": "stream",
          "name": "stderr",
          "text": [
            "\n"
          ]
        },
        {
          "output_type": "stream",
          "name": "stdout",
          "text": [
            "\n",
            "      Epoch    GPU_mem   box_loss   cls_loss   dfl_loss  Instances       Size\n"
          ]
        },
        {
          "output_type": "stream",
          "name": "stderr",
          "text": [
            "     26/100      0.35G      1.045     0.7004      1.035          4        320: 100%|██████████| 44/44 [00:04<00:00,  9.57it/s]\n",
            "                 Class     Images  Instances      Box(P          R      mAP50  mAP50-95): 100%|██████████| 6/6 [00:00<00:00, 13.43it/s]"
          ]
        },
        {
          "output_type": "stream",
          "name": "stdout",
          "text": [
            "                   all         87         94       0.95      0.806      0.871      0.452\n"
          ]
        },
        {
          "output_type": "stream",
          "name": "stderr",
          "text": [
            "\n"
          ]
        },
        {
          "output_type": "stream",
          "name": "stdout",
          "text": [
            "\n",
            "      Epoch    GPU_mem   box_loss   cls_loss   dfl_loss  Instances       Size\n"
          ]
        },
        {
          "output_type": "stream",
          "name": "stderr",
          "text": [
            "     27/100      0.35G      1.011     0.6669      1.007          8        320: 100%|██████████| 44/44 [00:03<00:00, 11.49it/s]\n",
            "                 Class     Images  Instances      Box(P          R      mAP50  mAP50-95): 100%|██████████| 6/6 [00:00<00:00, 13.29it/s]"
          ]
        },
        {
          "output_type": "stream",
          "name": "stdout",
          "text": [
            "                   all         87         94       0.94      0.851      0.875      0.436\n"
          ]
        },
        {
          "output_type": "stream",
          "name": "stderr",
          "text": [
            "\n"
          ]
        },
        {
          "output_type": "stream",
          "name": "stdout",
          "text": [
            "\n",
            "      Epoch    GPU_mem   box_loss   cls_loss   dfl_loss  Instances       Size\n"
          ]
        },
        {
          "output_type": "stream",
          "name": "stderr",
          "text": [
            "     28/100      0.35G      1.035     0.6687      1.035          3        320: 100%|██████████| 44/44 [00:05<00:00,  7.91it/s]\n",
            "                 Class     Images  Instances      Box(P          R      mAP50  mAP50-95): 100%|██████████| 6/6 [00:00<00:00,  8.49it/s]"
          ]
        },
        {
          "output_type": "stream",
          "name": "stdout",
          "text": [
            "                   all         87         94      0.959      0.777      0.864      0.434\n"
          ]
        },
        {
          "output_type": "stream",
          "name": "stderr",
          "text": [
            "\n"
          ]
        },
        {
          "output_type": "stream",
          "name": "stdout",
          "text": [
            "\n",
            "      Epoch    GPU_mem   box_loss   cls_loss   dfl_loss  Instances       Size\n"
          ]
        },
        {
          "output_type": "stream",
          "name": "stderr",
          "text": [
            "     29/100      0.35G     0.9839     0.6586      1.004          5        320: 100%|██████████| 44/44 [00:04<00:00,  9.45it/s]\n",
            "                 Class     Images  Instances      Box(P          R      mAP50  mAP50-95): 100%|██████████| 6/6 [00:00<00:00, 13.31it/s]"
          ]
        },
        {
          "output_type": "stream",
          "name": "stdout",
          "text": [
            "                   all         87         94      0.886      0.829      0.861      0.443\n"
          ]
        },
        {
          "output_type": "stream",
          "name": "stderr",
          "text": [
            "\n"
          ]
        },
        {
          "output_type": "stream",
          "name": "stdout",
          "text": [
            "\n",
            "      Epoch    GPU_mem   box_loss   cls_loss   dfl_loss  Instances       Size\n"
          ]
        },
        {
          "output_type": "stream",
          "name": "stderr",
          "text": [
            "     30/100      0.35G     0.9877     0.6395     0.9944          5        320: 100%|██████████| 44/44 [00:04<00:00, 10.60it/s]\n",
            "                 Class     Images  Instances      Box(P          R      mAP50  mAP50-95): 100%|██████████| 6/6 [00:00<00:00, 12.08it/s]"
          ]
        },
        {
          "output_type": "stream",
          "name": "stdout",
          "text": [
            "                   all         87         94       0.95      0.814      0.871      0.453\n"
          ]
        },
        {
          "output_type": "stream",
          "name": "stderr",
          "text": [
            "\n"
          ]
        },
        {
          "output_type": "stream",
          "name": "stdout",
          "text": [
            "\n",
            "      Epoch    GPU_mem   box_loss   cls_loss   dfl_loss  Instances       Size\n"
          ]
        },
        {
          "output_type": "stream",
          "name": "stderr",
          "text": [
            "     31/100     0.352G      1.011     0.6513     0.9984          6        320: 100%|██████████| 44/44 [00:05<00:00,  8.12it/s]\n",
            "                 Class     Images  Instances      Box(P          R      mAP50  mAP50-95): 100%|██████████| 6/6 [00:00<00:00,  7.21it/s]"
          ]
        },
        {
          "output_type": "stream",
          "name": "stdout",
          "text": [
            "                   all         87         94      0.899      0.798      0.856      0.458\n"
          ]
        },
        {
          "output_type": "stream",
          "name": "stderr",
          "text": [
            "\n"
          ]
        },
        {
          "output_type": "stream",
          "name": "stdout",
          "text": [
            "\n",
            "      Epoch    GPU_mem   box_loss   cls_loss   dfl_loss  Instances       Size\n"
          ]
        },
        {
          "output_type": "stream",
          "name": "stderr",
          "text": [
            "     32/100     0.352G     0.9643     0.6134     0.9888          2        320: 100%|██████████| 44/44 [00:04<00:00,  9.64it/s]\n",
            "                 Class     Images  Instances      Box(P          R      mAP50  mAP50-95): 100%|██████████| 6/6 [00:00<00:00, 13.53it/s]"
          ]
        },
        {
          "output_type": "stream",
          "name": "stdout",
          "text": [
            "                   all         87         94      0.892      0.795      0.844      0.444\n"
          ]
        },
        {
          "output_type": "stream",
          "name": "stderr",
          "text": [
            "\n"
          ]
        },
        {
          "output_type": "stream",
          "name": "stdout",
          "text": [
            "\n",
            "      Epoch    GPU_mem   box_loss   cls_loss   dfl_loss  Instances       Size\n"
          ]
        },
        {
          "output_type": "stream",
          "name": "stderr",
          "text": [
            "     33/100     0.352G      1.013     0.6375       1.03          1        320: 100%|██████████| 44/44 [00:03<00:00, 11.19it/s]\n",
            "                 Class     Images  Instances      Box(P          R      mAP50  mAP50-95): 100%|██████████| 6/6 [00:00<00:00, 13.70it/s]"
          ]
        },
        {
          "output_type": "stream",
          "name": "stdout",
          "text": [
            "                   all         87         94      0.932      0.809      0.868      0.457\n"
          ]
        },
        {
          "output_type": "stream",
          "name": "stderr",
          "text": [
            "\n"
          ]
        },
        {
          "output_type": "stream",
          "name": "stdout",
          "text": [
            "\n",
            "      Epoch    GPU_mem   box_loss   cls_loss   dfl_loss  Instances       Size\n"
          ]
        },
        {
          "output_type": "stream",
          "name": "stderr",
          "text": [
            "     34/100      0.35G     0.9608     0.6447     0.9949          5        320: 100%|██████████| 44/44 [00:05<00:00,  7.81it/s]\n",
            "                 Class     Images  Instances      Box(P          R      mAP50  mAP50-95): 100%|██████████| 6/6 [00:00<00:00,  8.86it/s]"
          ]
        },
        {
          "output_type": "stream",
          "name": "stdout",
          "text": [
            "                   all         87         94       0.92      0.787      0.852      0.443\n"
          ]
        },
        {
          "output_type": "stream",
          "name": "stderr",
          "text": [
            "\n"
          ]
        },
        {
          "output_type": "stream",
          "name": "stdout",
          "text": [
            "\n",
            "      Epoch    GPU_mem   box_loss   cls_loss   dfl_loss  Instances       Size\n"
          ]
        },
        {
          "output_type": "stream",
          "name": "stderr",
          "text": [
            "     35/100      0.35G     0.9493     0.6202     0.9999          5        320: 100%|██████████| 44/44 [00:04<00:00,  9.82it/s]\n",
            "                 Class     Images  Instances      Box(P          R      mAP50  mAP50-95): 100%|██████████| 6/6 [00:00<00:00, 13.12it/s]"
          ]
        },
        {
          "output_type": "stream",
          "name": "stdout",
          "text": [
            "                   all         87         94      0.906      0.851      0.872      0.485\n"
          ]
        },
        {
          "output_type": "stream",
          "name": "stderr",
          "text": [
            "\n"
          ]
        },
        {
          "output_type": "stream",
          "name": "stdout",
          "text": [
            "\n",
            "      Epoch    GPU_mem   box_loss   cls_loss   dfl_loss  Instances       Size\n"
          ]
        },
        {
          "output_type": "stream",
          "name": "stderr",
          "text": [
            "     36/100      0.35G     0.9679     0.6306     0.9821          2        320: 100%|██████████| 44/44 [00:04<00:00, 10.87it/s]\n",
            "                 Class     Images  Instances      Box(P          R      mAP50  mAP50-95): 100%|██████████| 6/6 [00:00<00:00, 13.77it/s]"
          ]
        },
        {
          "output_type": "stream",
          "name": "stdout",
          "text": [
            "                   all         87         94       0.87       0.83      0.877      0.451\n"
          ]
        },
        {
          "output_type": "stream",
          "name": "stderr",
          "text": [
            "\n"
          ]
        },
        {
          "output_type": "stream",
          "name": "stdout",
          "text": [
            "\n",
            "      Epoch    GPU_mem   box_loss   cls_loss   dfl_loss  Instances       Size\n"
          ]
        },
        {
          "output_type": "stream",
          "name": "stderr",
          "text": [
            "     37/100     0.352G     0.9707     0.6168     0.9994          4        320: 100%|██████████| 44/44 [00:06<00:00,  6.90it/s]\n",
            "                 Class     Images  Instances      Box(P          R      mAP50  mAP50-95): 100%|██████████| 6/6 [00:00<00:00,  8.92it/s]\n"
          ]
        },
        {
          "output_type": "stream",
          "name": "stdout",
          "text": [
            "                   all         87         94       0.95      0.808      0.865      0.445\n",
            "\n",
            "      Epoch    GPU_mem   box_loss   cls_loss   dfl_loss  Instances       Size\n"
          ]
        },
        {
          "output_type": "stream",
          "name": "stderr",
          "text": [
            "     38/100      0.35G     0.9391     0.6024      1.013          3        320: 100%|██████████| 44/44 [00:04<00:00, 10.06it/s]\n",
            "                 Class     Images  Instances      Box(P          R      mAP50  mAP50-95): 100%|██████████| 6/6 [00:00<00:00, 13.80it/s]"
          ]
        },
        {
          "output_type": "stream",
          "name": "stdout",
          "text": [
            "                   all         87         94       0.93      0.862      0.863      0.453\n"
          ]
        },
        {
          "output_type": "stream",
          "name": "stderr",
          "text": [
            "\n"
          ]
        },
        {
          "output_type": "stream",
          "name": "stdout",
          "text": [
            "\n",
            "      Epoch    GPU_mem   box_loss   cls_loss   dfl_loss  Instances       Size\n"
          ]
        },
        {
          "output_type": "stream",
          "name": "stderr",
          "text": [
            "     39/100      0.35G     0.9126      0.596     0.9933          3        320: 100%|██████████| 44/44 [00:03<00:00, 11.05it/s]\n",
            "                 Class     Images  Instances      Box(P          R      mAP50  mAP50-95): 100%|██████████| 6/6 [00:00<00:00, 12.91it/s]"
          ]
        },
        {
          "output_type": "stream",
          "name": "stdout",
          "text": [
            "                   all         87         94      0.883      0.806      0.824      0.426\n"
          ]
        },
        {
          "output_type": "stream",
          "name": "stderr",
          "text": [
            "\n"
          ]
        },
        {
          "output_type": "stream",
          "name": "stdout",
          "text": [
            "\n",
            "      Epoch    GPU_mem   box_loss   cls_loss   dfl_loss  Instances       Size\n"
          ]
        },
        {
          "output_type": "stream",
          "name": "stderr",
          "text": [
            "     40/100      0.35G     0.9235     0.5857      0.984          5        320: 100%|██████████| 44/44 [00:05<00:00,  7.59it/s]\n",
            "                 Class     Images  Instances      Box(P          R      mAP50  mAP50-95): 100%|██████████| 6/6 [00:00<00:00,  8.46it/s]"
          ]
        },
        {
          "output_type": "stream",
          "name": "stdout",
          "text": [
            "                   all         87         94      0.916      0.807      0.873      0.447\n"
          ]
        },
        {
          "output_type": "stream",
          "name": "stderr",
          "text": [
            "\n"
          ]
        },
        {
          "output_type": "stream",
          "name": "stdout",
          "text": [
            "\n",
            "      Epoch    GPU_mem   box_loss   cls_loss   dfl_loss  Instances       Size\n"
          ]
        },
        {
          "output_type": "stream",
          "name": "stderr",
          "text": [
            "     41/100      0.35G     0.9486     0.6029     0.9992          8        320: 100%|██████████| 44/44 [00:04<00:00, 10.04it/s]\n",
            "                 Class     Images  Instances      Box(P          R      mAP50  mAP50-95): 100%|██████████| 6/6 [00:00<00:00, 13.95it/s]"
          ]
        },
        {
          "output_type": "stream",
          "name": "stdout",
          "text": [
            "                   all         87         94       0.93      0.848       0.88      0.474\n"
          ]
        },
        {
          "output_type": "stream",
          "name": "stderr",
          "text": [
            "\n"
          ]
        },
        {
          "output_type": "stream",
          "name": "stdout",
          "text": [
            "\n",
            "      Epoch    GPU_mem   box_loss   cls_loss   dfl_loss  Instances       Size\n"
          ]
        },
        {
          "output_type": "stream",
          "name": "stderr",
          "text": [
            "     42/100      0.35G     0.9525     0.6036     0.9967          3        320: 100%|██████████| 44/44 [00:03<00:00, 11.14it/s]\n",
            "                 Class     Images  Instances      Box(P          R      mAP50  mAP50-95): 100%|██████████| 6/6 [00:00<00:00, 14.10it/s]"
          ]
        },
        {
          "output_type": "stream",
          "name": "stdout",
          "text": [
            "                   all         87         94      0.942      0.867      0.897      0.479\n"
          ]
        },
        {
          "output_type": "stream",
          "name": "stderr",
          "text": [
            "\n"
          ]
        },
        {
          "output_type": "stream",
          "name": "stdout",
          "text": [
            "\n",
            "      Epoch    GPU_mem   box_loss   cls_loss   dfl_loss  Instances       Size\n"
          ]
        },
        {
          "output_type": "stream",
          "name": "stderr",
          "text": [
            "     43/100     0.352G     0.9111     0.5791     0.9695          4        320: 100%|██████████| 44/44 [00:05<00:00,  7.48it/s]\n",
            "                 Class     Images  Instances      Box(P          R      mAP50  mAP50-95): 100%|██████████| 6/6 [00:00<00:00,  7.97it/s]"
          ]
        },
        {
          "output_type": "stream",
          "name": "stdout",
          "text": [
            "                   all         87         94      0.929      0.862      0.893      0.497\n"
          ]
        },
        {
          "output_type": "stream",
          "name": "stderr",
          "text": [
            "\n"
          ]
        },
        {
          "output_type": "stream",
          "name": "stdout",
          "text": [
            "\n",
            "      Epoch    GPU_mem   box_loss   cls_loss   dfl_loss  Instances       Size\n"
          ]
        },
        {
          "output_type": "stream",
          "name": "stderr",
          "text": [
            "     44/100      0.35G     0.9224     0.5693     0.9775          3        320: 100%|██████████| 44/44 [00:04<00:00, 10.19it/s]\n",
            "                 Class     Images  Instances      Box(P          R      mAP50  mAP50-95): 100%|██████████| 6/6 [00:00<00:00, 14.42it/s]"
          ]
        },
        {
          "output_type": "stream",
          "name": "stdout",
          "text": [
            "                   all         87         94      0.874       0.84       0.87      0.468\n"
          ]
        },
        {
          "output_type": "stream",
          "name": "stderr",
          "text": [
            "\n"
          ]
        },
        {
          "output_type": "stream",
          "name": "stdout",
          "text": [
            "\n",
            "      Epoch    GPU_mem   box_loss   cls_loss   dfl_loss  Instances       Size\n"
          ]
        },
        {
          "output_type": "stream",
          "name": "stderr",
          "text": [
            "     45/100      0.35G     0.9207     0.5735     0.9861          5        320: 100%|██████████| 44/44 [00:04<00:00, 10.77it/s]\n",
            "                 Class     Images  Instances      Box(P          R      mAP50  mAP50-95): 100%|██████████| 6/6 [00:00<00:00, 13.92it/s]"
          ]
        },
        {
          "output_type": "stream",
          "name": "stdout",
          "text": [
            "                   all         87         94      0.915       0.83      0.868      0.455\n"
          ]
        },
        {
          "output_type": "stream",
          "name": "stderr",
          "text": [
            "\n"
          ]
        },
        {
          "output_type": "stream",
          "name": "stdout",
          "text": [
            "\n",
            "      Epoch    GPU_mem   box_loss   cls_loss   dfl_loss  Instances       Size\n"
          ]
        },
        {
          "output_type": "stream",
          "name": "stderr",
          "text": [
            "     46/100     0.352G     0.9565     0.6014     0.9792          2        320: 100%|██████████| 44/44 [00:05<00:00,  7.47it/s]\n",
            "                 Class     Images  Instances      Box(P          R      mAP50  mAP50-95): 100%|██████████| 6/6 [00:00<00:00,  8.90it/s]"
          ]
        },
        {
          "output_type": "stream",
          "name": "stdout",
          "text": [
            "                   all         87         94      0.916       0.84      0.845      0.464\n"
          ]
        },
        {
          "output_type": "stream",
          "name": "stderr",
          "text": [
            "\n"
          ]
        },
        {
          "output_type": "stream",
          "name": "stdout",
          "text": [
            "\n",
            "      Epoch    GPU_mem   box_loss   cls_loss   dfl_loss  Instances       Size\n"
          ]
        },
        {
          "output_type": "stream",
          "name": "stderr",
          "text": [
            "     47/100      0.35G     0.9273     0.5842      0.982          3        320: 100%|██████████| 44/44 [00:04<00:00, 10.23it/s]\n",
            "                 Class     Images  Instances      Box(P          R      mAP50  mAP50-95): 100%|██████████| 6/6 [00:00<00:00, 13.85it/s]"
          ]
        },
        {
          "output_type": "stream",
          "name": "stdout",
          "text": [
            "                   all         87         94      0.912      0.851      0.873      0.475\n"
          ]
        },
        {
          "output_type": "stream",
          "name": "stderr",
          "text": [
            "\n"
          ]
        },
        {
          "output_type": "stream",
          "name": "stdout",
          "text": [
            "\n",
            "      Epoch    GPU_mem   box_loss   cls_loss   dfl_loss  Instances       Size\n"
          ]
        },
        {
          "output_type": "stream",
          "name": "stderr",
          "text": [
            "     48/100      0.35G     0.8606     0.5666     0.9585          4        320: 100%|██████████| 44/44 [00:03<00:00, 11.30it/s]\n",
            "                 Class     Images  Instances      Box(P          R      mAP50  mAP50-95): 100%|██████████| 6/6 [00:00<00:00, 13.49it/s]"
          ]
        },
        {
          "output_type": "stream",
          "name": "stdout",
          "text": [
            "                   all         87         94      0.941      0.843      0.874      0.477\n"
          ]
        },
        {
          "output_type": "stream",
          "name": "stderr",
          "text": [
            "\n"
          ]
        },
        {
          "output_type": "stream",
          "name": "stdout",
          "text": [
            "\n",
            "      Epoch    GPU_mem   box_loss   cls_loss   dfl_loss  Instances       Size\n"
          ]
        },
        {
          "output_type": "stream",
          "name": "stderr",
          "text": [
            "     49/100     0.352G     0.9037     0.5778     0.9875          5        320: 100%|██████████| 44/44 [00:05<00:00,  7.58it/s]\n",
            "                 Class     Images  Instances      Box(P          R      mAP50  mAP50-95): 100%|██████████| 6/6 [00:00<00:00,  8.23it/s]"
          ]
        },
        {
          "output_type": "stream",
          "name": "stdout",
          "text": [
            "                   all         87         94      0.921      0.867      0.891      0.485\n"
          ]
        },
        {
          "output_type": "stream",
          "name": "stderr",
          "text": [
            "\n"
          ]
        },
        {
          "output_type": "stream",
          "name": "stdout",
          "text": [
            "\n",
            "      Epoch    GPU_mem   box_loss   cls_loss   dfl_loss  Instances       Size\n"
          ]
        },
        {
          "output_type": "stream",
          "name": "stderr",
          "text": [
            "     50/100      0.35G     0.8356     0.5419     0.9593          2        320: 100%|██████████| 44/44 [00:04<00:00,  9.75it/s]\n",
            "                 Class     Images  Instances      Box(P          R      mAP50  mAP50-95): 100%|██████████| 6/6 [00:00<00:00, 13.82it/s]"
          ]
        },
        {
          "output_type": "stream",
          "name": "stdout",
          "text": [
            "                   all         87         94      0.931      0.861      0.896      0.457\n"
          ]
        },
        {
          "output_type": "stream",
          "name": "stderr",
          "text": [
            "\n"
          ]
        },
        {
          "output_type": "stream",
          "name": "stdout",
          "text": [
            "\n",
            "      Epoch    GPU_mem   box_loss   cls_loss   dfl_loss  Instances       Size\n"
          ]
        },
        {
          "output_type": "stream",
          "name": "stderr",
          "text": [
            "     51/100     0.352G     0.9077     0.5495     0.9727          4        320: 100%|██████████| 44/44 [00:05<00:00,  8.78it/s]\n",
            "                 Class     Images  Instances      Box(P          R      mAP50  mAP50-95): 100%|██████████| 6/6 [00:00<00:00,  9.26it/s]"
          ]
        },
        {
          "output_type": "stream",
          "name": "stdout",
          "text": [
            "                   all         87         94      0.906       0.84      0.872      0.468\n"
          ]
        },
        {
          "output_type": "stream",
          "name": "stderr",
          "text": [
            "\n"
          ]
        },
        {
          "output_type": "stream",
          "name": "stdout",
          "text": [
            "\n",
            "      Epoch    GPU_mem   box_loss   cls_loss   dfl_loss  Instances       Size\n"
          ]
        },
        {
          "output_type": "stream",
          "name": "stderr",
          "text": [
            "     52/100      0.35G      0.852     0.5689     0.9461          7        320: 100%|██████████| 44/44 [00:07<00:00,  6.26it/s]\n",
            "                 Class     Images  Instances      Box(P          R      mAP50  mAP50-95): 100%|██████████| 6/6 [00:00<00:00,  7.62it/s]"
          ]
        },
        {
          "output_type": "stream",
          "name": "stdout",
          "text": [
            "                   all         87         94      0.918      0.862       0.88      0.483\n"
          ]
        },
        {
          "output_type": "stream",
          "name": "stderr",
          "text": [
            "\n"
          ]
        },
        {
          "output_type": "stream",
          "name": "stdout",
          "text": [
            "\n",
            "      Epoch    GPU_mem   box_loss   cls_loss   dfl_loss  Instances       Size\n"
          ]
        },
        {
          "output_type": "stream",
          "name": "stderr",
          "text": [
            "     53/100      0.35G     0.8613     0.5547     0.9657          5        320: 100%|██████████| 44/44 [00:04<00:00,  9.98it/s]\n",
            "                 Class     Images  Instances      Box(P          R      mAP50  mAP50-95): 100%|██████████| 6/6 [00:00<00:00, 13.65it/s]"
          ]
        },
        {
          "output_type": "stream",
          "name": "stdout",
          "text": [
            "                   all         87         94      0.899       0.85      0.866      0.481\n"
          ]
        },
        {
          "output_type": "stream",
          "name": "stderr",
          "text": [
            "\n"
          ]
        },
        {
          "output_type": "stream",
          "name": "stdout",
          "text": [
            "\n",
            "      Epoch    GPU_mem   box_loss   cls_loss   dfl_loss  Instances       Size\n"
          ]
        },
        {
          "output_type": "stream",
          "name": "stderr",
          "text": [
            "     54/100     0.352G     0.8486      0.541      0.969          3        320: 100%|██████████| 44/44 [00:03<00:00, 11.26it/s]\n",
            "                 Class     Images  Instances      Box(P          R      mAP50  mAP50-95): 100%|██████████| 6/6 [00:00<00:00, 14.04it/s]"
          ]
        },
        {
          "output_type": "stream",
          "name": "stdout",
          "text": [
            "                   all         87         94      0.951      0.883       0.89      0.484\n"
          ]
        },
        {
          "output_type": "stream",
          "name": "stderr",
          "text": [
            "\n"
          ]
        },
        {
          "output_type": "stream",
          "name": "stdout",
          "text": [
            "\n",
            "      Epoch    GPU_mem   box_loss   cls_loss   dfl_loss  Instances       Size\n"
          ]
        },
        {
          "output_type": "stream",
          "name": "stderr",
          "text": [
            "     55/100      0.35G     0.8457     0.5378     0.9564          3        320: 100%|██████████| 44/44 [00:05<00:00,  7.77it/s]\n",
            "                 Class     Images  Instances      Box(P          R      mAP50  mAP50-95): 100%|██████████| 6/6 [00:00<00:00,  9.21it/s]\n"
          ]
        },
        {
          "output_type": "stream",
          "name": "stdout",
          "text": [
            "                   all         87         94      0.918       0.84      0.848      0.478\n",
            "\n",
            "      Epoch    GPU_mem   box_loss   cls_loss   dfl_loss  Instances       Size\n"
          ]
        },
        {
          "output_type": "stream",
          "name": "stderr",
          "text": [
            "     56/100     0.352G      0.826     0.5401     0.9438          3        320: 100%|██████████| 44/44 [00:03<00:00, 11.13it/s]\n",
            "                 Class     Images  Instances      Box(P          R      mAP50  mAP50-95): 100%|██████████| 6/6 [00:00<00:00, 13.83it/s]"
          ]
        },
        {
          "output_type": "stream",
          "name": "stdout",
          "text": [
            "                   all         87         94      0.907      0.851      0.871      0.463\n"
          ]
        },
        {
          "output_type": "stream",
          "name": "stderr",
          "text": [
            "\n"
          ]
        },
        {
          "output_type": "stream",
          "name": "stdout",
          "text": [
            "\n",
            "      Epoch    GPU_mem   box_loss   cls_loss   dfl_loss  Instances       Size\n"
          ]
        },
        {
          "output_type": "stream",
          "name": "stderr",
          "text": [
            "     57/100      0.35G      0.844     0.5368     0.9488          5        320: 100%|██████████| 44/44 [00:03<00:00, 11.07it/s]\n",
            "                 Class     Images  Instances      Box(P          R      mAP50  mAP50-95): 100%|██████████| 6/6 [00:00<00:00, 13.63it/s]"
          ]
        },
        {
          "output_type": "stream",
          "name": "stdout",
          "text": [
            "                   all         87         94      0.898      0.862      0.889      0.483\n"
          ]
        },
        {
          "output_type": "stream",
          "name": "stderr",
          "text": [
            "\n"
          ]
        },
        {
          "output_type": "stream",
          "name": "stdout",
          "text": [
            "\n",
            "      Epoch    GPU_mem   box_loss   cls_loss   dfl_loss  Instances       Size\n"
          ]
        },
        {
          "output_type": "stream",
          "name": "stderr",
          "text": [
            "     58/100      0.35G     0.8221     0.5116     0.9639          4        320: 100%|██████████| 44/44 [00:06<00:00,  7.14it/s]\n",
            "                 Class     Images  Instances      Box(P          R      mAP50  mAP50-95): 100%|██████████| 6/6 [00:00<00:00,  7.54it/s]"
          ]
        },
        {
          "output_type": "stream",
          "name": "stdout",
          "text": [
            "                   all         87         94      0.928      0.817      0.855      0.478\n"
          ]
        },
        {
          "output_type": "stream",
          "name": "stderr",
          "text": [
            "\n"
          ]
        },
        {
          "output_type": "stream",
          "name": "stdout",
          "text": [
            "\n",
            "      Epoch    GPU_mem   box_loss   cls_loss   dfl_loss  Instances       Size\n"
          ]
        },
        {
          "output_type": "stream",
          "name": "stderr",
          "text": [
            "     59/100      0.35G      0.821     0.5212     0.9477          1        320: 100%|██████████| 44/44 [00:03<00:00, 11.32it/s]\n",
            "                 Class     Images  Instances      Box(P          R      mAP50  mAP50-95): 100%|██████████| 6/6 [00:00<00:00, 13.17it/s]"
          ]
        },
        {
          "output_type": "stream",
          "name": "stdout",
          "text": [
            "                   all         87         94      0.933      0.798      0.853       0.47\n"
          ]
        },
        {
          "output_type": "stream",
          "name": "stderr",
          "text": [
            "\n"
          ]
        },
        {
          "output_type": "stream",
          "name": "stdout",
          "text": [
            "\n",
            "      Epoch    GPU_mem   box_loss   cls_loss   dfl_loss  Instances       Size\n"
          ]
        },
        {
          "output_type": "stream",
          "name": "stderr",
          "text": [
            "     60/100      0.35G       0.81     0.5284     0.9285          6        320: 100%|██████████| 44/44 [00:04<00:00, 10.95it/s]\n",
            "                 Class     Images  Instances      Box(P          R      mAP50  mAP50-95): 100%|██████████| 6/6 [00:00<00:00, 13.12it/s]"
          ]
        },
        {
          "output_type": "stream",
          "name": "stdout",
          "text": [
            "                   all         87         94      0.939      0.862       0.91      0.478\n"
          ]
        },
        {
          "output_type": "stream",
          "name": "stderr",
          "text": [
            "\n"
          ]
        },
        {
          "output_type": "stream",
          "name": "stdout",
          "text": [
            "\n",
            "      Epoch    GPU_mem   box_loss   cls_loss   dfl_loss  Instances       Size\n"
          ]
        },
        {
          "output_type": "stream",
          "name": "stderr",
          "text": [
            "     61/100     0.352G     0.7816     0.4975     0.9454          8        320: 100%|██████████| 44/44 [00:06<00:00,  6.81it/s]\n",
            "                 Class     Images  Instances      Box(P          R      mAP50  mAP50-95): 100%|██████████| 6/6 [00:00<00:00,  8.90it/s]"
          ]
        },
        {
          "output_type": "stream",
          "name": "stdout",
          "text": [
            "                   all         87         94      0.945       0.83      0.876      0.492\n"
          ]
        },
        {
          "output_type": "stream",
          "name": "stderr",
          "text": [
            "\n"
          ]
        },
        {
          "output_type": "stream",
          "name": "stdout",
          "text": [
            "\n",
            "      Epoch    GPU_mem   box_loss   cls_loss   dfl_loss  Instances       Size\n"
          ]
        },
        {
          "output_type": "stream",
          "name": "stderr",
          "text": [
            "     62/100      0.35G     0.7725     0.4771     0.9357          2        320: 100%|██████████| 44/44 [00:03<00:00, 11.05it/s]\n",
            "                 Class     Images  Instances      Box(P          R      mAP50  mAP50-95): 100%|██████████| 6/6 [00:00<00:00, 14.11it/s]"
          ]
        },
        {
          "output_type": "stream",
          "name": "stdout",
          "text": [
            "                   all         87         94      0.961      0.819      0.881      0.489\n"
          ]
        },
        {
          "output_type": "stream",
          "name": "stderr",
          "text": [
            "\n"
          ]
        },
        {
          "output_type": "stream",
          "name": "stdout",
          "text": [
            "\n",
            "      Epoch    GPU_mem   box_loss   cls_loss   dfl_loss  Instances       Size\n"
          ]
        },
        {
          "output_type": "stream",
          "name": "stderr",
          "text": [
            "     63/100      0.35G     0.8066      0.516     0.9397          8        320: 100%|██████████| 44/44 [00:03<00:00, 11.33it/s]\n",
            "                 Class     Images  Instances      Box(P          R      mAP50  mAP50-95): 100%|██████████| 6/6 [00:00<00:00, 13.42it/s]"
          ]
        },
        {
          "output_type": "stream",
          "name": "stdout",
          "text": [
            "                   all         87         94      0.912       0.83      0.868      0.474\n"
          ]
        },
        {
          "output_type": "stream",
          "name": "stderr",
          "text": [
            "\n"
          ]
        },
        {
          "output_type": "stream",
          "name": "stdout",
          "text": [
            "\n",
            "      Epoch    GPU_mem   box_loss   cls_loss   dfl_loss  Instances       Size\n"
          ]
        },
        {
          "output_type": "stream",
          "name": "stderr",
          "text": [
            "     64/100      0.35G     0.7988     0.5092     0.9502          5        320: 100%|██████████| 44/44 [00:06<00:00,  7.12it/s]\n",
            "                 Class     Images  Instances      Box(P          R      mAP50  mAP50-95): 100%|██████████| 6/6 [00:00<00:00,  7.81it/s]"
          ]
        },
        {
          "output_type": "stream",
          "name": "stdout",
          "text": [
            "                   all         87         94       0.89      0.857      0.878      0.472\n"
          ]
        },
        {
          "output_type": "stream",
          "name": "stderr",
          "text": [
            "\n"
          ]
        },
        {
          "output_type": "stream",
          "name": "stdout",
          "text": [
            "\n",
            "      Epoch    GPU_mem   box_loss   cls_loss   dfl_loss  Instances       Size\n"
          ]
        },
        {
          "output_type": "stream",
          "name": "stderr",
          "text": [
            "     65/100      0.35G     0.7845      0.499     0.9463          3        320: 100%|██████████| 44/44 [00:04<00:00, 10.95it/s]\n",
            "                 Class     Images  Instances      Box(P          R      mAP50  mAP50-95): 100%|██████████| 6/6 [00:00<00:00, 13.27it/s]"
          ]
        },
        {
          "output_type": "stream",
          "name": "stdout",
          "text": [
            "                   all         87         94      0.894       0.83      0.875       0.48\n"
          ]
        },
        {
          "output_type": "stream",
          "name": "stderr",
          "text": [
            "\n"
          ]
        },
        {
          "output_type": "stream",
          "name": "stdout",
          "text": [
            "\n",
            "      Epoch    GPU_mem   box_loss   cls_loss   dfl_loss  Instances       Size\n"
          ]
        },
        {
          "output_type": "stream",
          "name": "stderr",
          "text": [
            "     66/100      0.35G     0.8444     0.5129     0.9695          4        320: 100%|██████████| 44/44 [00:03<00:00, 11.15it/s]\n",
            "                 Class     Images  Instances      Box(P          R      mAP50  mAP50-95): 100%|██████████| 6/6 [00:00<00:00, 12.95it/s]"
          ]
        },
        {
          "output_type": "stream",
          "name": "stdout",
          "text": [
            "                   all         87         94      0.925       0.84      0.879      0.486\n"
          ]
        },
        {
          "output_type": "stream",
          "name": "stderr",
          "text": [
            "\n"
          ]
        },
        {
          "output_type": "stream",
          "name": "stdout",
          "text": [
            "\n",
            "      Epoch    GPU_mem   box_loss   cls_loss   dfl_loss  Instances       Size\n"
          ]
        },
        {
          "output_type": "stream",
          "name": "stderr",
          "text": [
            "     67/100      0.35G     0.7692     0.4787     0.9303          4        320: 100%|██████████| 44/44 [00:06<00:00,  6.96it/s]\n",
            "                 Class     Images  Instances      Box(P          R      mAP50  mAP50-95): 100%|██████████| 6/6 [00:00<00:00,  8.69it/s]"
          ]
        },
        {
          "output_type": "stream",
          "name": "stdout",
          "text": [
            "                   all         87         94      0.908      0.844       0.88      0.486\n"
          ]
        },
        {
          "output_type": "stream",
          "name": "stderr",
          "text": [
            "\n"
          ]
        },
        {
          "output_type": "stream",
          "name": "stdout",
          "text": [
            "\n",
            "      Epoch    GPU_mem   box_loss   cls_loss   dfl_loss  Instances       Size\n"
          ]
        },
        {
          "output_type": "stream",
          "name": "stderr",
          "text": [
            "     68/100      0.35G     0.7907     0.4869     0.9379          5        320: 100%|██████████| 44/44 [00:04<00:00,  9.99it/s]\n",
            "                 Class     Images  Instances      Box(P          R      mAP50  mAP50-95): 100%|██████████| 6/6 [00:00<00:00, 13.39it/s]"
          ]
        },
        {
          "output_type": "stream",
          "name": "stdout",
          "text": [
            "                   all         87         94      0.898       0.84      0.887      0.488\n"
          ]
        },
        {
          "output_type": "stream",
          "name": "stderr",
          "text": [
            "\n"
          ]
        },
        {
          "output_type": "stream",
          "name": "stdout",
          "text": [
            "\n",
            "      Epoch    GPU_mem   box_loss   cls_loss   dfl_loss  Instances       Size\n"
          ]
        },
        {
          "output_type": "stream",
          "name": "stderr",
          "text": [
            "     69/100      0.35G     0.7841     0.4949       0.95          3        320: 100%|██████████| 44/44 [00:03<00:00, 11.08it/s]\n",
            "                 Class     Images  Instances      Box(P          R      mAP50  mAP50-95): 100%|██████████| 6/6 [00:00<00:00, 14.06it/s]"
          ]
        },
        {
          "output_type": "stream",
          "name": "stdout",
          "text": [
            "                   all         87         94      0.931      0.872      0.895      0.485\n"
          ]
        },
        {
          "output_type": "stream",
          "name": "stderr",
          "text": [
            "\n"
          ]
        },
        {
          "output_type": "stream",
          "name": "stdout",
          "text": [
            "\n",
            "      Epoch    GPU_mem   box_loss   cls_loss   dfl_loss  Instances       Size\n"
          ]
        },
        {
          "output_type": "stream",
          "name": "stderr",
          "text": [
            "     70/100      0.35G     0.7598     0.4938     0.9382          4        320: 100%|██████████| 44/44 [00:06<00:00,  7.33it/s]\n",
            "                 Class     Images  Instances      Box(P          R      mAP50  mAP50-95): 100%|██████████| 6/6 [00:00<00:00,  8.63it/s]"
          ]
        },
        {
          "output_type": "stream",
          "name": "stdout",
          "text": [
            "                   all         87         94      0.928      0.872      0.877      0.474\n"
          ]
        },
        {
          "output_type": "stream",
          "name": "stderr",
          "text": [
            "\n"
          ]
        },
        {
          "output_type": "stream",
          "name": "stdout",
          "text": [
            "\n",
            "      Epoch    GPU_mem   box_loss   cls_loss   dfl_loss  Instances       Size\n"
          ]
        },
        {
          "output_type": "stream",
          "name": "stderr",
          "text": [
            "     71/100     0.352G     0.7637      0.481     0.9251          3        320: 100%|██████████| 44/44 [00:04<00:00, 10.99it/s]\n",
            "                 Class     Images  Instances      Box(P          R      mAP50  mAP50-95): 100%|██████████| 6/6 [00:00<00:00, 13.54it/s]"
          ]
        },
        {
          "output_type": "stream",
          "name": "stdout",
          "text": [
            "                   all         87         94      0.932      0.875      0.889      0.498\n"
          ]
        },
        {
          "output_type": "stream",
          "name": "stderr",
          "text": [
            "\n"
          ]
        },
        {
          "output_type": "stream",
          "name": "stdout",
          "text": [
            "\n",
            "      Epoch    GPU_mem   box_loss   cls_loss   dfl_loss  Instances       Size\n"
          ]
        },
        {
          "output_type": "stream",
          "name": "stderr",
          "text": [
            "     72/100      0.35G     0.7479     0.4588     0.9423          3        320: 100%|██████████| 44/44 [00:04<00:00, 10.72it/s]\n",
            "                 Class     Images  Instances      Box(P          R      mAP50  mAP50-95): 100%|██████████| 6/6 [00:00<00:00, 13.61it/s]"
          ]
        },
        {
          "output_type": "stream",
          "name": "stdout",
          "text": [
            "                   all         87         94      0.901      0.851      0.883      0.485\n"
          ]
        },
        {
          "output_type": "stream",
          "name": "stderr",
          "text": [
            "\n"
          ]
        },
        {
          "output_type": "stream",
          "name": "stdout",
          "text": [
            "\n",
            "      Epoch    GPU_mem   box_loss   cls_loss   dfl_loss  Instances       Size\n"
          ]
        },
        {
          "output_type": "stream",
          "name": "stderr",
          "text": [
            "     73/100      0.35G      0.735     0.4676     0.9073          7        320: 100%|██████████| 44/44 [00:06<00:00,  7.03it/s]\n",
            "                 Class     Images  Instances      Box(P          R      mAP50  mAP50-95): 100%|██████████| 6/6 [00:00<00:00,  9.79it/s]"
          ]
        },
        {
          "output_type": "stream",
          "name": "stdout",
          "text": [
            "                   all         87         94      0.911      0.862      0.894       0.49\n"
          ]
        },
        {
          "output_type": "stream",
          "name": "stderr",
          "text": [
            "\n"
          ]
        },
        {
          "output_type": "stream",
          "name": "stdout",
          "text": [
            "\n",
            "      Epoch    GPU_mem   box_loss   cls_loss   dfl_loss  Instances       Size\n"
          ]
        },
        {
          "output_type": "stream",
          "name": "stderr",
          "text": [
            "     74/100      0.35G      0.733     0.4513     0.9252          5        320: 100%|██████████| 44/44 [00:04<00:00, 10.17it/s]\n",
            "                 Class     Images  Instances      Box(P          R      mAP50  mAP50-95): 100%|██████████| 6/6 [00:00<00:00, 13.78it/s]"
          ]
        },
        {
          "output_type": "stream",
          "name": "stdout",
          "text": [
            "                   all         87         94      0.961      0.809       0.86      0.477\n"
          ]
        },
        {
          "output_type": "stream",
          "name": "stderr",
          "text": [
            "\n"
          ]
        },
        {
          "output_type": "stream",
          "name": "stdout",
          "text": [
            "\n",
            "      Epoch    GPU_mem   box_loss   cls_loss   dfl_loss  Instances       Size\n"
          ]
        },
        {
          "output_type": "stream",
          "name": "stderr",
          "text": [
            "     75/100      0.35G     0.7264     0.4558     0.9134          4        320: 100%|██████████| 44/44 [00:03<00:00, 11.06it/s]\n",
            "                 Class     Images  Instances      Box(P          R      mAP50  mAP50-95): 100%|██████████| 6/6 [00:00<00:00, 13.57it/s]"
          ]
        },
        {
          "output_type": "stream",
          "name": "stdout",
          "text": [
            "                   all         87         94      0.926       0.83      0.862      0.488\n"
          ]
        },
        {
          "output_type": "stream",
          "name": "stderr",
          "text": [
            "\n"
          ]
        },
        {
          "output_type": "stream",
          "name": "stdout",
          "text": [
            "\n",
            "      Epoch    GPU_mem   box_loss   cls_loss   dfl_loss  Instances       Size\n"
          ]
        },
        {
          "output_type": "stream",
          "name": "stderr",
          "text": [
            "     76/100      0.35G     0.7488     0.4686     0.9276          4        320: 100%|██████████| 44/44 [00:05<00:00,  7.53it/s]\n",
            "                 Class     Images  Instances      Box(P          R      mAP50  mAP50-95): 100%|██████████| 6/6 [00:00<00:00,  7.75it/s]"
          ]
        },
        {
          "output_type": "stream",
          "name": "stdout",
          "text": [
            "                   all         87         94      0.963      0.823      0.868      0.485\n"
          ]
        },
        {
          "output_type": "stream",
          "name": "stderr",
          "text": [
            "\n"
          ]
        },
        {
          "output_type": "stream",
          "name": "stdout",
          "text": [
            "\n",
            "      Epoch    GPU_mem   box_loss   cls_loss   dfl_loss  Instances       Size\n"
          ]
        },
        {
          "output_type": "stream",
          "name": "stderr",
          "text": [
            "     77/100      0.35G     0.6705     0.4575     0.9183          7        320: 100%|██████████| 44/44 [00:04<00:00,  9.77it/s]\n",
            "                 Class     Images  Instances      Box(P          R      mAP50  mAP50-95): 100%|██████████| 6/6 [00:00<00:00, 13.43it/s]"
          ]
        },
        {
          "output_type": "stream",
          "name": "stdout",
          "text": [
            "                   all         87         94      0.919      0.848      0.868      0.481\n"
          ]
        },
        {
          "output_type": "stream",
          "name": "stderr",
          "text": [
            "\n"
          ]
        },
        {
          "output_type": "stream",
          "name": "stdout",
          "text": [
            "\n",
            "      Epoch    GPU_mem   box_loss   cls_loss   dfl_loss  Instances       Size\n"
          ]
        },
        {
          "output_type": "stream",
          "name": "stderr",
          "text": [
            "     78/100     0.352G      0.705     0.4445     0.9253          5        320: 100%|██████████| 44/44 [00:04<00:00, 10.93it/s]\n",
            "                 Class     Images  Instances      Box(P          R      mAP50  mAP50-95): 100%|██████████| 6/6 [00:00<00:00, 14.02it/s]"
          ]
        },
        {
          "output_type": "stream",
          "name": "stdout",
          "text": [
            "                   all         87         94      0.929       0.84      0.869       0.49\n"
          ]
        },
        {
          "output_type": "stream",
          "name": "stderr",
          "text": [
            "\n"
          ]
        },
        {
          "output_type": "stream",
          "name": "stdout",
          "text": [
            "\n",
            "      Epoch    GPU_mem   box_loss   cls_loss   dfl_loss  Instances       Size\n"
          ]
        },
        {
          "output_type": "stream",
          "name": "stderr",
          "text": [
            "     79/100      0.35G      0.701     0.4415     0.9115          5        320: 100%|██████████| 44/44 [00:05<00:00,  7.59it/s]\n",
            "                 Class     Images  Instances      Box(P          R      mAP50  mAP50-95): 100%|██████████| 6/6 [00:00<00:00,  9.91it/s]"
          ]
        },
        {
          "output_type": "stream",
          "name": "stdout",
          "text": [
            "                   all         87         94      0.952      0.843       0.89      0.501\n"
          ]
        },
        {
          "output_type": "stream",
          "name": "stderr",
          "text": [
            "\n"
          ]
        },
        {
          "output_type": "stream",
          "name": "stdout",
          "text": [
            "\n",
            "      Epoch    GPU_mem   box_loss   cls_loss   dfl_loss  Instances       Size\n"
          ]
        },
        {
          "output_type": "stream",
          "name": "stderr",
          "text": [
            "     80/100      0.35G     0.7089     0.4515     0.9098          5        320: 100%|██████████| 44/44 [00:04<00:00, 10.12it/s]\n",
            "                 Class     Images  Instances      Box(P          R      mAP50  mAP50-95): 100%|██████████| 6/6 [00:00<00:00, 13.13it/s]"
          ]
        },
        {
          "output_type": "stream",
          "name": "stdout",
          "text": [
            "                   all         87         94      0.945      0.862      0.907      0.502\n"
          ]
        },
        {
          "output_type": "stream",
          "name": "stderr",
          "text": [
            "\n"
          ]
        },
        {
          "output_type": "stream",
          "name": "stdout",
          "text": [
            "\n",
            "      Epoch    GPU_mem   box_loss   cls_loss   dfl_loss  Instances       Size\n"
          ]
        },
        {
          "output_type": "stream",
          "name": "stderr",
          "text": [
            "     81/100     0.352G     0.7118     0.4575     0.9316          5        320: 100%|██████████| 44/44 [00:04<00:00, 11.00it/s]\n",
            "                 Class     Images  Instances      Box(P          R      mAP50  mAP50-95): 100%|██████████| 6/6 [00:00<00:00, 13.24it/s]"
          ]
        },
        {
          "output_type": "stream",
          "name": "stdout",
          "text": [
            "                   all         87         94      0.915       0.83      0.881      0.505\n"
          ]
        },
        {
          "output_type": "stream",
          "name": "stderr",
          "text": [
            "\n"
          ]
        },
        {
          "output_type": "stream",
          "name": "stdout",
          "text": [
            "\n",
            "      Epoch    GPU_mem   box_loss   cls_loss   dfl_loss  Instances       Size\n"
          ]
        },
        {
          "output_type": "stream",
          "name": "stderr",
          "text": [
            "     82/100      0.35G     0.6833     0.4418     0.8966          4        320: 100%|██████████| 44/44 [00:05<00:00,  7.79it/s]\n",
            "                 Class     Images  Instances      Box(P          R      mAP50  mAP50-95): 100%|██████████| 6/6 [00:00<00:00,  6.75it/s]"
          ]
        },
        {
          "output_type": "stream",
          "name": "stdout",
          "text": [
            "                   all         87         94      0.909      0.883       0.91       0.51\n"
          ]
        },
        {
          "output_type": "stream",
          "name": "stderr",
          "text": [
            "\n"
          ]
        },
        {
          "output_type": "stream",
          "name": "stdout",
          "text": [
            "\n",
            "      Epoch    GPU_mem   box_loss   cls_loss   dfl_loss  Instances       Size\n"
          ]
        },
        {
          "output_type": "stream",
          "name": "stderr",
          "text": [
            "     83/100      0.35G     0.6856     0.4384     0.9177          6        320: 100%|██████████| 44/44 [00:04<00:00, 10.58it/s]\n",
            "                 Class     Images  Instances      Box(P          R      mAP50  mAP50-95): 100%|██████████| 6/6 [00:00<00:00, 13.37it/s]"
          ]
        },
        {
          "output_type": "stream",
          "name": "stdout",
          "text": [
            "                   all         87         94      0.958      0.851        0.9      0.502\n"
          ]
        },
        {
          "output_type": "stream",
          "name": "stderr",
          "text": [
            "\n"
          ]
        },
        {
          "output_type": "stream",
          "name": "stdout",
          "text": [
            "\n",
            "      Epoch    GPU_mem   box_loss   cls_loss   dfl_loss  Instances       Size\n"
          ]
        },
        {
          "output_type": "stream",
          "name": "stderr",
          "text": [
            "     84/100      0.35G     0.6701      0.435     0.9007          6        320: 100%|██████████| 44/44 [00:04<00:00, 10.93it/s]\n",
            "                 Class     Images  Instances      Box(P          R      mAP50  mAP50-95): 100%|██████████| 6/6 [00:00<00:00, 13.27it/s]"
          ]
        },
        {
          "output_type": "stream",
          "name": "stdout",
          "text": [
            "                   all         87         94      0.967      0.819      0.906      0.508\n"
          ]
        },
        {
          "output_type": "stream",
          "name": "stderr",
          "text": [
            "\n"
          ]
        },
        {
          "output_type": "stream",
          "name": "stdout",
          "text": [
            "\n",
            "      Epoch    GPU_mem   box_loss   cls_loss   dfl_loss  Instances       Size\n"
          ]
        },
        {
          "output_type": "stream",
          "name": "stderr",
          "text": [
            "     85/100      0.35G      0.695      0.437     0.9203          5        320: 100%|██████████| 44/44 [00:05<00:00,  7.35it/s]\n",
            "                 Class     Images  Instances      Box(P          R      mAP50  mAP50-95): 100%|██████████| 6/6 [00:00<00:00,  8.81it/s]"
          ]
        },
        {
          "output_type": "stream",
          "name": "stdout",
          "text": [
            "                   all         87         94      0.943      0.851      0.907      0.507\n"
          ]
        },
        {
          "output_type": "stream",
          "name": "stderr",
          "text": [
            "\n"
          ]
        },
        {
          "output_type": "stream",
          "name": "stdout",
          "text": [
            "\n",
            "      Epoch    GPU_mem   box_loss   cls_loss   dfl_loss  Instances       Size\n"
          ]
        },
        {
          "output_type": "stream",
          "name": "stderr",
          "text": [
            "     86/100      0.35G     0.7048     0.4352     0.9263          5        320: 100%|██████████| 44/44 [00:03<00:00, 11.20it/s]\n",
            "                 Class     Images  Instances      Box(P          R      mAP50  mAP50-95): 100%|██████████| 6/6 [00:00<00:00, 13.47it/s]"
          ]
        },
        {
          "output_type": "stream",
          "name": "stdout",
          "text": [
            "                   all         87         94       0.95       0.84      0.911       0.51\n"
          ]
        },
        {
          "output_type": "stream",
          "name": "stderr",
          "text": [
            "\n"
          ]
        },
        {
          "output_type": "stream",
          "name": "stdout",
          "text": [
            "\n",
            "      Epoch    GPU_mem   box_loss   cls_loss   dfl_loss  Instances       Size\n"
          ]
        },
        {
          "output_type": "stream",
          "name": "stderr",
          "text": [
            "     87/100      0.35G     0.6922     0.4333     0.9253          6        320: 100%|██████████| 44/44 [00:04<00:00, 10.87it/s]\n",
            "                 Class     Images  Instances      Box(P          R      mAP50  mAP50-95): 100%|██████████| 6/6 [00:00<00:00, 14.48it/s]"
          ]
        },
        {
          "output_type": "stream",
          "name": "stdout",
          "text": [
            "                   all         87         94      0.955       0.84      0.916      0.505\n"
          ]
        },
        {
          "output_type": "stream",
          "name": "stderr",
          "text": [
            "\n"
          ]
        },
        {
          "output_type": "stream",
          "name": "stdout",
          "text": [
            "\n",
            "      Epoch    GPU_mem   box_loss   cls_loss   dfl_loss  Instances       Size\n"
          ]
        },
        {
          "output_type": "stream",
          "name": "stderr",
          "text": [
            "     88/100      0.35G     0.6854     0.4248     0.9012          5        320: 100%|██████████| 44/44 [00:06<00:00,  7.07it/s]\n",
            "                 Class     Images  Instances      Box(P          R      mAP50  mAP50-95): 100%|██████████| 6/6 [00:00<00:00, 10.18it/s]"
          ]
        },
        {
          "output_type": "stream",
          "name": "stdout",
          "text": [
            "                   all         87         94      0.933      0.862      0.913      0.501\n"
          ]
        },
        {
          "output_type": "stream",
          "name": "stderr",
          "text": [
            "\n"
          ]
        },
        {
          "output_type": "stream",
          "name": "stdout",
          "text": [
            "\n",
            "      Epoch    GPU_mem   box_loss   cls_loss   dfl_loss  Instances       Size\n"
          ]
        },
        {
          "output_type": "stream",
          "name": "stderr",
          "text": [
            "     89/100     0.352G     0.7006     0.4256     0.9168          6        320: 100%|██████████| 44/44 [00:03<00:00, 11.24it/s]\n",
            "                 Class     Images  Instances      Box(P          R      mAP50  mAP50-95): 100%|██████████| 6/6 [00:00<00:00, 14.04it/s]"
          ]
        },
        {
          "output_type": "stream",
          "name": "stdout",
          "text": [
            "                   all         87         94      0.942      0.862      0.903      0.507\n"
          ]
        },
        {
          "output_type": "stream",
          "name": "stderr",
          "text": [
            "\n"
          ]
        },
        {
          "output_type": "stream",
          "name": "stdout",
          "text": [
            "\n",
            "      Epoch    GPU_mem   box_loss   cls_loss   dfl_loss  Instances       Size\n"
          ]
        },
        {
          "output_type": "stream",
          "name": "stderr",
          "text": [
            "     90/100      0.35G     0.6711     0.4093     0.8961          2        320: 100%|██████████| 44/44 [00:03<00:00, 11.15it/s]\n",
            "                 Class     Images  Instances      Box(P          R      mAP50  mAP50-95): 100%|██████████| 6/6 [00:00<00:00, 11.59it/s]\n"
          ]
        },
        {
          "output_type": "stream",
          "name": "stdout",
          "text": [
            "                   all         87         94      0.955      0.851      0.908      0.501\n",
            "Closing dataloader mosaic\n",
            "\u001b[34m\u001b[1malbumentations: \u001b[0mBlur(p=0.01, blur_limit=(3, 7)), MedianBlur(p=0.01, blur_limit=(3, 7)), ToGray(p=0.01), CLAHE(p=0.01, clip_limit=(1, 4.0), tile_grid_size=(8, 8))\n"
          ]
        },
        {
          "output_type": "stream",
          "name": "stderr",
          "text": [
            "/usr/lib/python3.10/multiprocessing/popen_fork.py:66: RuntimeWarning: os.fork() was called. os.fork() is incompatible with multithreaded code, and JAX is multithreaded, so this will likely lead to a deadlock.\n",
            "  self.pid = os.fork()\n",
            "/usr/lib/python3.10/multiprocessing/popen_fork.py:66: RuntimeWarning: os.fork() was called. os.fork() is incompatible with multithreaded code, and JAX is multithreaded, so this will likely lead to a deadlock.\n",
            "  self.pid = os.fork()\n"
          ]
        },
        {
          "output_type": "stream",
          "name": "stdout",
          "text": [
            "\n",
            "      Epoch    GPU_mem   box_loss   cls_loss   dfl_loss  Instances       Size\n"
          ]
        },
        {
          "output_type": "stream",
          "name": "stderr",
          "text": [
            "     91/100      0.35G      1.111     0.5706      1.028          2        320: 100%|██████████| 44/44 [00:07<00:00,  6.19it/s]\n",
            "                 Class     Images  Instances      Box(P          R      mAP50  mAP50-95): 100%|██████████| 6/6 [00:00<00:00, 14.13it/s]"
          ]
        },
        {
          "output_type": "stream",
          "name": "stdout",
          "text": [
            "                   all         87         94      0.962      0.816      0.887      0.496\n"
          ]
        },
        {
          "output_type": "stream",
          "name": "stderr",
          "text": [
            "\n"
          ]
        },
        {
          "output_type": "stream",
          "name": "stdout",
          "text": [
            "\n",
            "      Epoch    GPU_mem   box_loss   cls_loss   dfl_loss  Instances       Size\n"
          ]
        },
        {
          "output_type": "stream",
          "name": "stderr",
          "text": [
            "     92/100      0.35G      1.069     0.5617      1.035          2        320: 100%|██████████| 44/44 [00:05<00:00,  8.00it/s]\n",
            "                 Class     Images  Instances      Box(P          R      mAP50  mAP50-95): 100%|██████████| 6/6 [00:00<00:00,  8.63it/s]"
          ]
        },
        {
          "output_type": "stream",
          "name": "stdout",
          "text": [
            "                   all         87         94      0.952      0.851      0.899      0.505\n"
          ]
        },
        {
          "output_type": "stream",
          "name": "stderr",
          "text": [
            "\n"
          ]
        },
        {
          "output_type": "stream",
          "name": "stdout",
          "text": [
            "\n",
            "      Epoch    GPU_mem   box_loss   cls_loss   dfl_loss  Instances       Size\n"
          ]
        },
        {
          "output_type": "stream",
          "name": "stderr",
          "text": [
            "     93/100      0.35G      1.054     0.5575      1.022          2        320: 100%|██████████| 44/44 [00:06<00:00,  7.02it/s]\n",
            "                 Class     Images  Instances      Box(P          R      mAP50  mAP50-95): 100%|██████████| 6/6 [00:00<00:00,  8.49it/s]\n"
          ]
        },
        {
          "output_type": "stream",
          "name": "stdout",
          "text": [
            "                   all         87         94       0.94      0.851      0.886      0.507\n",
            "\n",
            "      Epoch    GPU_mem   box_loss   cls_loss   dfl_loss  Instances       Size\n"
          ]
        },
        {
          "output_type": "stream",
          "name": "stderr",
          "text": [
            "     94/100      0.35G      1.063     0.5379      1.024          2        320: 100%|██████████| 44/44 [00:04<00:00, 10.19it/s]\n",
            "                 Class     Images  Instances      Box(P          R      mAP50  mAP50-95): 100%|██████████| 6/6 [00:00<00:00, 13.57it/s]"
          ]
        },
        {
          "output_type": "stream",
          "name": "stdout",
          "text": [
            "                   all         87         94      0.958      0.862      0.896      0.515\n"
          ]
        },
        {
          "output_type": "stream",
          "name": "stderr",
          "text": [
            "\n"
          ]
        },
        {
          "output_type": "stream",
          "name": "stdout",
          "text": [
            "\n",
            "      Epoch    GPU_mem   box_loss   cls_loss   dfl_loss  Instances       Size\n"
          ]
        },
        {
          "output_type": "stream",
          "name": "stderr",
          "text": [
            "     95/100      0.35G      1.048     0.5239      1.007          2        320: 100%|██████████| 44/44 [00:03<00:00, 11.23it/s]\n",
            "                 Class     Images  Instances      Box(P          R      mAP50  mAP50-95): 100%|██████████| 6/6 [00:00<00:00, 13.98it/s]"
          ]
        },
        {
          "output_type": "stream",
          "name": "stdout",
          "text": [
            "                   all         87         94      0.942      0.869      0.888      0.509\n"
          ]
        },
        {
          "output_type": "stream",
          "name": "stderr",
          "text": [
            "\n"
          ]
        },
        {
          "output_type": "stream",
          "name": "stdout",
          "text": [
            "\n",
            "      Epoch    GPU_mem   box_loss   cls_loss   dfl_loss  Instances       Size\n"
          ]
        },
        {
          "output_type": "stream",
          "name": "stderr",
          "text": [
            "     96/100      0.35G      1.058     0.5436      1.017          2        320: 100%|██████████| 44/44 [00:05<00:00,  7.49it/s]\n",
            "                 Class     Images  Instances      Box(P          R      mAP50  mAP50-95): 100%|██████████| 6/6 [00:00<00:00,  7.94it/s]"
          ]
        },
        {
          "output_type": "stream",
          "name": "stdout",
          "text": [
            "                   all         87         94      0.932      0.872      0.898      0.511\n"
          ]
        },
        {
          "output_type": "stream",
          "name": "stderr",
          "text": [
            "\n"
          ]
        },
        {
          "output_type": "stream",
          "name": "stdout",
          "text": [
            "\n",
            "      Epoch    GPU_mem   box_loss   cls_loss   dfl_loss  Instances       Size\n"
          ]
        },
        {
          "output_type": "stream",
          "name": "stderr",
          "text": [
            "     97/100      0.35G     0.9958     0.5163     0.9979          2        320: 100%|██████████| 44/44 [00:04<00:00, 10.36it/s]\n",
            "                 Class     Images  Instances      Box(P          R      mAP50  mAP50-95): 100%|██████████| 6/6 [00:00<00:00, 13.49it/s]"
          ]
        },
        {
          "output_type": "stream",
          "name": "stdout",
          "text": [
            "                   all         87         94      0.943      0.879      0.899      0.509\n"
          ]
        },
        {
          "output_type": "stream",
          "name": "stderr",
          "text": [
            "\n"
          ]
        },
        {
          "output_type": "stream",
          "name": "stdout",
          "text": [
            "\n",
            "      Epoch    GPU_mem   box_loss   cls_loss   dfl_loss  Instances       Size\n"
          ]
        },
        {
          "output_type": "stream",
          "name": "stderr",
          "text": [
            "     98/100      0.35G      1.017     0.4986     0.9955          2        320: 100%|██████████| 44/44 [00:03<00:00, 11.15it/s]\n",
            "                 Class     Images  Instances      Box(P          R      mAP50  mAP50-95): 100%|██████████| 6/6 [00:00<00:00, 13.75it/s]"
          ]
        },
        {
          "output_type": "stream",
          "name": "stdout",
          "text": [
            "                   all         87         94      0.954      0.881      0.903       0.51\n"
          ]
        },
        {
          "output_type": "stream",
          "name": "stderr",
          "text": [
            "\n"
          ]
        },
        {
          "output_type": "stream",
          "name": "stdout",
          "text": [
            "\n",
            "      Epoch    GPU_mem   box_loss   cls_loss   dfl_loss  Instances       Size\n"
          ]
        },
        {
          "output_type": "stream",
          "name": "stderr",
          "text": [
            "     99/100      0.35G      1.043     0.5057      1.013          2        320: 100%|██████████| 44/44 [00:05<00:00,  7.88it/s]\n",
            "                 Class     Images  Instances      Box(P          R      mAP50  mAP50-95): 100%|██████████| 6/6 [00:00<00:00,  8.63it/s]\n"
          ]
        },
        {
          "output_type": "stream",
          "name": "stdout",
          "text": [
            "                   all         87         94      0.954      0.881      0.904      0.509\n",
            "\n",
            "      Epoch    GPU_mem   box_loss   cls_loss   dfl_loss  Instances       Size\n"
          ]
        },
        {
          "output_type": "stream",
          "name": "stderr",
          "text": [
            "    100/100      0.35G      1.019      0.507     0.9888          2        320: 100%|██████████| 44/44 [00:04<00:00, 10.27it/s]\n",
            "                 Class     Images  Instances      Box(P          R      mAP50  mAP50-95): 100%|██████████| 6/6 [00:00<00:00, 13.39it/s]"
          ]
        },
        {
          "output_type": "stream",
          "name": "stdout",
          "text": [
            "                   all         87         94      0.942      0.869        0.9      0.512\n"
          ]
        },
        {
          "output_type": "stream",
          "name": "stderr",
          "text": [
            "\n"
          ]
        },
        {
          "output_type": "stream",
          "name": "stdout",
          "text": [
            "\n",
            "100 epochs completed in 0.170 hours.\n",
            "Optimizer stripped from runs/detect/train/weights/last.pt, 6.2MB\n",
            "Optimizer stripped from runs/detect/train/weights/best.pt, 6.2MB\n",
            "\n",
            "Validating runs/detect/train/weights/best.pt...\n",
            "Ultralytics YOLOv8.2.95 🚀 Python-3.10.12 torch-2.4.0+cu121 CUDA:0 (Tesla T4, 15102MiB)\n",
            "Model summary (fused): 168 layers, 3,005,843 parameters, 0 gradients, 8.1 GFLOPs\n"
          ]
        },
        {
          "output_type": "stream",
          "name": "stderr",
          "text": [
            "                 Class     Images  Instances      Box(P          R      mAP50  mAP50-95): 100%|██████████| 6/6 [00:01<00:00,  3.56it/s]\n"
          ]
        },
        {
          "output_type": "stream",
          "name": "stdout",
          "text": [
            "                   all         87         94      0.958      0.862      0.896      0.516\n",
            "Speed: 0.1ms preprocess, 1.9ms inference, 0.0ms loss, 1.7ms postprocess per image\n",
            "Results saved to \u001b[1mruns/detect/train\u001b[0m\n"
          ]
        },
        {
          "output_type": "execute_result",
          "data": {
            "text/plain": [
              "ultralytics.utils.metrics.DetMetrics object with attributes:\n",
              "\n",
              "ap_class_index: array([0])\n",
              "box: ultralytics.utils.metrics.Metric object\n",
              "confusion_matrix: <ultralytics.utils.metrics.ConfusionMatrix object at 0x7f54e1386e60>\n",
              "curves: ['Precision-Recall(B)', 'F1-Confidence(B)', 'Precision-Confidence(B)', 'Recall-Confidence(B)']\n",
              "curves_results: [[array([          0,    0.001001,    0.002002,    0.003003,    0.004004,    0.005005,    0.006006,    0.007007,    0.008008,    0.009009,     0.01001,    0.011011,    0.012012,    0.013013,    0.014014,    0.015015,    0.016016,    0.017017,    0.018018,    0.019019,     0.02002,    0.021021,    0.022022,    0.023023,\n",
              "          0.024024,    0.025025,    0.026026,    0.027027,    0.028028,    0.029029,     0.03003,    0.031031,    0.032032,    0.033033,    0.034034,    0.035035,    0.036036,    0.037037,    0.038038,    0.039039,     0.04004,    0.041041,    0.042042,    0.043043,    0.044044,    0.045045,    0.046046,    0.047047,\n",
              "          0.048048,    0.049049,     0.05005,    0.051051,    0.052052,    0.053053,    0.054054,    0.055055,    0.056056,    0.057057,    0.058058,    0.059059,     0.06006,    0.061061,    0.062062,    0.063063,    0.064064,    0.065065,    0.066066,    0.067067,    0.068068,    0.069069,     0.07007,    0.071071,\n",
              "          0.072072,    0.073073,    0.074074,    0.075075,    0.076076,    0.077077,    0.078078,    0.079079,     0.08008,    0.081081,    0.082082,    0.083083,    0.084084,    0.085085,    0.086086,    0.087087,    0.088088,    0.089089,     0.09009,    0.091091,    0.092092,    0.093093,    0.094094,    0.095095,\n",
              "          0.096096,    0.097097,    0.098098,    0.099099,      0.1001,      0.1011,      0.1021,      0.1031,      0.1041,     0.10511,     0.10611,     0.10711,     0.10811,     0.10911,     0.11011,     0.11111,     0.11211,     0.11311,     0.11411,     0.11512,     0.11612,     0.11712,     0.11812,     0.11912,\n",
              "           0.12012,     0.12112,     0.12212,     0.12312,     0.12412,     0.12513,     0.12613,     0.12713,     0.12813,     0.12913,     0.13013,     0.13113,     0.13213,     0.13313,     0.13413,     0.13514,     0.13614,     0.13714,     0.13814,     0.13914,     0.14014,     0.14114,     0.14214,     0.14314,\n",
              "           0.14414,     0.14515,     0.14615,     0.14715,     0.14815,     0.14915,     0.15015,     0.15115,     0.15215,     0.15315,     0.15415,     0.15516,     0.15616,     0.15716,     0.15816,     0.15916,     0.16016,     0.16116,     0.16216,     0.16316,     0.16416,     0.16517,     0.16617,     0.16717,\n",
              "           0.16817,     0.16917,     0.17017,     0.17117,     0.17217,     0.17317,     0.17417,     0.17518,     0.17618,     0.17718,     0.17818,     0.17918,     0.18018,     0.18118,     0.18218,     0.18318,     0.18418,     0.18519,     0.18619,     0.18719,     0.18819,     0.18919,     0.19019,     0.19119,\n",
              "           0.19219,     0.19319,     0.19419,      0.1952,      0.1962,      0.1972,      0.1982,      0.1992,      0.2002,      0.2012,      0.2022,      0.2032,      0.2042,     0.20521,     0.20621,     0.20721,     0.20821,     0.20921,     0.21021,     0.21121,     0.21221,     0.21321,     0.21421,     0.21522,\n",
              "           0.21622,     0.21722,     0.21822,     0.21922,     0.22022,     0.22122,     0.22222,     0.22322,     0.22422,     0.22523,     0.22623,     0.22723,     0.22823,     0.22923,     0.23023,     0.23123,     0.23223,     0.23323,     0.23423,     0.23524,     0.23624,     0.23724,     0.23824,     0.23924,\n",
              "           0.24024,     0.24124,     0.24224,     0.24324,     0.24424,     0.24525,     0.24625,     0.24725,     0.24825,     0.24925,     0.25025,     0.25125,     0.25225,     0.25325,     0.25425,     0.25526,     0.25626,     0.25726,     0.25826,     0.25926,     0.26026,     0.26126,     0.26226,     0.26326,\n",
              "           0.26426,     0.26527,     0.26627,     0.26727,     0.26827,     0.26927,     0.27027,     0.27127,     0.27227,     0.27327,     0.27427,     0.27528,     0.27628,     0.27728,     0.27828,     0.27928,     0.28028,     0.28128,     0.28228,     0.28328,     0.28428,     0.28529,     0.28629,     0.28729,\n",
              "           0.28829,     0.28929,     0.29029,     0.29129,     0.29229,     0.29329,     0.29429,      0.2953,      0.2963,      0.2973,      0.2983,      0.2993,      0.3003,      0.3013,      0.3023,      0.3033,      0.3043,     0.30531,     0.30631,     0.30731,     0.30831,     0.30931,     0.31031,     0.31131,\n",
              "           0.31231,     0.31331,     0.31431,     0.31532,     0.31632,     0.31732,     0.31832,     0.31932,     0.32032,     0.32132,     0.32232,     0.32332,     0.32432,     0.32533,     0.32633,     0.32733,     0.32833,     0.32933,     0.33033,     0.33133,     0.33233,     0.33333,     0.33433,     0.33534,\n",
              "           0.33634,     0.33734,     0.33834,     0.33934,     0.34034,     0.34134,     0.34234,     0.34334,     0.34434,     0.34535,     0.34635,     0.34735,     0.34835,     0.34935,     0.35035,     0.35135,     0.35235,     0.35335,     0.35435,     0.35536,     0.35636,     0.35736,     0.35836,     0.35936,\n",
              "           0.36036,     0.36136,     0.36236,     0.36336,     0.36436,     0.36537,     0.36637,     0.36737,     0.36837,     0.36937,     0.37037,     0.37137,     0.37237,     0.37337,     0.37437,     0.37538,     0.37638,     0.37738,     0.37838,     0.37938,     0.38038,     0.38138,     0.38238,     0.38338,\n",
              "           0.38438,     0.38539,     0.38639,     0.38739,     0.38839,     0.38939,     0.39039,     0.39139,     0.39239,     0.39339,     0.39439,      0.3954,      0.3964,      0.3974,      0.3984,      0.3994,      0.4004,      0.4014,      0.4024,      0.4034,      0.4044,     0.40541,     0.40641,     0.40741,\n",
              "           0.40841,     0.40941,     0.41041,     0.41141,     0.41241,     0.41341,     0.41441,     0.41542,     0.41642,     0.41742,     0.41842,     0.41942,     0.42042,     0.42142,     0.42242,     0.42342,     0.42442,     0.42543,     0.42643,     0.42743,     0.42843,     0.42943,     0.43043,     0.43143,\n",
              "           0.43243,     0.43343,     0.43443,     0.43544,     0.43644,     0.43744,     0.43844,     0.43944,     0.44044,     0.44144,     0.44244,     0.44344,     0.44444,     0.44545,     0.44645,     0.44745,     0.44845,     0.44945,     0.45045,     0.45145,     0.45245,     0.45345,     0.45445,     0.45546,\n",
              "           0.45646,     0.45746,     0.45846,     0.45946,     0.46046,     0.46146,     0.46246,     0.46346,     0.46446,     0.46547,     0.46647,     0.46747,     0.46847,     0.46947,     0.47047,     0.47147,     0.47247,     0.47347,     0.47447,     0.47548,     0.47648,     0.47748,     0.47848,     0.47948,\n",
              "           0.48048,     0.48148,     0.48248,     0.48348,     0.48448,     0.48549,     0.48649,     0.48749,     0.48849,     0.48949,     0.49049,     0.49149,     0.49249,     0.49349,     0.49449,      0.4955,      0.4965,      0.4975,      0.4985,      0.4995,      0.5005,      0.5015,      0.5025,      0.5035,\n",
              "            0.5045,     0.50551,     0.50651,     0.50751,     0.50851,     0.50951,     0.51051,     0.51151,     0.51251,     0.51351,     0.51451,     0.51552,     0.51652,     0.51752,     0.51852,     0.51952,     0.52052,     0.52152,     0.52252,     0.52352,     0.52452,     0.52553,     0.52653,     0.52753,\n",
              "           0.52853,     0.52953,     0.53053,     0.53153,     0.53253,     0.53353,     0.53453,     0.53554,     0.53654,     0.53754,     0.53854,     0.53954,     0.54054,     0.54154,     0.54254,     0.54354,     0.54454,     0.54555,     0.54655,     0.54755,     0.54855,     0.54955,     0.55055,     0.55155,\n",
              "           0.55255,     0.55355,     0.55455,     0.55556,     0.55656,     0.55756,     0.55856,     0.55956,     0.56056,     0.56156,     0.56256,     0.56356,     0.56456,     0.56557,     0.56657,     0.56757,     0.56857,     0.56957,     0.57057,     0.57157,     0.57257,     0.57357,     0.57457,     0.57558,\n",
              "           0.57658,     0.57758,     0.57858,     0.57958,     0.58058,     0.58158,     0.58258,     0.58358,     0.58458,     0.58559,     0.58659,     0.58759,     0.58859,     0.58959,     0.59059,     0.59159,     0.59259,     0.59359,     0.59459,      0.5956,      0.5966,      0.5976,      0.5986,      0.5996,\n",
              "            0.6006,      0.6016,      0.6026,      0.6036,      0.6046,     0.60561,     0.60661,     0.60761,     0.60861,     0.60961,     0.61061,     0.61161,     0.61261,     0.61361,     0.61461,     0.61562,     0.61662,     0.61762,     0.61862,     0.61962,     0.62062,     0.62162,     0.62262,     0.62362,\n",
              "           0.62462,     0.62563,     0.62663,     0.62763,     0.62863,     0.62963,     0.63063,     0.63163,     0.63263,     0.63363,     0.63463,     0.63564,     0.63664,     0.63764,     0.63864,     0.63964,     0.64064,     0.64164,     0.64264,     0.64364,     0.64464,     0.64565,     0.64665,     0.64765,\n",
              "           0.64865,     0.64965,     0.65065,     0.65165,     0.65265,     0.65365,     0.65465,     0.65566,     0.65666,     0.65766,     0.65866,     0.65966,     0.66066,     0.66166,     0.66266,     0.66366,     0.66466,     0.66567,     0.66667,     0.66767,     0.66867,     0.66967,     0.67067,     0.67167,\n",
              "           0.67267,     0.67367,     0.67467,     0.67568,     0.67668,     0.67768,     0.67868,     0.67968,     0.68068,     0.68168,     0.68268,     0.68368,     0.68468,     0.68569,     0.68669,     0.68769,     0.68869,     0.68969,     0.69069,     0.69169,     0.69269,     0.69369,     0.69469,      0.6957,\n",
              "            0.6967,      0.6977,      0.6987,      0.6997,      0.7007,      0.7017,      0.7027,      0.7037,      0.7047,     0.70571,     0.70671,     0.70771,     0.70871,     0.70971,     0.71071,     0.71171,     0.71271,     0.71371,     0.71471,     0.71572,     0.71672,     0.71772,     0.71872,     0.71972,\n",
              "           0.72072,     0.72172,     0.72272,     0.72372,     0.72472,     0.72573,     0.72673,     0.72773,     0.72873,     0.72973,     0.73073,     0.73173,     0.73273,     0.73373,     0.73473,     0.73574,     0.73674,     0.73774,     0.73874,     0.73974,     0.74074,     0.74174,     0.74274,     0.74374,\n",
              "           0.74474,     0.74575,     0.74675,     0.74775,     0.74875,     0.74975,     0.75075,     0.75175,     0.75275,     0.75375,     0.75475,     0.75576,     0.75676,     0.75776,     0.75876,     0.75976,     0.76076,     0.76176,     0.76276,     0.76376,     0.76476,     0.76577,     0.76677,     0.76777,\n",
              "           0.76877,     0.76977,     0.77077,     0.77177,     0.77277,     0.77377,     0.77477,     0.77578,     0.77678,     0.77778,     0.77878,     0.77978,     0.78078,     0.78178,     0.78278,     0.78378,     0.78478,     0.78579,     0.78679,     0.78779,     0.78879,     0.78979,     0.79079,     0.79179,\n",
              "           0.79279,     0.79379,     0.79479,      0.7958,      0.7968,      0.7978,      0.7988,      0.7998,      0.8008,      0.8018,      0.8028,      0.8038,      0.8048,     0.80581,     0.80681,     0.80781,     0.80881,     0.80981,     0.81081,     0.81181,     0.81281,     0.81381,     0.81481,     0.81582,\n",
              "           0.81682,     0.81782,     0.81882,     0.81982,     0.82082,     0.82182,     0.82282,     0.82382,     0.82482,     0.82583,     0.82683,     0.82783,     0.82883,     0.82983,     0.83083,     0.83183,     0.83283,     0.83383,     0.83483,     0.83584,     0.83684,     0.83784,     0.83884,     0.83984,\n",
              "           0.84084,     0.84184,     0.84284,     0.84384,     0.84484,     0.84585,     0.84685,     0.84785,     0.84885,     0.84985,     0.85085,     0.85185,     0.85285,     0.85385,     0.85485,     0.85586,     0.85686,     0.85786,     0.85886,     0.85986,     0.86086,     0.86186,     0.86286,     0.86386,\n",
              "           0.86486,     0.86587,     0.86687,     0.86787,     0.86887,     0.86987,     0.87087,     0.87187,     0.87287,     0.87387,     0.87487,     0.87588,     0.87688,     0.87788,     0.87888,     0.87988,     0.88088,     0.88188,     0.88288,     0.88388,     0.88488,     0.88589,     0.88689,     0.88789,\n",
              "           0.88889,     0.88989,     0.89089,     0.89189,     0.89289,     0.89389,     0.89489,      0.8959,      0.8969,      0.8979,      0.8989,      0.8999,      0.9009,      0.9019,      0.9029,      0.9039,      0.9049,     0.90591,     0.90691,     0.90791,     0.90891,     0.90991,     0.91091,     0.91191,\n",
              "           0.91291,     0.91391,     0.91491,     0.91592,     0.91692,     0.91792,     0.91892,     0.91992,     0.92092,     0.92192,     0.92292,     0.92392,     0.92492,     0.92593,     0.92693,     0.92793,     0.92893,     0.92993,     0.93093,     0.93193,     0.93293,     0.93393,     0.93493,     0.93594,\n",
              "           0.93694,     0.93794,     0.93894,     0.93994,     0.94094,     0.94194,     0.94294,     0.94394,     0.94494,     0.94595,     0.94695,     0.94795,     0.94895,     0.94995,     0.95095,     0.95195,     0.95295,     0.95395,     0.95495,     0.95596,     0.95696,     0.95796,     0.95896,     0.95996,\n",
              "           0.96096,     0.96196,     0.96296,     0.96396,     0.96496,     0.96597,     0.96697,     0.96797,     0.96897,     0.96997,     0.97097,     0.97197,     0.97297,     0.97397,     0.97497,     0.97598,     0.97698,     0.97798,     0.97898,     0.97998,     0.98098,     0.98198,     0.98298,     0.98398,\n",
              "           0.98498,     0.98599,     0.98699,     0.98799,     0.98899,     0.98999,     0.99099,     0.99199,     0.99299,     0.99399,     0.99499,       0.996,       0.997,       0.998,       0.999,           1]), array([[          1,           1,           1,           1,           1,           1,           1,           1,           1,           1,           1,           1,           1,           1,           1,           1,           1,           1,           1,           1,           1,           1,           1,\n",
              "                  1,           1,           1,           1,           1,           1,           1,           1,           1,           1,           1,           1,           1,           1,           1,           1,           1,           1,           1,           1,           1,           1,           1,\n",
              "                  1,           1,           1,           1,           1,           1,           1,           1,           1,           1,           1,           1,           1,           1,           1,           1,           1,           1,     0.98649,     0.98649,     0.98649,     0.98649,     0.98649,\n",
              "            0.98649,     0.98649,     0.98649,     0.98649,     0.98649,     0.98649,     0.98649,     0.98649,     0.98649,     0.98649,     0.98649,     0.98649,     0.98649,     0.98649,     0.98649,     0.98649,     0.98649,     0.98649,     0.98649,     0.98649,     0.98649,     0.98649,     0.98649,\n",
              "            0.98649,     0.98649,     0.98649,     0.98649,     0.98649,     0.98649,     0.98649,     0.98649,     0.98649,     0.98649,     0.98649,     0.98649,     0.98649,     0.98649,     0.98649,     0.98649,     0.98649,     0.98649,     0.98649,     0.98649,     0.98649,     0.98649,     0.98649,\n",
              "            0.98649,     0.98649,     0.98649,     0.98649,     0.98649,     0.98649,     0.98649,     0.98649,     0.98649,     0.98649,     0.98649,     0.98649,     0.98649,     0.98649,     0.98649,     0.98649,     0.98649,     0.98649,     0.98649,     0.98649,     0.98649,     0.98649,     0.98649,\n",
              "            0.98649,     0.98649,     0.98649,     0.98649,     0.98649,     0.98649,     0.98649,     0.98649,     0.98649,     0.98649,     0.98649,     0.98649,     0.98649,     0.98649,     0.98649,     0.98649,     0.98649,     0.98649,     0.98649,     0.98649,     0.98649,     0.98649,     0.98649,\n",
              "            0.98649,     0.98649,     0.98649,     0.98649,     0.98649,     0.98649,     0.98649,     0.98649,     0.98649,     0.98649,     0.98649,     0.98649,     0.98649,     0.98649,     0.98649,     0.98649,     0.98649,     0.98649,     0.98649,     0.98649,     0.98649,     0.98649,     0.98649,\n",
              "            0.98649,     0.98649,     0.98649,     0.98649,     0.98649,     0.98649,     0.98649,     0.98649,     0.98649,     0.98649,     0.98649,     0.98649,     0.98649,     0.98649,     0.98649,     0.98649,     0.98649,     0.98649,     0.98649,     0.98649,     0.98649,     0.98649,     0.98649,\n",
              "            0.98649,     0.98649,     0.98649,     0.98649,     0.98649,     0.98649,     0.98649,     0.98649,     0.98649,     0.98649,     0.98649,     0.98649,     0.98649,     0.98649,     0.98649,     0.98649,     0.98649,     0.98649,     0.98649,     0.98649,     0.98649,     0.98649,     0.98649,\n",
              "            0.98649,     0.98649,     0.98649,     0.98649,     0.98649,     0.98649,     0.98649,     0.98649,     0.98649,     0.98649,     0.98649,     0.98649,     0.98649,     0.98649,     0.98649,     0.98649,     0.98649,     0.98649,     0.98649,     0.98649,     0.98649,     0.98649,     0.98649,\n",
              "            0.98649,     0.98649,     0.98649,     0.98649,     0.98649,     0.98649,     0.98649,     0.98649,     0.98649,     0.98649,     0.98649,     0.98649,     0.98649,     0.98649,     0.98649,     0.98649,     0.98649,     0.98649,     0.98649,     0.98649,     0.98649,     0.98649,     0.98649,\n",
              "            0.98649,     0.98649,     0.98649,     0.98649,     0.98649,     0.98649,     0.98649,     0.98649,     0.98649,     0.98649,     0.98649,     0.98649,     0.98649,     0.98649,     0.98649,     0.98649,     0.98649,     0.98649,     0.98649,     0.98649,     0.98649,     0.98649,     0.98649,\n",
              "            0.98649,     0.98649,     0.98649,     0.98649,     0.98649,     0.98649,     0.98649,     0.98649,     0.98649,     0.98649,     0.98649,     0.98649,     0.98649,     0.98649,     0.98649,     0.98649,     0.98649,     0.98649,     0.98649,     0.98649,     0.98649,     0.98649,     0.98649,\n",
              "            0.98649,     0.98649,     0.98649,     0.98649,     0.98649,     0.98649,     0.98649,     0.98649,     0.98649,     0.98649,     0.98649,     0.98649,     0.98649,     0.98649,     0.98649,     0.98649,     0.98649,     0.98649,     0.98649,     0.98649,     0.98649,     0.98649,     0.98649,\n",
              "            0.98649,     0.98649,     0.98649,     0.98649,     0.98649,     0.98649,     0.98649,     0.98649,     0.98649,     0.98649,     0.98649,     0.98649,     0.98649,     0.98649,     0.98649,     0.98649,     0.98649,     0.98649,     0.98649,     0.98649,     0.98649,     0.98649,     0.98649,\n",
              "            0.98649,     0.98649,     0.98649,     0.98649,     0.98649,     0.98649,     0.98649,     0.98649,     0.98649,     0.98649,     0.98649,     0.98649,     0.98649,     0.98649,     0.98649,     0.98649,     0.98649,     0.98649,     0.98649,     0.98649,     0.98649,     0.98649,     0.98649,\n",
              "            0.98649,     0.98649,     0.98649,     0.98649,     0.98649,     0.98649,     0.98649,     0.98649,     0.98649,     0.98649,     0.98649,     0.98649,     0.98649,     0.98649,     0.98649,     0.98649,     0.98649,     0.98649,     0.98649,     0.98649,     0.98649,     0.98649,     0.98649,\n",
              "            0.98649,     0.98649,     0.98649,     0.98649,     0.98649,     0.98649,     0.98649,     0.98649,     0.98649,     0.98649,     0.98649,     0.98649,     0.98649,     0.98649,     0.98649,     0.98649,     0.98649,     0.98649,     0.98649,     0.98649,     0.98649,     0.98649,     0.98649,\n",
              "            0.98649,     0.98649,     0.98649,     0.98649,     0.98649,     0.98649,     0.98649,     0.98649,     0.98649,     0.98649,     0.98649,     0.98649,     0.98649,     0.98649,     0.98649,     0.98649,     0.98649,     0.98649,     0.98649,     0.98649,     0.98649,     0.98649,     0.98649,\n",
              "            0.98649,     0.98649,     0.98649,     0.98649,     0.98649,     0.98649,     0.98649,     0.98649,     0.98649,     0.98649,     0.98649,     0.98649,     0.98649,     0.98649,     0.98649,     0.98649,     0.98649,     0.98649,     0.98649,     0.98649,     0.98649,     0.98649,     0.98649,\n",
              "            0.98649,     0.98649,     0.98649,     0.98649,     0.98649,     0.98649,     0.98649,     0.98649,     0.98649,     0.98649,     0.98649,     0.98649,     0.98649,     0.98649,     0.98649,     0.98649,     0.98649,     0.98649,     0.98649,     0.98649,     0.98649,     0.98649,     0.98649,\n",
              "            0.98649,     0.98649,     0.98649,     0.98649,     0.98649,     0.98649,     0.98649,     0.98649,     0.98649,     0.98649,     0.98649,     0.98649,     0.98649,     0.98649,     0.98649,     0.98649,     0.98649,     0.98649,     0.98649,     0.98649,     0.98649,     0.98649,     0.98649,\n",
              "            0.98649,     0.98649,     0.98649,     0.98649,     0.98649,     0.98649,     0.98649,     0.98649,     0.98649,     0.98649,     0.98649,     0.98649,     0.98649,     0.98649,     0.98649,     0.98649,     0.98649,     0.98649,     0.98649,     0.98649,     0.98649,     0.98649,     0.98649,\n",
              "            0.98649,     0.98649,     0.98649,     0.98649,     0.98649,     0.98649,     0.98649,     0.98649,     0.98649,     0.98649,     0.98649,     0.98649,     0.98649,     0.98649,     0.98649,     0.98649,     0.98649,     0.98649,     0.98649,     0.98649,     0.98649,     0.98649,     0.98649,\n",
              "            0.98649,     0.98649,     0.98649,     0.98649,     0.98649,     0.98649,     0.98649,     0.98649,     0.98649,     0.98649,     0.98649,     0.98649,     0.98649,     0.98649,     0.98649,     0.98649,     0.98649,     0.98649,     0.98649,     0.98649,     0.98649,     0.98649,     0.98649,\n",
              "            0.98649,     0.98649,     0.98649,     0.98649,     0.98649,     0.98649,     0.98649,     0.98649,     0.98649,     0.98649,     0.98649,     0.98649,     0.98649,     0.98649,     0.98649,     0.98649,     0.98649,     0.98649,     0.98649,     0.98649,     0.98649,     0.98649,     0.98649,\n",
              "            0.98649,     0.98649,     0.98649,     0.98649,     0.98649,     0.98649,     0.98649,     0.98649,     0.98649,     0.98649,     0.98649,     0.98649,     0.98649,     0.98649,     0.98649,     0.98649,     0.98649,     0.98649,     0.98649,     0.98649,     0.98649,     0.98649,     0.98649,\n",
              "            0.98649,     0.98649,     0.98649,     0.98649,     0.98649,     0.98649,     0.98649,     0.98649,     0.98649,     0.98649,     0.98649,     0.98649,     0.98649,     0.98649,     0.98649,     0.98649,     0.98649,     0.98649,     0.98649,     0.98649,     0.98649,     0.98649,     0.98649,\n",
              "            0.98649,     0.98649,     0.98649,     0.98649,     0.98649,     0.98649,     0.98649,     0.98649,     0.98649,     0.98649,     0.98649,     0.98649,     0.98649,     0.98649,     0.98649,     0.98649,     0.98649,     0.98649,     0.98649,     0.98649,     0.98649,     0.98649,     0.98649,\n",
              "            0.98649,     0.98649,     0.98649,     0.98649,     0.98649,     0.98649,     0.98649,     0.98649,     0.98649,     0.98649,     0.98649,     0.98649,     0.98649,     0.98649,     0.98649,     0.98649,     0.98649,     0.98649,     0.98649,     0.98649,     0.98649,     0.98649,     0.98649,\n",
              "            0.98649,     0.98649,     0.98649,     0.98649,     0.98649,     0.98649,     0.98649,     0.98649,     0.98649,     0.98649,     0.98649,     0.98649,     0.98649,     0.98649,     0.98649,     0.98649,     0.98649,     0.98649,     0.98649,     0.98649,     0.98649,     0.98649,     0.98649,\n",
              "            0.98649,     0.98649,     0.98649,     0.98649,     0.98649,     0.98649,     0.98649,     0.98649,     0.98649,     0.98649,     0.98649,     0.98649,     0.98649,     0.98649,     0.98649,     0.98649,     0.98649,     0.98649,     0.98649,     0.98649,     0.98649,     0.98649,     0.98649,\n",
              "            0.98649,     0.98649,     0.98649,     0.98649,     0.98649,     0.98649,     0.98649,     0.98649,     0.98649,     0.98649,     0.98649,     0.98649,     0.98649,     0.98649,     0.98649,     0.98649,     0.98649,     0.96429,     0.96429,     0.96429,     0.96429,     0.96429,     0.96429,\n",
              "            0.96429,     0.96429,     0.96429,     0.96429,     0.96429,     0.96429,     0.96429,     0.96429,     0.96429,     0.96429,     0.96429,     0.96429,     0.96429,     0.96429,     0.96429,     0.96429,     0.96429,     0.96429,     0.96429,     0.96429,     0.96429,     0.96429,     0.96429,\n",
              "            0.96429,     0.96429,     0.96429,     0.96429,     0.96429,     0.96429,     0.96429,     0.96429,     0.96429,     0.96429,     0.96429,     0.96429,     0.96429,     0.96429,     0.96429,     0.96429,     0.96429,     0.96429,     0.96429,     0.96429,     0.96429,     0.96429,     0.96429,\n",
              "            0.96429,     0.96429,     0.96429,     0.96429,     0.96429,     0.96429,     0.96429,     0.96429,     0.96429,     0.96429,     0.96429,     0.96429,     0.96429,     0.96429,     0.96429,     0.96429,     0.96429,     0.96429,     0.96429,     0.96429,     0.96429,     0.96429,     0.96429,\n",
              "            0.96429,     0.96429,     0.96429,     0.96429,     0.96429,     0.96429,     0.96429,     0.96429,     0.96429,     0.96429,     0.92135,     0.92135,     0.92135,     0.92135,     0.92135,     0.92135,     0.92135,     0.92135,     0.92135,     0.92135,     0.92135,     0.91209,     0.91209,\n",
              "            0.91209,     0.91209,     0.91209,     0.91209,     0.91209,     0.91209,     0.91209,     0.91209,     0.91209,        0.75,        0.75,        0.75,        0.75,        0.75,        0.75,        0.75,        0.75,        0.75,        0.75,     0.73276,     0.73276,     0.73276,     0.73276,\n",
              "            0.73276,     0.73276,     0.73276,     0.73276,     0.73276,     0.73276,     0.73276,     0.49711,     0.49711,     0.49711,     0.49711,     0.49711,     0.49711,     0.49711,     0.49711,     0.49711,     0.49711,     0.14164,     0.13998,     0.13831,     0.13665,     0.13498,     0.13331,\n",
              "            0.13165,     0.12998,     0.12831,     0.12665,     0.12498,     0.12331,     0.12165,     0.11998,     0.11832,     0.11665,     0.11498,     0.11332,     0.11165,     0.10998,     0.10832,     0.10665,     0.10498,     0.10332,     0.10165,    0.099985,    0.098318,    0.096652,    0.094985,\n",
              "           0.093319,    0.091653,    0.089986,     0.08832,    0.086653,    0.084987,    0.083321,    0.081654,    0.079988,    0.078321,    0.076655,    0.074988,    0.073322,    0.071656,    0.069989,    0.068323,    0.066656,     0.06499,    0.063324,    0.061657,    0.059991,    0.058324,    0.056658,\n",
              "           0.054992,    0.053325,    0.051659,    0.049992,    0.048326,     0.04666,    0.044993,    0.043327,     0.04166,    0.039994,    0.038327,    0.036661,    0.034995,    0.033328,    0.031662,    0.029995,    0.028329,    0.026663,    0.024996,     0.02333,    0.021663,    0.019997,    0.018331,\n",
              "           0.016664,    0.014998,    0.013331,    0.011665,   0.0099985,   0.0083321,   0.0066656,   0.0049992,   0.0033328,   0.0016664,           0]]), 'Recall', 'Precision'], [array([          0,    0.001001,    0.002002,    0.003003,    0.004004,    0.005005,    0.006006,    0.007007,    0.008008,    0.009009,     0.01001,    0.011011,    0.012012,    0.013013,    0.014014,    0.015015,    0.016016,    0.017017,    0.018018,    0.019019,     0.02002,    0.021021,    0.022022,    0.023023,\n",
              "          0.024024,    0.025025,    0.026026,    0.027027,    0.028028,    0.029029,     0.03003,    0.031031,    0.032032,    0.033033,    0.034034,    0.035035,    0.036036,    0.037037,    0.038038,    0.039039,     0.04004,    0.041041,    0.042042,    0.043043,    0.044044,    0.045045,    0.046046,    0.047047,\n",
              "          0.048048,    0.049049,     0.05005,    0.051051,    0.052052,    0.053053,    0.054054,    0.055055,    0.056056,    0.057057,    0.058058,    0.059059,     0.06006,    0.061061,    0.062062,    0.063063,    0.064064,    0.065065,    0.066066,    0.067067,    0.068068,    0.069069,     0.07007,    0.071071,\n",
              "          0.072072,    0.073073,    0.074074,    0.075075,    0.076076,    0.077077,    0.078078,    0.079079,     0.08008,    0.081081,    0.082082,    0.083083,    0.084084,    0.085085,    0.086086,    0.087087,    0.088088,    0.089089,     0.09009,    0.091091,    0.092092,    0.093093,    0.094094,    0.095095,\n",
              "          0.096096,    0.097097,    0.098098,    0.099099,      0.1001,      0.1011,      0.1021,      0.1031,      0.1041,     0.10511,     0.10611,     0.10711,     0.10811,     0.10911,     0.11011,     0.11111,     0.11211,     0.11311,     0.11411,     0.11512,     0.11612,     0.11712,     0.11812,     0.11912,\n",
              "           0.12012,     0.12112,     0.12212,     0.12312,     0.12412,     0.12513,     0.12613,     0.12713,     0.12813,     0.12913,     0.13013,     0.13113,     0.13213,     0.13313,     0.13413,     0.13514,     0.13614,     0.13714,     0.13814,     0.13914,     0.14014,     0.14114,     0.14214,     0.14314,\n",
              "           0.14414,     0.14515,     0.14615,     0.14715,     0.14815,     0.14915,     0.15015,     0.15115,     0.15215,     0.15315,     0.15415,     0.15516,     0.15616,     0.15716,     0.15816,     0.15916,     0.16016,     0.16116,     0.16216,     0.16316,     0.16416,     0.16517,     0.16617,     0.16717,\n",
              "           0.16817,     0.16917,     0.17017,     0.17117,     0.17217,     0.17317,     0.17417,     0.17518,     0.17618,     0.17718,     0.17818,     0.17918,     0.18018,     0.18118,     0.18218,     0.18318,     0.18418,     0.18519,     0.18619,     0.18719,     0.18819,     0.18919,     0.19019,     0.19119,\n",
              "           0.19219,     0.19319,     0.19419,      0.1952,      0.1962,      0.1972,      0.1982,      0.1992,      0.2002,      0.2012,      0.2022,      0.2032,      0.2042,     0.20521,     0.20621,     0.20721,     0.20821,     0.20921,     0.21021,     0.21121,     0.21221,     0.21321,     0.21421,     0.21522,\n",
              "           0.21622,     0.21722,     0.21822,     0.21922,     0.22022,     0.22122,     0.22222,     0.22322,     0.22422,     0.22523,     0.22623,     0.22723,     0.22823,     0.22923,     0.23023,     0.23123,     0.23223,     0.23323,     0.23423,     0.23524,     0.23624,     0.23724,     0.23824,     0.23924,\n",
              "           0.24024,     0.24124,     0.24224,     0.24324,     0.24424,     0.24525,     0.24625,     0.24725,     0.24825,     0.24925,     0.25025,     0.25125,     0.25225,     0.25325,     0.25425,     0.25526,     0.25626,     0.25726,     0.25826,     0.25926,     0.26026,     0.26126,     0.26226,     0.26326,\n",
              "           0.26426,     0.26527,     0.26627,     0.26727,     0.26827,     0.26927,     0.27027,     0.27127,     0.27227,     0.27327,     0.27427,     0.27528,     0.27628,     0.27728,     0.27828,     0.27928,     0.28028,     0.28128,     0.28228,     0.28328,     0.28428,     0.28529,     0.28629,     0.28729,\n",
              "           0.28829,     0.28929,     0.29029,     0.29129,     0.29229,     0.29329,     0.29429,      0.2953,      0.2963,      0.2973,      0.2983,      0.2993,      0.3003,      0.3013,      0.3023,      0.3033,      0.3043,     0.30531,     0.30631,     0.30731,     0.30831,     0.30931,     0.31031,     0.31131,\n",
              "           0.31231,     0.31331,     0.31431,     0.31532,     0.31632,     0.31732,     0.31832,     0.31932,     0.32032,     0.32132,     0.32232,     0.32332,     0.32432,     0.32533,     0.32633,     0.32733,     0.32833,     0.32933,     0.33033,     0.33133,     0.33233,     0.33333,     0.33433,     0.33534,\n",
              "           0.33634,     0.33734,     0.33834,     0.33934,     0.34034,     0.34134,     0.34234,     0.34334,     0.34434,     0.34535,     0.34635,     0.34735,     0.34835,     0.34935,     0.35035,     0.35135,     0.35235,     0.35335,     0.35435,     0.35536,     0.35636,     0.35736,     0.35836,     0.35936,\n",
              "           0.36036,     0.36136,     0.36236,     0.36336,     0.36436,     0.36537,     0.36637,     0.36737,     0.36837,     0.36937,     0.37037,     0.37137,     0.37237,     0.37337,     0.37437,     0.37538,     0.37638,     0.37738,     0.37838,     0.37938,     0.38038,     0.38138,     0.38238,     0.38338,\n",
              "           0.38438,     0.38539,     0.38639,     0.38739,     0.38839,     0.38939,     0.39039,     0.39139,     0.39239,     0.39339,     0.39439,      0.3954,      0.3964,      0.3974,      0.3984,      0.3994,      0.4004,      0.4014,      0.4024,      0.4034,      0.4044,     0.40541,     0.40641,     0.40741,\n",
              "           0.40841,     0.40941,     0.41041,     0.41141,     0.41241,     0.41341,     0.41441,     0.41542,     0.41642,     0.41742,     0.41842,     0.41942,     0.42042,     0.42142,     0.42242,     0.42342,     0.42442,     0.42543,     0.42643,     0.42743,     0.42843,     0.42943,     0.43043,     0.43143,\n",
              "           0.43243,     0.43343,     0.43443,     0.43544,     0.43644,     0.43744,     0.43844,     0.43944,     0.44044,     0.44144,     0.44244,     0.44344,     0.44444,     0.44545,     0.44645,     0.44745,     0.44845,     0.44945,     0.45045,     0.45145,     0.45245,     0.45345,     0.45445,     0.45546,\n",
              "           0.45646,     0.45746,     0.45846,     0.45946,     0.46046,     0.46146,     0.46246,     0.46346,     0.46446,     0.46547,     0.46647,     0.46747,     0.46847,     0.46947,     0.47047,     0.47147,     0.47247,     0.47347,     0.47447,     0.47548,     0.47648,     0.47748,     0.47848,     0.47948,\n",
              "           0.48048,     0.48148,     0.48248,     0.48348,     0.48448,     0.48549,     0.48649,     0.48749,     0.48849,     0.48949,     0.49049,     0.49149,     0.49249,     0.49349,     0.49449,      0.4955,      0.4965,      0.4975,      0.4985,      0.4995,      0.5005,      0.5015,      0.5025,      0.5035,\n",
              "            0.5045,     0.50551,     0.50651,     0.50751,     0.50851,     0.50951,     0.51051,     0.51151,     0.51251,     0.51351,     0.51451,     0.51552,     0.51652,     0.51752,     0.51852,     0.51952,     0.52052,     0.52152,     0.52252,     0.52352,     0.52452,     0.52553,     0.52653,     0.52753,\n",
              "           0.52853,     0.52953,     0.53053,     0.53153,     0.53253,     0.53353,     0.53453,     0.53554,     0.53654,     0.53754,     0.53854,     0.53954,     0.54054,     0.54154,     0.54254,     0.54354,     0.54454,     0.54555,     0.54655,     0.54755,     0.54855,     0.54955,     0.55055,     0.55155,\n",
              "           0.55255,     0.55355,     0.55455,     0.55556,     0.55656,     0.55756,     0.55856,     0.55956,     0.56056,     0.56156,     0.56256,     0.56356,     0.56456,     0.56557,     0.56657,     0.56757,     0.56857,     0.56957,     0.57057,     0.57157,     0.57257,     0.57357,     0.57457,     0.57558,\n",
              "           0.57658,     0.57758,     0.57858,     0.57958,     0.58058,     0.58158,     0.58258,     0.58358,     0.58458,     0.58559,     0.58659,     0.58759,     0.58859,     0.58959,     0.59059,     0.59159,     0.59259,     0.59359,     0.59459,      0.5956,      0.5966,      0.5976,      0.5986,      0.5996,\n",
              "            0.6006,      0.6016,      0.6026,      0.6036,      0.6046,     0.60561,     0.60661,     0.60761,     0.60861,     0.60961,     0.61061,     0.61161,     0.61261,     0.61361,     0.61461,     0.61562,     0.61662,     0.61762,     0.61862,     0.61962,     0.62062,     0.62162,     0.62262,     0.62362,\n",
              "           0.62462,     0.62563,     0.62663,     0.62763,     0.62863,     0.62963,     0.63063,     0.63163,     0.63263,     0.63363,     0.63463,     0.63564,     0.63664,     0.63764,     0.63864,     0.63964,     0.64064,     0.64164,     0.64264,     0.64364,     0.64464,     0.64565,     0.64665,     0.64765,\n",
              "           0.64865,     0.64965,     0.65065,     0.65165,     0.65265,     0.65365,     0.65465,     0.65566,     0.65666,     0.65766,     0.65866,     0.65966,     0.66066,     0.66166,     0.66266,     0.66366,     0.66466,     0.66567,     0.66667,     0.66767,     0.66867,     0.66967,     0.67067,     0.67167,\n",
              "           0.67267,     0.67367,     0.67467,     0.67568,     0.67668,     0.67768,     0.67868,     0.67968,     0.68068,     0.68168,     0.68268,     0.68368,     0.68468,     0.68569,     0.68669,     0.68769,     0.68869,     0.68969,     0.69069,     0.69169,     0.69269,     0.69369,     0.69469,      0.6957,\n",
              "            0.6967,      0.6977,      0.6987,      0.6997,      0.7007,      0.7017,      0.7027,      0.7037,      0.7047,     0.70571,     0.70671,     0.70771,     0.70871,     0.70971,     0.71071,     0.71171,     0.71271,     0.71371,     0.71471,     0.71572,     0.71672,     0.71772,     0.71872,     0.71972,\n",
              "           0.72072,     0.72172,     0.72272,     0.72372,     0.72472,     0.72573,     0.72673,     0.72773,     0.72873,     0.72973,     0.73073,     0.73173,     0.73273,     0.73373,     0.73473,     0.73574,     0.73674,     0.73774,     0.73874,     0.73974,     0.74074,     0.74174,     0.74274,     0.74374,\n",
              "           0.74474,     0.74575,     0.74675,     0.74775,     0.74875,     0.74975,     0.75075,     0.75175,     0.75275,     0.75375,     0.75475,     0.75576,     0.75676,     0.75776,     0.75876,     0.75976,     0.76076,     0.76176,     0.76276,     0.76376,     0.76476,     0.76577,     0.76677,     0.76777,\n",
              "           0.76877,     0.76977,     0.77077,     0.77177,     0.77277,     0.77377,     0.77477,     0.77578,     0.77678,     0.77778,     0.77878,     0.77978,     0.78078,     0.78178,     0.78278,     0.78378,     0.78478,     0.78579,     0.78679,     0.78779,     0.78879,     0.78979,     0.79079,     0.79179,\n",
              "           0.79279,     0.79379,     0.79479,      0.7958,      0.7968,      0.7978,      0.7988,      0.7998,      0.8008,      0.8018,      0.8028,      0.8038,      0.8048,     0.80581,     0.80681,     0.80781,     0.80881,     0.80981,     0.81081,     0.81181,     0.81281,     0.81381,     0.81481,     0.81582,\n",
              "           0.81682,     0.81782,     0.81882,     0.81982,     0.82082,     0.82182,     0.82282,     0.82382,     0.82482,     0.82583,     0.82683,     0.82783,     0.82883,     0.82983,     0.83083,     0.83183,     0.83283,     0.83383,     0.83483,     0.83584,     0.83684,     0.83784,     0.83884,     0.83984,\n",
              "           0.84084,     0.84184,     0.84284,     0.84384,     0.84484,     0.84585,     0.84685,     0.84785,     0.84885,     0.84985,     0.85085,     0.85185,     0.85285,     0.85385,     0.85485,     0.85586,     0.85686,     0.85786,     0.85886,     0.85986,     0.86086,     0.86186,     0.86286,     0.86386,\n",
              "           0.86486,     0.86587,     0.86687,     0.86787,     0.86887,     0.86987,     0.87087,     0.87187,     0.87287,     0.87387,     0.87487,     0.87588,     0.87688,     0.87788,     0.87888,     0.87988,     0.88088,     0.88188,     0.88288,     0.88388,     0.88488,     0.88589,     0.88689,     0.88789,\n",
              "           0.88889,     0.88989,     0.89089,     0.89189,     0.89289,     0.89389,     0.89489,      0.8959,      0.8969,      0.8979,      0.8989,      0.8999,      0.9009,      0.9019,      0.9029,      0.9039,      0.9049,     0.90591,     0.90691,     0.90791,     0.90891,     0.90991,     0.91091,     0.91191,\n",
              "           0.91291,     0.91391,     0.91491,     0.91592,     0.91692,     0.91792,     0.91892,     0.91992,     0.92092,     0.92192,     0.92292,     0.92392,     0.92492,     0.92593,     0.92693,     0.92793,     0.92893,     0.92993,     0.93093,     0.93193,     0.93293,     0.93393,     0.93493,     0.93594,\n",
              "           0.93694,     0.93794,     0.93894,     0.93994,     0.94094,     0.94194,     0.94294,     0.94394,     0.94494,     0.94595,     0.94695,     0.94795,     0.94895,     0.94995,     0.95095,     0.95195,     0.95295,     0.95395,     0.95495,     0.95596,     0.95696,     0.95796,     0.95896,     0.95996,\n",
              "           0.96096,     0.96196,     0.96296,     0.96396,     0.96496,     0.96597,     0.96697,     0.96797,     0.96897,     0.96997,     0.97097,     0.97197,     0.97297,     0.97397,     0.97497,     0.97598,     0.97698,     0.97798,     0.97898,     0.97998,     0.98098,     0.98198,     0.98298,     0.98398,\n",
              "           0.98498,     0.98599,     0.98699,     0.98799,     0.98899,     0.98999,     0.99099,     0.99199,     0.99299,     0.99399,     0.99499,       0.996,       0.997,       0.998,       0.999,           1]), array([[    0.24536,     0.24536,     0.33392,     0.39647,     0.44477,     0.47916,     0.50599,     0.53407,     0.54583,     0.56447,     0.58552,     0.59732,     0.60678,     0.60981,     0.61162,     0.62112,     0.62397,     0.62864,     0.63502,     0.63988,     0.64106,     0.63937,      0.6438,\n",
              "            0.64775,     0.65184,     0.65338,     0.66008,     0.66478,      0.6675,     0.66902,     0.67321,     0.67914,     0.68143,     0.68287,     0.68356,     0.68425,     0.68493,     0.68702,     0.69315,     0.69502,     0.69663,     0.70002,     0.70208,     0.71782,     0.72208,     0.72603,\n",
              "            0.72715,     0.72793,      0.7287,     0.72948,     0.73674,     0.74221,     0.74372,     0.74512,     0.74741,     0.75041,     0.75277,     0.75398,      0.7552,     0.75947,     0.76082,     0.76216,     0.76333,     0.76447,      0.7656,     0.76716,     0.76878,     0.77268,     0.77915,\n",
              "            0.78128,     0.78318,     0.78426,     0.78522,     0.78618,     0.78716,     0.78839,     0.78961,     0.79145,     0.79818,     0.80389,     0.80677,     0.80803,     0.80928,     0.80915,     0.80869,     0.80823,     0.80778,     0.80732,     0.80686,      0.8064,     0.80593,     0.80547,\n",
              "            0.80501,     0.80455,     0.80409,     0.80507,     0.80786,     0.80974,     0.81163,     0.81394,     0.81068,     0.81055,      0.8114,     0.81225,     0.81309,     0.81463,     0.81777,     0.81798,     0.81819,      0.8184,     0.81861,     0.81883,     0.81904,     0.81925,     0.81946,\n",
              "            0.81967,     0.81988,      0.8201,     0.82031,     0.82052,     0.82073,     0.82094,     0.82115,     0.82136,     0.82157,     0.82178,     0.82234,     0.82289,     0.82344,     0.82399,     0.82454,     0.82508,     0.82563,     0.82611,     0.82654,     0.82697,      0.8274,     0.82783,\n",
              "            0.82826,     0.82869,     0.82912,     0.82954,     0.82997,      0.8305,     0.83104,     0.83157,     0.83211,     0.83264,     0.83317,     0.83371,     0.83423,     0.83466,     0.83509,     0.83552,     0.83596,     0.83639,     0.83682,     0.83725,     0.83768,     0.83811,     0.83842,\n",
              "            0.83853,     0.83864,     0.83874,     0.83885,     0.83896,     0.83906,     0.83917,     0.83927,     0.83938,     0.83949,     0.83959,      0.8397,     0.83981,     0.83991,     0.84002,     0.84012,     0.84023,     0.84034,     0.84044,     0.84055,     0.84066,     0.84076,     0.84087,\n",
              "            0.84097,     0.84108,     0.84119,     0.84129,      0.8414,      0.8415,     0.84161,     0.84171,     0.84182,     0.84193,     0.84203,     0.84214,     0.84224,     0.84235,     0.84245,     0.84256,      0.8444,       0.847,      0.8471,     0.84719,     0.84729,     0.84739,     0.84748,\n",
              "            0.84758,     0.84768,     0.84777,     0.84787,     0.84796,     0.84806,     0.84816,     0.84825,     0.84835,     0.84844,     0.84854,     0.84864,     0.84873,     0.84883,     0.84893,     0.84902,     0.84912,     0.84921,     0.84931,     0.84941,      0.8495,      0.8496,     0.84969,\n",
              "            0.84979,     0.84988,     0.84998,     0.85008,     0.85017,     0.85027,     0.85036,     0.85046,     0.85055,     0.85065,     0.85075,     0.85084,     0.85094,     0.85103,     0.85113,     0.85122,     0.85366,     0.85594,     0.85635,     0.85675,     0.85716,     0.85756,     0.85796,\n",
              "            0.85837,     0.85877,     0.85917,     0.85958,     0.85998,     0.86116,     0.86269,     0.86422,     0.86473,     0.86492,      0.8651,     0.86529,     0.86548,     0.86567,     0.86586,     0.86604,     0.86623,     0.86642,     0.86661,     0.86679,     0.86698,     0.86717,     0.86736,\n",
              "            0.86754,     0.86773,     0.86792,      0.8681,     0.86829,     0.86848,     0.86867,     0.86885,     0.86904,     0.86951,     0.87016,     0.87081,     0.87145,      0.8721,     0.87275,     0.87339,     0.87472,     0.87662,     0.87833,     0.87852,     0.87872,     0.87891,      0.8791,\n",
              "             0.8793,     0.87949,     0.87969,     0.87988,     0.88007,     0.88027,     0.88046,     0.88066,     0.88085,     0.88104,     0.88124,     0.88143,     0.88162,     0.88181,     0.88201,      0.8822,     0.88239,     0.88259,     0.88278,     0.88297,     0.88342,     0.88389,     0.88435,\n",
              "            0.88481,     0.88527,     0.88573,     0.88619,     0.88665,     0.88711,     0.88757,     0.88775,     0.88782,     0.88789,     0.88796,     0.88803,      0.8881,     0.88817,     0.88824,     0.88831,     0.88838,     0.88845,     0.88852,     0.88859,     0.88866,     0.88873,      0.8888,\n",
              "            0.88887,     0.88894,     0.88901,     0.88908,     0.88915,     0.88922,     0.88929,     0.88936,     0.88943,      0.8895,     0.88957,     0.88964,     0.88971,     0.88978,     0.88985,     0.88992,     0.88999,     0.89006,     0.89013,      0.8902,     0.89027,     0.89034,     0.89041,\n",
              "            0.89048,     0.89055,     0.89062,     0.89069,     0.89076,     0.89083,      0.8909,     0.89097,     0.89104,     0.89111,     0.89118,     0.89125,     0.89132,     0.89139,     0.89146,     0.89153,      0.8916,     0.89167,     0.89174,     0.89181,     0.89188,     0.89195,     0.89202,\n",
              "            0.89209,     0.89215,     0.89222,     0.89229,     0.89236,     0.89243,     0.89458,     0.89698,     0.89628,     0.89558,     0.89488,     0.89418,     0.89348,     0.89278,     0.89207,     0.89137,     0.89184,     0.89243,     0.89302,     0.89361,      0.8942,     0.89478,     0.89537,\n",
              "            0.89595,     0.89578,     0.89515,     0.89451,     0.89387,     0.89324,      0.8926,     0.89196,     0.89132,     0.89068,     0.89022,     0.89123,     0.89224,     0.89325,     0.89426,     0.89505,     0.89513,     0.89521,     0.89529,     0.89537,     0.89546,     0.89554,     0.89562,\n",
              "             0.8957,     0.89578,     0.89587,     0.89595,     0.89603,     0.89611,     0.89619,     0.89628,     0.89636,     0.89644,     0.89652,      0.8966,     0.89668,     0.89677,     0.89685,     0.89693,     0.89701,     0.89709,     0.89717,     0.89726,     0.89734,     0.89742,      0.8975,\n",
              "            0.89758,     0.89766,     0.89774,     0.89783,     0.89791,     0.89799,     0.89807,     0.89815,     0.89823,     0.89832,      0.8984,     0.89848,     0.89856,     0.89864,     0.89872,      0.8988,     0.89888,     0.89897,     0.89905,     0.89913,     0.89921,     0.89929,     0.89937,\n",
              "            0.89945,     0.89953,     0.89962,      0.8997,     0.89978,     0.89986,     0.89994,     0.90003,     0.90016,     0.90028,      0.9004,     0.90053,     0.90065,     0.90077,     0.90089,     0.90102,     0.90114,     0.90126,     0.90139,     0.90151,     0.90163,     0.90176,     0.90188,\n",
              "              0.902,     0.90212,     0.90225,     0.90237,     0.90249,     0.90262,     0.90274,     0.90286,     0.90298,     0.90311,     0.90323,     0.90335,     0.90347,      0.9036,     0.90372,     0.90384,     0.90396,     0.90409,     0.90421,     0.90433,     0.90445,     0.90457,      0.9047,\n",
              "            0.90482,     0.90494,     0.90508,     0.90525,     0.90542,     0.90559,     0.90576,     0.90593,     0.90611,     0.90628,     0.90645,     0.90662,     0.90679,     0.90696,     0.90713,     0.90731,     0.90748,     0.90765,     0.90782,     0.90799,     0.90816,     0.90833,      0.9085,\n",
              "            0.90867,     0.90884,     0.90901,     0.90918,     0.90935,     0.90952,     0.90969,     0.90986,     0.91003,     0.90994,     0.90961,     0.90928,     0.90895,     0.90861,     0.90828,     0.90795,     0.90762,     0.90729,     0.90696,     0.90662,     0.90629,     0.90596,     0.90563,\n",
              "            0.90529,     0.90496,     0.90463,     0.90429,     0.90396,     0.90375,     0.90354,     0.90333,     0.90312,     0.90292,     0.90271,      0.9025,     0.90229,     0.90208,     0.90187,     0.90166,     0.90145,     0.90124,     0.90104,     0.90083,     0.90062,     0.90041,      0.9002,\n",
              "            0.89999,     0.89978,     0.89957,     0.89936,     0.89915,     0.89894,     0.89873,     0.89852,     0.89831,      0.8981,     0.89789,     0.89697,     0.89375,     0.89051,     0.88725,     0.88494,     0.88457,     0.88421,     0.88384,     0.88347,     0.88311,     0.88274,     0.88238,\n",
              "            0.88201,     0.88164,     0.88127,     0.88091,     0.88054,     0.88017,      0.8798,     0.87943,     0.87907,      0.8787,     0.87826,      0.8778,     0.87734,     0.87688,     0.87642,     0.87596,      0.8755,     0.87504,     0.87458,     0.87412,     0.87365,     0.87319,     0.87273,\n",
              "            0.87227,     0.87182,     0.87139,     0.87095,     0.87052,     0.87008,     0.86965,     0.86921,     0.86878,     0.86834,      0.8679,     0.86747,     0.86703,     0.86659,     0.86615,     0.86571,     0.86497,     0.86392,     0.86287,     0.86182,     0.86076,     0.85971,     0.85886,\n",
              "            0.85909,     0.85933,     0.85956,     0.85979,     0.86003,     0.86026,     0.86049,     0.86072,     0.86095,     0.86119,     0.86142,     0.86165,     0.86188,     0.86211,     0.86234,     0.86257,      0.8628,     0.86303,     0.86326,     0.86349,     0.86372,     0.86416,     0.86533,\n",
              "            0.86651,     0.86768,     0.86884,     0.86867,     0.86821,     0.86775,     0.86729,     0.86682,     0.86636,      0.8659,     0.86544,     0.86497,     0.86451,     0.86405,     0.86358,     0.86312,     0.86265,     0.86211,     0.86124,     0.86036,     0.85949,     0.85861,     0.85773,\n",
              "            0.85685,     0.85597,     0.85465,     0.85262,     0.85059,     0.84855,     0.84694,     0.84535,     0.84375,     0.84214,     0.84082,      0.8397,     0.83858,     0.83746,     0.83634,     0.83522,     0.83261,     0.82326,     0.81793,     0.81542,     0.81289,     0.81208,     0.81159,\n",
              "             0.8111,     0.81061,     0.81012,     0.80962,     0.80913,     0.80864,     0.80814,     0.80765,     0.80715,     0.80666,     0.80616,     0.80566,     0.80517,     0.80129,     0.77277,     0.76733,     0.76404,     0.76129,     0.75852,     0.74098,     0.74012,     0.73926,     0.73841,\n",
              "            0.73755,     0.73669,     0.73582,     0.73496,      0.7341,     0.73266,     0.72686,     0.71428,      0.7113,     0.70831,     0.69715,     0.69512,     0.69307,     0.69102,     0.68888,     0.68655,     0.68422,     0.68188,     0.67981,      0.6781,     0.67639,     0.67467,     0.67294,\n",
              "             0.6709,     0.66451,     0.66051,     0.65809,     0.65565,     0.65321,     0.65172,     0.65063,     0.64953,     0.64844,     0.64734,     0.64625,     0.64515,     0.64405,     0.64294,     0.63672,     0.63124,     0.62719,     0.61311,     0.61189,     0.61067,     0.60944,     0.60821,\n",
              "            0.60698,     0.60575,     0.60452,     0.60328,     0.59987,     0.59563,     0.55932,     0.55482,      0.5503,     0.53638,     0.53057,     0.51073,     0.50183,     0.49697,     0.49209,     0.47645,     0.47286,     0.46926,     0.46035,     0.45216,     0.44697,     0.42912,      0.4253,\n",
              "            0.42147,     0.41762,      0.4144,     0.41138,     0.40835,     0.40531,     0.39837,     0.38712,     0.38008,     0.36027,     0.35611,     0.35194,     0.33303,     0.31836,     0.31325,     0.30812,     0.30284,      0.2966,     0.29031,      0.2856,     0.28162,     0.27763,     0.27362,\n",
              "            0.26013,     0.23739,     0.23319,     0.22897,     0.22473,     0.20233,      0.1965,     0.19064,     0.15547,     0.13706,     0.12764,     0.11888,     0.11971,     0.11218,    0.095368,    0.068394,    0.047834,    0.038718,    0.034514,    0.030293,    0.026053,    0.021795,           0,\n",
              "                  0,           0,           0,           0,           0,           0,           0,           0,           0,           0,           0,           0,           0,           0,           0,           0,           0,           0,           0,           0,           0,           0,           0,\n",
              "                  0,           0,           0,           0,           0,           0,           0,           0,           0,           0,           0,           0,           0,           0,           0,           0,           0,           0,           0,           0,           0,           0,           0,\n",
              "                  0,           0,           0,           0,           0,           0,           0,           0,           0,           0,           0,           0,           0,           0,           0,           0,           0,           0,           0,           0,           0,           0,           0,\n",
              "                  0,           0,           0,           0,           0,           0,           0,           0,           0,           0,           0,           0,           0,           0,           0,           0,           0,           0,           0,           0,           0,           0,           0,\n",
              "                  0,           0,           0,           0,           0,           0,           0,           0,           0,           0,           0,           0,           0,           0,           0,           0,           0,           0,           0,           0,           0,           0,           0,\n",
              "                  0,           0,           0,           0,           0,           0,           0,           0,           0,           0,           0]]), 'Confidence', 'F1'], [array([          0,    0.001001,    0.002002,    0.003003,    0.004004,    0.005005,    0.006006,    0.007007,    0.008008,    0.009009,     0.01001,    0.011011,    0.012012,    0.013013,    0.014014,    0.015015,    0.016016,    0.017017,    0.018018,    0.019019,     0.02002,    0.021021,    0.022022,    0.023023,\n",
              "          0.024024,    0.025025,    0.026026,    0.027027,    0.028028,    0.029029,     0.03003,    0.031031,    0.032032,    0.033033,    0.034034,    0.035035,    0.036036,    0.037037,    0.038038,    0.039039,     0.04004,    0.041041,    0.042042,    0.043043,    0.044044,    0.045045,    0.046046,    0.047047,\n",
              "          0.048048,    0.049049,     0.05005,    0.051051,    0.052052,    0.053053,    0.054054,    0.055055,    0.056056,    0.057057,    0.058058,    0.059059,     0.06006,    0.061061,    0.062062,    0.063063,    0.064064,    0.065065,    0.066066,    0.067067,    0.068068,    0.069069,     0.07007,    0.071071,\n",
              "          0.072072,    0.073073,    0.074074,    0.075075,    0.076076,    0.077077,    0.078078,    0.079079,     0.08008,    0.081081,    0.082082,    0.083083,    0.084084,    0.085085,    0.086086,    0.087087,    0.088088,    0.089089,     0.09009,    0.091091,    0.092092,    0.093093,    0.094094,    0.095095,\n",
              "          0.096096,    0.097097,    0.098098,    0.099099,      0.1001,      0.1011,      0.1021,      0.1031,      0.1041,     0.10511,     0.10611,     0.10711,     0.10811,     0.10911,     0.11011,     0.11111,     0.11211,     0.11311,     0.11411,     0.11512,     0.11612,     0.11712,     0.11812,     0.11912,\n",
              "           0.12012,     0.12112,     0.12212,     0.12312,     0.12412,     0.12513,     0.12613,     0.12713,     0.12813,     0.12913,     0.13013,     0.13113,     0.13213,     0.13313,     0.13413,     0.13514,     0.13614,     0.13714,     0.13814,     0.13914,     0.14014,     0.14114,     0.14214,     0.14314,\n",
              "           0.14414,     0.14515,     0.14615,     0.14715,     0.14815,     0.14915,     0.15015,     0.15115,     0.15215,     0.15315,     0.15415,     0.15516,     0.15616,     0.15716,     0.15816,     0.15916,     0.16016,     0.16116,     0.16216,     0.16316,     0.16416,     0.16517,     0.16617,     0.16717,\n",
              "           0.16817,     0.16917,     0.17017,     0.17117,     0.17217,     0.17317,     0.17417,     0.17518,     0.17618,     0.17718,     0.17818,     0.17918,     0.18018,     0.18118,     0.18218,     0.18318,     0.18418,     0.18519,     0.18619,     0.18719,     0.18819,     0.18919,     0.19019,     0.19119,\n",
              "           0.19219,     0.19319,     0.19419,      0.1952,      0.1962,      0.1972,      0.1982,      0.1992,      0.2002,      0.2012,      0.2022,      0.2032,      0.2042,     0.20521,     0.20621,     0.20721,     0.20821,     0.20921,     0.21021,     0.21121,     0.21221,     0.21321,     0.21421,     0.21522,\n",
              "           0.21622,     0.21722,     0.21822,     0.21922,     0.22022,     0.22122,     0.22222,     0.22322,     0.22422,     0.22523,     0.22623,     0.22723,     0.22823,     0.22923,     0.23023,     0.23123,     0.23223,     0.23323,     0.23423,     0.23524,     0.23624,     0.23724,     0.23824,     0.23924,\n",
              "           0.24024,     0.24124,     0.24224,     0.24324,     0.24424,     0.24525,     0.24625,     0.24725,     0.24825,     0.24925,     0.25025,     0.25125,     0.25225,     0.25325,     0.25425,     0.25526,     0.25626,     0.25726,     0.25826,     0.25926,     0.26026,     0.26126,     0.26226,     0.26326,\n",
              "           0.26426,     0.26527,     0.26627,     0.26727,     0.26827,     0.26927,     0.27027,     0.27127,     0.27227,     0.27327,     0.27427,     0.27528,     0.27628,     0.27728,     0.27828,     0.27928,     0.28028,     0.28128,     0.28228,     0.28328,     0.28428,     0.28529,     0.28629,     0.28729,\n",
              "           0.28829,     0.28929,     0.29029,     0.29129,     0.29229,     0.29329,     0.29429,      0.2953,      0.2963,      0.2973,      0.2983,      0.2993,      0.3003,      0.3013,      0.3023,      0.3033,      0.3043,     0.30531,     0.30631,     0.30731,     0.30831,     0.30931,     0.31031,     0.31131,\n",
              "           0.31231,     0.31331,     0.31431,     0.31532,     0.31632,     0.31732,     0.31832,     0.31932,     0.32032,     0.32132,     0.32232,     0.32332,     0.32432,     0.32533,     0.32633,     0.32733,     0.32833,     0.32933,     0.33033,     0.33133,     0.33233,     0.33333,     0.33433,     0.33534,\n",
              "           0.33634,     0.33734,     0.33834,     0.33934,     0.34034,     0.34134,     0.34234,     0.34334,     0.34434,     0.34535,     0.34635,     0.34735,     0.34835,     0.34935,     0.35035,     0.35135,     0.35235,     0.35335,     0.35435,     0.35536,     0.35636,     0.35736,     0.35836,     0.35936,\n",
              "           0.36036,     0.36136,     0.36236,     0.36336,     0.36436,     0.36537,     0.36637,     0.36737,     0.36837,     0.36937,     0.37037,     0.37137,     0.37237,     0.37337,     0.37437,     0.37538,     0.37638,     0.37738,     0.37838,     0.37938,     0.38038,     0.38138,     0.38238,     0.38338,\n",
              "           0.38438,     0.38539,     0.38639,     0.38739,     0.38839,     0.38939,     0.39039,     0.39139,     0.39239,     0.39339,     0.39439,      0.3954,      0.3964,      0.3974,      0.3984,      0.3994,      0.4004,      0.4014,      0.4024,      0.4034,      0.4044,     0.40541,     0.40641,     0.40741,\n",
              "           0.40841,     0.40941,     0.41041,     0.41141,     0.41241,     0.41341,     0.41441,     0.41542,     0.41642,     0.41742,     0.41842,     0.41942,     0.42042,     0.42142,     0.42242,     0.42342,     0.42442,     0.42543,     0.42643,     0.42743,     0.42843,     0.42943,     0.43043,     0.43143,\n",
              "           0.43243,     0.43343,     0.43443,     0.43544,     0.43644,     0.43744,     0.43844,     0.43944,     0.44044,     0.44144,     0.44244,     0.44344,     0.44444,     0.44545,     0.44645,     0.44745,     0.44845,     0.44945,     0.45045,     0.45145,     0.45245,     0.45345,     0.45445,     0.45546,\n",
              "           0.45646,     0.45746,     0.45846,     0.45946,     0.46046,     0.46146,     0.46246,     0.46346,     0.46446,     0.46547,     0.46647,     0.46747,     0.46847,     0.46947,     0.47047,     0.47147,     0.47247,     0.47347,     0.47447,     0.47548,     0.47648,     0.47748,     0.47848,     0.47948,\n",
              "           0.48048,     0.48148,     0.48248,     0.48348,     0.48448,     0.48549,     0.48649,     0.48749,     0.48849,     0.48949,     0.49049,     0.49149,     0.49249,     0.49349,     0.49449,      0.4955,      0.4965,      0.4975,      0.4985,      0.4995,      0.5005,      0.5015,      0.5025,      0.5035,\n",
              "            0.5045,     0.50551,     0.50651,     0.50751,     0.50851,     0.50951,     0.51051,     0.51151,     0.51251,     0.51351,     0.51451,     0.51552,     0.51652,     0.51752,     0.51852,     0.51952,     0.52052,     0.52152,     0.52252,     0.52352,     0.52452,     0.52553,     0.52653,     0.52753,\n",
              "           0.52853,     0.52953,     0.53053,     0.53153,     0.53253,     0.53353,     0.53453,     0.53554,     0.53654,     0.53754,     0.53854,     0.53954,     0.54054,     0.54154,     0.54254,     0.54354,     0.54454,     0.54555,     0.54655,     0.54755,     0.54855,     0.54955,     0.55055,     0.55155,\n",
              "           0.55255,     0.55355,     0.55455,     0.55556,     0.55656,     0.55756,     0.55856,     0.55956,     0.56056,     0.56156,     0.56256,     0.56356,     0.56456,     0.56557,     0.56657,     0.56757,     0.56857,     0.56957,     0.57057,     0.57157,     0.57257,     0.57357,     0.57457,     0.57558,\n",
              "           0.57658,     0.57758,     0.57858,     0.57958,     0.58058,     0.58158,     0.58258,     0.58358,     0.58458,     0.58559,     0.58659,     0.58759,     0.58859,     0.58959,     0.59059,     0.59159,     0.59259,     0.59359,     0.59459,      0.5956,      0.5966,      0.5976,      0.5986,      0.5996,\n",
              "            0.6006,      0.6016,      0.6026,      0.6036,      0.6046,     0.60561,     0.60661,     0.60761,     0.60861,     0.60961,     0.61061,     0.61161,     0.61261,     0.61361,     0.61461,     0.61562,     0.61662,     0.61762,     0.61862,     0.61962,     0.62062,     0.62162,     0.62262,     0.62362,\n",
              "           0.62462,     0.62563,     0.62663,     0.62763,     0.62863,     0.62963,     0.63063,     0.63163,     0.63263,     0.63363,     0.63463,     0.63564,     0.63664,     0.63764,     0.63864,     0.63964,     0.64064,     0.64164,     0.64264,     0.64364,     0.64464,     0.64565,     0.64665,     0.64765,\n",
              "           0.64865,     0.64965,     0.65065,     0.65165,     0.65265,     0.65365,     0.65465,     0.65566,     0.65666,     0.65766,     0.65866,     0.65966,     0.66066,     0.66166,     0.66266,     0.66366,     0.66466,     0.66567,     0.66667,     0.66767,     0.66867,     0.66967,     0.67067,     0.67167,\n",
              "           0.67267,     0.67367,     0.67467,     0.67568,     0.67668,     0.67768,     0.67868,     0.67968,     0.68068,     0.68168,     0.68268,     0.68368,     0.68468,     0.68569,     0.68669,     0.68769,     0.68869,     0.68969,     0.69069,     0.69169,     0.69269,     0.69369,     0.69469,      0.6957,\n",
              "            0.6967,      0.6977,      0.6987,      0.6997,      0.7007,      0.7017,      0.7027,      0.7037,      0.7047,     0.70571,     0.70671,     0.70771,     0.70871,     0.70971,     0.71071,     0.71171,     0.71271,     0.71371,     0.71471,     0.71572,     0.71672,     0.71772,     0.71872,     0.71972,\n",
              "           0.72072,     0.72172,     0.72272,     0.72372,     0.72472,     0.72573,     0.72673,     0.72773,     0.72873,     0.72973,     0.73073,     0.73173,     0.73273,     0.73373,     0.73473,     0.73574,     0.73674,     0.73774,     0.73874,     0.73974,     0.74074,     0.74174,     0.74274,     0.74374,\n",
              "           0.74474,     0.74575,     0.74675,     0.74775,     0.74875,     0.74975,     0.75075,     0.75175,     0.75275,     0.75375,     0.75475,     0.75576,     0.75676,     0.75776,     0.75876,     0.75976,     0.76076,     0.76176,     0.76276,     0.76376,     0.76476,     0.76577,     0.76677,     0.76777,\n",
              "           0.76877,     0.76977,     0.77077,     0.77177,     0.77277,     0.77377,     0.77477,     0.77578,     0.77678,     0.77778,     0.77878,     0.77978,     0.78078,     0.78178,     0.78278,     0.78378,     0.78478,     0.78579,     0.78679,     0.78779,     0.78879,     0.78979,     0.79079,     0.79179,\n",
              "           0.79279,     0.79379,     0.79479,      0.7958,      0.7968,      0.7978,      0.7988,      0.7998,      0.8008,      0.8018,      0.8028,      0.8038,      0.8048,     0.80581,     0.80681,     0.80781,     0.80881,     0.80981,     0.81081,     0.81181,     0.81281,     0.81381,     0.81481,     0.81582,\n",
              "           0.81682,     0.81782,     0.81882,     0.81982,     0.82082,     0.82182,     0.82282,     0.82382,     0.82482,     0.82583,     0.82683,     0.82783,     0.82883,     0.82983,     0.83083,     0.83183,     0.83283,     0.83383,     0.83483,     0.83584,     0.83684,     0.83784,     0.83884,     0.83984,\n",
              "           0.84084,     0.84184,     0.84284,     0.84384,     0.84484,     0.84585,     0.84685,     0.84785,     0.84885,     0.84985,     0.85085,     0.85185,     0.85285,     0.85385,     0.85485,     0.85586,     0.85686,     0.85786,     0.85886,     0.85986,     0.86086,     0.86186,     0.86286,     0.86386,\n",
              "           0.86486,     0.86587,     0.86687,     0.86787,     0.86887,     0.86987,     0.87087,     0.87187,     0.87287,     0.87387,     0.87487,     0.87588,     0.87688,     0.87788,     0.87888,     0.87988,     0.88088,     0.88188,     0.88288,     0.88388,     0.88488,     0.88589,     0.88689,     0.88789,\n",
              "           0.88889,     0.88989,     0.89089,     0.89189,     0.89289,     0.89389,     0.89489,      0.8959,      0.8969,      0.8979,      0.8989,      0.8999,      0.9009,      0.9019,      0.9029,      0.9039,      0.9049,     0.90591,     0.90691,     0.90791,     0.90891,     0.90991,     0.91091,     0.91191,\n",
              "           0.91291,     0.91391,     0.91491,     0.91592,     0.91692,     0.91792,     0.91892,     0.91992,     0.92092,     0.92192,     0.92292,     0.92392,     0.92492,     0.92593,     0.92693,     0.92793,     0.92893,     0.92993,     0.93093,     0.93193,     0.93293,     0.93393,     0.93493,     0.93594,\n",
              "           0.93694,     0.93794,     0.93894,     0.93994,     0.94094,     0.94194,     0.94294,     0.94394,     0.94494,     0.94595,     0.94695,     0.94795,     0.94895,     0.94995,     0.95095,     0.95195,     0.95295,     0.95395,     0.95495,     0.95596,     0.95696,     0.95796,     0.95896,     0.95996,\n",
              "           0.96096,     0.96196,     0.96296,     0.96396,     0.96496,     0.96597,     0.96697,     0.96797,     0.96897,     0.96997,     0.97097,     0.97197,     0.97297,     0.97397,     0.97497,     0.97598,     0.97698,     0.97798,     0.97898,     0.97998,     0.98098,     0.98198,     0.98298,     0.98398,\n",
              "           0.98498,     0.98599,     0.98699,     0.98799,     0.98899,     0.98999,     0.99099,     0.99199,     0.99299,     0.99399,     0.99499,       0.996,       0.997,       0.998,       0.999,           1]), array([[    0.14168,     0.14168,     0.20423,     0.25307,      0.2938,     0.32458,      0.3497,      0.3771,     0.38894,     0.40814,     0.43053,     0.44341,     0.45392,     0.45731,     0.45935,     0.47015,     0.47343,     0.47882,     0.48626,     0.49199,     0.49338,     0.49434,     0.49983,\n",
              "            0.50461,      0.5096,     0.51148,     0.51973,     0.52559,       0.529,     0.53091,     0.53621,     0.54376,     0.54672,     0.54856,     0.54945,     0.55035,     0.55124,     0.55394,     0.56196,     0.56442,     0.56654,     0.57104,     0.57379,     0.59512,       0.601,      0.6065,\n",
              "            0.60806,     0.60915,     0.61023,     0.61132,     0.62159,     0.62941,     0.63159,     0.63361,     0.63693,      0.6413,     0.64475,     0.64654,     0.64833,     0.65466,     0.65666,     0.65866,      0.6604,     0.66211,     0.66382,     0.66616,     0.66861,     0.67453,     0.68445,\n",
              "            0.68775,      0.6907,     0.69238,     0.69387,     0.69537,     0.69691,     0.69884,     0.70077,     0.70367,     0.71439,     0.72358,     0.72825,     0.73031,     0.73236,     0.73261,     0.73242,     0.73223,     0.73204,     0.73186,     0.73167,     0.73148,     0.73129,     0.73111,\n",
              "            0.73092,     0.73073,     0.73054,     0.73248,     0.73712,     0.74026,     0.74342,     0.74731,     0.74811,     0.74911,     0.75056,     0.75201,     0.75345,      0.7561,     0.76152,     0.76189,     0.76226,     0.76263,       0.763,     0.76336,     0.76373,      0.7641,     0.76447,\n",
              "            0.76484,     0.76521,     0.76557,     0.76594,     0.76631,     0.76668,     0.76705,     0.76741,     0.76778,     0.76815,     0.76852,     0.76949,     0.77045,     0.77142,     0.77238,     0.77335,     0.77431,     0.77528,     0.77613,     0.77689,     0.77765,     0.77841,     0.77917,\n",
              "            0.77993,     0.78069,     0.78145,     0.78221,     0.78297,     0.78391,     0.78486,     0.78582,     0.78677,     0.78773,     0.78869,     0.78964,     0.79057,     0.79135,     0.79213,     0.79291,     0.79369,     0.79447,     0.79525,     0.79603,     0.79681,     0.79759,     0.79815,\n",
              "            0.79834,     0.79853,     0.79873,     0.79892,     0.79911,     0.79931,      0.7995,     0.79969,     0.79989,     0.80008,     0.80027,     0.80047,     0.80066,     0.80085,     0.80105,     0.80124,     0.80143,     0.80162,     0.80182,     0.80201,      0.8022,      0.8024,     0.80259,\n",
              "            0.80278,     0.80298,     0.80317,     0.80336,     0.80356,     0.80375,     0.80394,     0.80414,     0.80433,     0.80452,     0.80471,     0.80491,      0.8051,     0.80529,     0.80549,     0.80568,     0.80905,     0.81384,     0.81402,      0.8142,     0.81437,     0.81455,     0.81473,\n",
              "            0.81491,     0.81509,     0.81526,     0.81544,     0.81562,      0.8158,     0.81598,     0.81615,     0.81633,     0.81651,     0.81669,     0.81687,     0.81704,     0.81722,      0.8174,     0.81758,     0.81776,     0.81794,     0.81811,     0.81829,     0.81847,     0.81865,     0.81883,\n",
              "              0.819,     0.81918,     0.81936,     0.81954,     0.81972,     0.81989,     0.82007,     0.82025,     0.82043,     0.82061,     0.82078,     0.82096,     0.82114,     0.82132,      0.8215,     0.82167,     0.82623,     0.83051,     0.83127,     0.83204,      0.8328,     0.83356,     0.83433,\n",
              "            0.83509,     0.83585,     0.83662,     0.83738,     0.83815,      0.8404,     0.84332,     0.84624,     0.84721,     0.84758,     0.84794,      0.8483,     0.84866,     0.84902,     0.84938,     0.84975,     0.85011,     0.85047,     0.85083,     0.85119,     0.85155,     0.85192,     0.85228,\n",
              "            0.85264,       0.853,     0.85336,     0.85372,     0.85409,     0.85445,     0.85481,     0.85517,     0.85553,     0.85645,     0.85771,     0.85897,     0.86023,     0.86149,     0.86275,     0.86401,     0.86661,     0.87034,     0.87372,     0.87411,     0.87449,     0.87488,     0.87526,\n",
              "            0.87565,     0.87603,     0.87642,      0.8768,     0.87719,     0.87757,     0.87796,     0.87834,     0.87873,     0.87911,      0.8795,     0.87988,     0.88027,     0.88065,     0.88104,     0.88142,     0.88181,     0.88219,     0.88258,     0.88296,     0.88387,     0.88479,     0.88572,\n",
              "            0.88665,     0.88757,      0.8885,     0.88943,     0.89036,     0.89128,     0.89221,     0.89257,     0.89272,     0.89286,       0.893,     0.89314,     0.89328,     0.89343,     0.89357,     0.89371,     0.89385,       0.894,     0.89414,     0.89428,     0.89442,     0.89456,     0.89471,\n",
              "            0.89485,     0.89499,     0.89513,     0.89527,     0.89542,     0.89556,      0.8957,     0.89584,     0.89598,     0.89613,     0.89627,     0.89641,     0.89655,     0.89669,     0.89684,     0.89698,     0.89712,     0.89726,      0.8974,     0.89755,     0.89769,     0.89783,     0.89797,\n",
              "            0.89811,     0.89826,      0.8984,     0.89854,     0.89868,     0.89882,     0.89897,     0.89911,     0.89925,     0.89939,     0.89954,     0.89968,     0.89982,     0.89996,      0.9001,     0.90025,     0.90039,     0.90053,     0.90067,     0.90081,     0.90096,      0.9011,     0.90124,\n",
              "            0.90138,     0.90152,     0.90167,     0.90181,     0.90195,     0.90209,     0.90649,     0.91204,     0.91192,     0.91181,     0.91169,     0.91158,     0.91146,     0.91135,     0.91124,     0.91112,     0.91224,     0.91347,     0.91471,     0.91594,     0.91718,     0.91841,     0.91964,\n",
              "            0.92088,     0.92129,      0.9212,      0.9211,     0.92101,     0.92091,     0.92082,     0.92073,     0.92063,     0.92054,     0.92069,     0.92286,     0.92503,      0.9272,     0.92936,     0.93108,     0.93125,     0.93143,     0.93161,     0.93179,     0.93196,     0.93214,     0.93232,\n",
              "             0.9325,     0.93267,     0.93285,     0.93303,     0.93321,     0.93338,     0.93356,     0.93374,     0.93392,     0.93409,     0.93427,     0.93445,     0.93463,      0.9348,     0.93498,     0.93516,     0.93534,     0.93551,     0.93569,     0.93587,     0.93605,     0.93622,      0.9364,\n",
              "            0.93658,     0.93676,     0.93693,     0.93711,     0.93729,     0.93747,     0.93764,     0.93782,       0.938,     0.93818,     0.93835,     0.93853,     0.93871,     0.93889,     0.93907,     0.93924,     0.93942,      0.9396,     0.93978,     0.93995,     0.94013,     0.94031,     0.94049,\n",
              "            0.94066,     0.94084,     0.94102,      0.9412,     0.94137,     0.94155,     0.94173,     0.94193,      0.9422,     0.94247,     0.94274,     0.94301,     0.94328,     0.94355,     0.94382,     0.94409,     0.94436,     0.94463,      0.9449,     0.94517,     0.94545,     0.94572,     0.94599,\n",
              "            0.94626,     0.94653,      0.9468,     0.94707,     0.94734,     0.94761,     0.94788,     0.94815,     0.94842,     0.94869,     0.94896,     0.94923,      0.9495,     0.94977,     0.95004,     0.95031,     0.95058,     0.95085,     0.95112,     0.95139,     0.95167,     0.95194,     0.95221,\n",
              "            0.95248,     0.95275,     0.95305,     0.95343,     0.95381,     0.95419,     0.95457,     0.95495,     0.95534,     0.95572,      0.9561,     0.95648,     0.95686,     0.95724,     0.95762,       0.958,     0.95839,     0.95877,     0.95915,     0.95953,     0.95991,     0.96029,     0.96067,\n",
              "            0.96105,     0.96144,     0.96182,      0.9622,     0.96258,     0.96296,     0.96334,     0.96372,      0.9641,     0.96427,     0.96425,     0.96423,      0.9642,     0.96418,     0.96416,     0.96413,     0.96411,     0.96409,     0.96406,     0.96404,     0.96402,     0.96399,     0.96397,\n",
              "            0.96395,     0.96393,      0.9639,     0.96388,     0.96386,     0.96384,     0.96383,     0.96381,      0.9638,     0.96378,     0.96377,     0.96375,     0.96374,     0.96372,     0.96371,     0.96369,     0.96368,     0.96366,     0.96365,     0.96363,     0.96362,      0.9636,     0.96359,\n",
              "            0.96357,     0.96356,     0.96354,     0.96353,     0.96351,      0.9635,     0.96349,     0.96347,     0.96346,     0.96344,     0.96343,     0.96336,     0.96313,      0.9629,     0.96266,     0.96249,     0.96246,     0.96244,     0.96241,     0.96238,     0.96236,     0.96233,      0.9623,\n",
              "            0.96227,     0.96225,     0.96222,     0.96219,     0.96217,     0.96214,     0.96211,     0.96209,     0.96206,     0.96203,       0.962,     0.96196,     0.96193,      0.9619,     0.96186,     0.96183,     0.96179,     0.96176,     0.96172,     0.96169,     0.96165,     0.96162,     0.96159,\n",
              "            0.96155,     0.96152,     0.96148,     0.96145,     0.96142,     0.96139,     0.96135,     0.96132,     0.96129,     0.96125,     0.96122,     0.96119,     0.96115,     0.96112,     0.96109,     0.96106,       0.961,     0.96092,     0.96084,     0.96076,     0.96067,     0.96059,     0.96062,\n",
              "             0.9612,     0.96179,     0.96237,     0.96295,     0.96354,     0.96412,     0.96471,     0.96529,     0.96587,     0.96646,     0.96704,     0.96762,     0.96821,     0.96879,     0.96937,     0.96996,     0.97054,     0.97112,     0.97171,     0.97229,     0.97287,     0.97397,     0.97696,\n",
              "            0.97996,     0.98296,     0.98595,     0.98648,     0.98646,     0.98645,     0.98644,     0.98643,     0.98641,      0.9864,     0.98639,     0.98637,     0.98636,     0.98635,     0.98634,     0.98632,     0.98631,      0.9863,     0.98627,     0.98625,     0.98622,      0.9862,     0.98617,\n",
              "            0.98615,     0.98613,     0.98609,     0.98603,     0.98597,     0.98592,     0.98587,     0.98583,     0.98578,     0.98573,      0.9857,     0.98566,     0.98563,      0.9856,     0.98556,     0.98553,     0.98546,     0.98518,     0.98501,     0.98494,     0.98486,     0.98484,     0.98482,\n",
              "             0.9848,     0.98479,     0.98477,     0.98476,     0.98474,     0.98473,     0.98471,      0.9847,     0.98468,     0.98467,     0.98465,     0.98464,     0.98462,      0.9845,     0.98356,     0.98337,     0.98326,     0.98316,     0.98306,     0.98243,      0.9824,     0.98236,     0.98233,\n",
              "             0.9823,     0.98227,     0.98224,      0.9822,     0.98217,     0.98212,      0.9819,      0.9814,     0.98128,     0.98116,     0.98071,     0.98062,     0.98054,     0.98045,     0.98036,     0.98026,     0.98016,     0.98006,     0.97997,     0.97989,     0.97981,     0.97974,     0.97966,\n",
              "            0.97957,     0.97928,      0.9791,     0.97898,     0.97887,     0.97876,     0.97869,     0.97863,     0.97858,     0.97853,     0.97848,     0.97842,     0.97837,     0.97832,     0.97826,     0.97796,     0.97768,     0.97748,     0.97674,     0.97668,     0.97661,     0.97654,     0.97648,\n",
              "            0.97641,     0.97634,     0.97628,     0.97621,     0.97602,     0.97578,      0.9736,     0.97331,     0.97302,     0.97208,     0.97167,     0.97021,     0.96953,     0.96914,     0.96875,     0.96743,     0.96711,      0.9668,     0.96598,     0.96521,     0.96471,     0.96289,     0.96248,\n",
              "            0.96206,     0.96164,     0.96127,     0.96092,     0.96057,     0.96022,     0.95938,     0.95797,     0.95705,     0.95427,     0.95364,       0.953,     0.94994,     0.94732,     0.94632,     0.94533,     0.94429,     0.94295,     0.94161,     0.94054,     0.93959,     0.93865,     0.93771,\n",
              "            0.93418,     0.92744,     0.92604,     0.92463,     0.92322,     0.91434,     0.91175,     0.90916,     0.88897,     0.87481,     0.86566,     0.86396,     0.96158,           1,           1,           1,           1,           1,           1,           1,           1,           1,           1,\n",
              "                  1,           1,           1,           1,           1,           1,           1,           1,           1,           1,           1,           1,           1,           1,           1,           1,           1,           1,           1,           1,           1,           1,           1,\n",
              "                  1,           1,           1,           1,           1,           1,           1,           1,           1,           1,           1,           1,           1,           1,           1,           1,           1,           1,           1,           1,           1,           1,           1,\n",
              "                  1,           1,           1,           1,           1,           1,           1,           1,           1,           1,           1,           1,           1,           1,           1,           1,           1,           1,           1,           1,           1,           1,           1,\n",
              "                  1,           1,           1,           1,           1,           1,           1,           1,           1,           1,           1,           1,           1,           1,           1,           1,           1,           1,           1,           1,           1,           1,           1,\n",
              "                  1,           1,           1,           1,           1,           1,           1,           1,           1,           1,           1,           1,           1,           1,           1,           1,           1,           1,           1,           1,           1,           1,           1,\n",
              "                  1,           1,           1,           1,           1,           1,           1,           1,           1,           1,           1]]), 'Confidence', 'Precision'], [array([          0,    0.001001,    0.002002,    0.003003,    0.004004,    0.005005,    0.006006,    0.007007,    0.008008,    0.009009,     0.01001,    0.011011,    0.012012,    0.013013,    0.014014,    0.015015,    0.016016,    0.017017,    0.018018,    0.019019,     0.02002,    0.021021,    0.022022,    0.023023,\n",
              "          0.024024,    0.025025,    0.026026,    0.027027,    0.028028,    0.029029,     0.03003,    0.031031,    0.032032,    0.033033,    0.034034,    0.035035,    0.036036,    0.037037,    0.038038,    0.039039,     0.04004,    0.041041,    0.042042,    0.043043,    0.044044,    0.045045,    0.046046,    0.047047,\n",
              "          0.048048,    0.049049,     0.05005,    0.051051,    0.052052,    0.053053,    0.054054,    0.055055,    0.056056,    0.057057,    0.058058,    0.059059,     0.06006,    0.061061,    0.062062,    0.063063,    0.064064,    0.065065,    0.066066,    0.067067,    0.068068,    0.069069,     0.07007,    0.071071,\n",
              "          0.072072,    0.073073,    0.074074,    0.075075,    0.076076,    0.077077,    0.078078,    0.079079,     0.08008,    0.081081,    0.082082,    0.083083,    0.084084,    0.085085,    0.086086,    0.087087,    0.088088,    0.089089,     0.09009,    0.091091,    0.092092,    0.093093,    0.094094,    0.095095,\n",
              "          0.096096,    0.097097,    0.098098,    0.099099,      0.1001,      0.1011,      0.1021,      0.1031,      0.1041,     0.10511,     0.10611,     0.10711,     0.10811,     0.10911,     0.11011,     0.11111,     0.11211,     0.11311,     0.11411,     0.11512,     0.11612,     0.11712,     0.11812,     0.11912,\n",
              "           0.12012,     0.12112,     0.12212,     0.12312,     0.12412,     0.12513,     0.12613,     0.12713,     0.12813,     0.12913,     0.13013,     0.13113,     0.13213,     0.13313,     0.13413,     0.13514,     0.13614,     0.13714,     0.13814,     0.13914,     0.14014,     0.14114,     0.14214,     0.14314,\n",
              "           0.14414,     0.14515,     0.14615,     0.14715,     0.14815,     0.14915,     0.15015,     0.15115,     0.15215,     0.15315,     0.15415,     0.15516,     0.15616,     0.15716,     0.15816,     0.15916,     0.16016,     0.16116,     0.16216,     0.16316,     0.16416,     0.16517,     0.16617,     0.16717,\n",
              "           0.16817,     0.16917,     0.17017,     0.17117,     0.17217,     0.17317,     0.17417,     0.17518,     0.17618,     0.17718,     0.17818,     0.17918,     0.18018,     0.18118,     0.18218,     0.18318,     0.18418,     0.18519,     0.18619,     0.18719,     0.18819,     0.18919,     0.19019,     0.19119,\n",
              "           0.19219,     0.19319,     0.19419,      0.1952,      0.1962,      0.1972,      0.1982,      0.1992,      0.2002,      0.2012,      0.2022,      0.2032,      0.2042,     0.20521,     0.20621,     0.20721,     0.20821,     0.20921,     0.21021,     0.21121,     0.21221,     0.21321,     0.21421,     0.21522,\n",
              "           0.21622,     0.21722,     0.21822,     0.21922,     0.22022,     0.22122,     0.22222,     0.22322,     0.22422,     0.22523,     0.22623,     0.22723,     0.22823,     0.22923,     0.23023,     0.23123,     0.23223,     0.23323,     0.23423,     0.23524,     0.23624,     0.23724,     0.23824,     0.23924,\n",
              "           0.24024,     0.24124,     0.24224,     0.24324,     0.24424,     0.24525,     0.24625,     0.24725,     0.24825,     0.24925,     0.25025,     0.25125,     0.25225,     0.25325,     0.25425,     0.25526,     0.25626,     0.25726,     0.25826,     0.25926,     0.26026,     0.26126,     0.26226,     0.26326,\n",
              "           0.26426,     0.26527,     0.26627,     0.26727,     0.26827,     0.26927,     0.27027,     0.27127,     0.27227,     0.27327,     0.27427,     0.27528,     0.27628,     0.27728,     0.27828,     0.27928,     0.28028,     0.28128,     0.28228,     0.28328,     0.28428,     0.28529,     0.28629,     0.28729,\n",
              "           0.28829,     0.28929,     0.29029,     0.29129,     0.29229,     0.29329,     0.29429,      0.2953,      0.2963,      0.2973,      0.2983,      0.2993,      0.3003,      0.3013,      0.3023,      0.3033,      0.3043,     0.30531,     0.30631,     0.30731,     0.30831,     0.30931,     0.31031,     0.31131,\n",
              "           0.31231,     0.31331,     0.31431,     0.31532,     0.31632,     0.31732,     0.31832,     0.31932,     0.32032,     0.32132,     0.32232,     0.32332,     0.32432,     0.32533,     0.32633,     0.32733,     0.32833,     0.32933,     0.33033,     0.33133,     0.33233,     0.33333,     0.33433,     0.33534,\n",
              "           0.33634,     0.33734,     0.33834,     0.33934,     0.34034,     0.34134,     0.34234,     0.34334,     0.34434,     0.34535,     0.34635,     0.34735,     0.34835,     0.34935,     0.35035,     0.35135,     0.35235,     0.35335,     0.35435,     0.35536,     0.35636,     0.35736,     0.35836,     0.35936,\n",
              "           0.36036,     0.36136,     0.36236,     0.36336,     0.36436,     0.36537,     0.36637,     0.36737,     0.36837,     0.36937,     0.37037,     0.37137,     0.37237,     0.37337,     0.37437,     0.37538,     0.37638,     0.37738,     0.37838,     0.37938,     0.38038,     0.38138,     0.38238,     0.38338,\n",
              "           0.38438,     0.38539,     0.38639,     0.38739,     0.38839,     0.38939,     0.39039,     0.39139,     0.39239,     0.39339,     0.39439,      0.3954,      0.3964,      0.3974,      0.3984,      0.3994,      0.4004,      0.4014,      0.4024,      0.4034,      0.4044,     0.40541,     0.40641,     0.40741,\n",
              "           0.40841,     0.40941,     0.41041,     0.41141,     0.41241,     0.41341,     0.41441,     0.41542,     0.41642,     0.41742,     0.41842,     0.41942,     0.42042,     0.42142,     0.42242,     0.42342,     0.42442,     0.42543,     0.42643,     0.42743,     0.42843,     0.42943,     0.43043,     0.43143,\n",
              "           0.43243,     0.43343,     0.43443,     0.43544,     0.43644,     0.43744,     0.43844,     0.43944,     0.44044,     0.44144,     0.44244,     0.44344,     0.44444,     0.44545,     0.44645,     0.44745,     0.44845,     0.44945,     0.45045,     0.45145,     0.45245,     0.45345,     0.45445,     0.45546,\n",
              "           0.45646,     0.45746,     0.45846,     0.45946,     0.46046,     0.46146,     0.46246,     0.46346,     0.46446,     0.46547,     0.46647,     0.46747,     0.46847,     0.46947,     0.47047,     0.47147,     0.47247,     0.47347,     0.47447,     0.47548,     0.47648,     0.47748,     0.47848,     0.47948,\n",
              "           0.48048,     0.48148,     0.48248,     0.48348,     0.48448,     0.48549,     0.48649,     0.48749,     0.48849,     0.48949,     0.49049,     0.49149,     0.49249,     0.49349,     0.49449,      0.4955,      0.4965,      0.4975,      0.4985,      0.4995,      0.5005,      0.5015,      0.5025,      0.5035,\n",
              "            0.5045,     0.50551,     0.50651,     0.50751,     0.50851,     0.50951,     0.51051,     0.51151,     0.51251,     0.51351,     0.51451,     0.51552,     0.51652,     0.51752,     0.51852,     0.51952,     0.52052,     0.52152,     0.52252,     0.52352,     0.52452,     0.52553,     0.52653,     0.52753,\n",
              "           0.52853,     0.52953,     0.53053,     0.53153,     0.53253,     0.53353,     0.53453,     0.53554,     0.53654,     0.53754,     0.53854,     0.53954,     0.54054,     0.54154,     0.54254,     0.54354,     0.54454,     0.54555,     0.54655,     0.54755,     0.54855,     0.54955,     0.55055,     0.55155,\n",
              "           0.55255,     0.55355,     0.55455,     0.55556,     0.55656,     0.55756,     0.55856,     0.55956,     0.56056,     0.56156,     0.56256,     0.56356,     0.56456,     0.56557,     0.56657,     0.56757,     0.56857,     0.56957,     0.57057,     0.57157,     0.57257,     0.57357,     0.57457,     0.57558,\n",
              "           0.57658,     0.57758,     0.57858,     0.57958,     0.58058,     0.58158,     0.58258,     0.58358,     0.58458,     0.58559,     0.58659,     0.58759,     0.58859,     0.58959,     0.59059,     0.59159,     0.59259,     0.59359,     0.59459,      0.5956,      0.5966,      0.5976,      0.5986,      0.5996,\n",
              "            0.6006,      0.6016,      0.6026,      0.6036,      0.6046,     0.60561,     0.60661,     0.60761,     0.60861,     0.60961,     0.61061,     0.61161,     0.61261,     0.61361,     0.61461,     0.61562,     0.61662,     0.61762,     0.61862,     0.61962,     0.62062,     0.62162,     0.62262,     0.62362,\n",
              "           0.62462,     0.62563,     0.62663,     0.62763,     0.62863,     0.62963,     0.63063,     0.63163,     0.63263,     0.63363,     0.63463,     0.63564,     0.63664,     0.63764,     0.63864,     0.63964,     0.64064,     0.64164,     0.64264,     0.64364,     0.64464,     0.64565,     0.64665,     0.64765,\n",
              "           0.64865,     0.64965,     0.65065,     0.65165,     0.65265,     0.65365,     0.65465,     0.65566,     0.65666,     0.65766,     0.65866,     0.65966,     0.66066,     0.66166,     0.66266,     0.66366,     0.66466,     0.66567,     0.66667,     0.66767,     0.66867,     0.66967,     0.67067,     0.67167,\n",
              "           0.67267,     0.67367,     0.67467,     0.67568,     0.67668,     0.67768,     0.67868,     0.67968,     0.68068,     0.68168,     0.68268,     0.68368,     0.68468,     0.68569,     0.68669,     0.68769,     0.68869,     0.68969,     0.69069,     0.69169,     0.69269,     0.69369,     0.69469,      0.6957,\n",
              "            0.6967,      0.6977,      0.6987,      0.6997,      0.7007,      0.7017,      0.7027,      0.7037,      0.7047,     0.70571,     0.70671,     0.70771,     0.70871,     0.70971,     0.71071,     0.71171,     0.71271,     0.71371,     0.71471,     0.71572,     0.71672,     0.71772,     0.71872,     0.71972,\n",
              "           0.72072,     0.72172,     0.72272,     0.72372,     0.72472,     0.72573,     0.72673,     0.72773,     0.72873,     0.72973,     0.73073,     0.73173,     0.73273,     0.73373,     0.73473,     0.73574,     0.73674,     0.73774,     0.73874,     0.73974,     0.74074,     0.74174,     0.74274,     0.74374,\n",
              "           0.74474,     0.74575,     0.74675,     0.74775,     0.74875,     0.74975,     0.75075,     0.75175,     0.75275,     0.75375,     0.75475,     0.75576,     0.75676,     0.75776,     0.75876,     0.75976,     0.76076,     0.76176,     0.76276,     0.76376,     0.76476,     0.76577,     0.76677,     0.76777,\n",
              "           0.76877,     0.76977,     0.77077,     0.77177,     0.77277,     0.77377,     0.77477,     0.77578,     0.77678,     0.77778,     0.77878,     0.77978,     0.78078,     0.78178,     0.78278,     0.78378,     0.78478,     0.78579,     0.78679,     0.78779,     0.78879,     0.78979,     0.79079,     0.79179,\n",
              "           0.79279,     0.79379,     0.79479,      0.7958,      0.7968,      0.7978,      0.7988,      0.7998,      0.8008,      0.8018,      0.8028,      0.8038,      0.8048,     0.80581,     0.80681,     0.80781,     0.80881,     0.80981,     0.81081,     0.81181,     0.81281,     0.81381,     0.81481,     0.81582,\n",
              "           0.81682,     0.81782,     0.81882,     0.81982,     0.82082,     0.82182,     0.82282,     0.82382,     0.82482,     0.82583,     0.82683,     0.82783,     0.82883,     0.82983,     0.83083,     0.83183,     0.83283,     0.83383,     0.83483,     0.83584,     0.83684,     0.83784,     0.83884,     0.83984,\n",
              "           0.84084,     0.84184,     0.84284,     0.84384,     0.84484,     0.84585,     0.84685,     0.84785,     0.84885,     0.84985,     0.85085,     0.85185,     0.85285,     0.85385,     0.85485,     0.85586,     0.85686,     0.85786,     0.85886,     0.85986,     0.86086,     0.86186,     0.86286,     0.86386,\n",
              "           0.86486,     0.86587,     0.86687,     0.86787,     0.86887,     0.86987,     0.87087,     0.87187,     0.87287,     0.87387,     0.87487,     0.87588,     0.87688,     0.87788,     0.87888,     0.87988,     0.88088,     0.88188,     0.88288,     0.88388,     0.88488,     0.88589,     0.88689,     0.88789,\n",
              "           0.88889,     0.88989,     0.89089,     0.89189,     0.89289,     0.89389,     0.89489,      0.8959,      0.8969,      0.8979,      0.8989,      0.8999,      0.9009,      0.9019,      0.9029,      0.9039,      0.9049,     0.90591,     0.90691,     0.90791,     0.90891,     0.90991,     0.91091,     0.91191,\n",
              "           0.91291,     0.91391,     0.91491,     0.91592,     0.91692,     0.91792,     0.91892,     0.91992,     0.92092,     0.92192,     0.92292,     0.92392,     0.92492,     0.92593,     0.92693,     0.92793,     0.92893,     0.92993,     0.93093,     0.93193,     0.93293,     0.93393,     0.93493,     0.93594,\n",
              "           0.93694,     0.93794,     0.93894,     0.93994,     0.94094,     0.94194,     0.94294,     0.94394,     0.94494,     0.94595,     0.94695,     0.94795,     0.94895,     0.94995,     0.95095,     0.95195,     0.95295,     0.95395,     0.95495,     0.95596,     0.95696,     0.95796,     0.95896,     0.95996,\n",
              "           0.96096,     0.96196,     0.96296,     0.96396,     0.96496,     0.96597,     0.96697,     0.96797,     0.96897,     0.96997,     0.97097,     0.97197,     0.97297,     0.97397,     0.97497,     0.97598,     0.97698,     0.97798,     0.97898,     0.97998,     0.98098,     0.98198,     0.98298,     0.98398,\n",
              "           0.98498,     0.98599,     0.98699,     0.98799,     0.98899,     0.98999,     0.99099,     0.99199,     0.99299,     0.99399,     0.99499,       0.996,       0.997,       0.998,       0.999,           1]), array([[    0.91489,     0.91489,     0.91489,     0.91489,     0.91489,     0.91489,     0.91489,     0.91489,     0.91489,     0.91489,     0.91489,     0.91489,     0.91489,     0.91489,     0.91489,     0.91489,     0.91489,     0.91489,     0.91489,     0.91489,     0.91489,     0.90481,     0.90426,\n",
              "            0.90426,     0.90426,     0.90426,     0.90426,     0.90426,     0.90426,     0.90426,     0.90426,     0.90426,     0.90426,     0.90426,     0.90426,     0.90426,     0.90426,     0.90426,     0.90426,     0.90426,     0.90426,     0.90426,     0.90426,     0.90426,     0.90426,     0.90426,\n",
              "            0.90426,     0.90426,     0.90426,     0.90426,     0.90426,     0.90426,     0.90426,     0.90426,     0.90426,     0.90426,     0.90426,     0.90426,     0.90426,     0.90426,     0.90426,     0.90426,     0.90426,     0.90426,     0.90426,     0.90426,     0.90426,     0.90426,     0.90426,\n",
              "            0.90426,     0.90426,     0.90426,     0.90426,     0.90426,     0.90426,     0.90426,     0.90426,     0.90426,     0.90426,     0.90426,     0.90426,     0.90426,     0.90426,     0.90356,      0.9027,     0.90184,     0.90098,     0.90012,     0.89926,     0.89841,     0.89755,     0.89669,\n",
              "            0.89583,     0.89497,     0.89411,     0.89362,     0.89362,     0.89362,     0.89362,     0.89362,     0.88468,     0.88298,     0.88298,     0.88298,     0.88298,     0.88298,     0.88298,     0.88298,     0.88298,     0.88298,     0.88298,     0.88298,     0.88298,     0.88298,     0.88298,\n",
              "            0.88298,     0.88298,     0.88298,     0.88298,     0.88298,     0.88298,     0.88298,     0.88298,     0.88298,     0.88298,     0.88298,     0.88298,     0.88298,     0.88298,     0.88298,     0.88298,     0.88298,     0.88298,     0.88298,     0.88298,     0.88298,     0.88298,     0.88298,\n",
              "            0.88298,     0.88298,     0.88298,     0.88298,     0.88298,     0.88298,     0.88298,     0.88298,     0.88298,     0.88298,     0.88298,     0.88298,     0.88298,     0.88298,     0.88298,     0.88298,     0.88298,     0.88298,     0.88298,     0.88298,     0.88298,     0.88298,     0.88298,\n",
              "            0.88298,     0.88298,     0.88298,     0.88298,     0.88298,     0.88298,     0.88298,     0.88298,     0.88298,     0.88298,     0.88298,     0.88298,     0.88298,     0.88298,     0.88298,     0.88298,     0.88298,     0.88298,     0.88298,     0.88298,     0.88298,     0.88298,     0.88298,\n",
              "            0.88298,     0.88298,     0.88298,     0.88298,     0.88298,     0.88298,     0.88298,     0.88298,     0.88298,     0.88298,     0.88298,     0.88298,     0.88298,     0.88298,     0.88298,     0.88298,     0.88298,     0.88298,     0.88298,     0.88298,     0.88298,     0.88298,     0.88298,\n",
              "            0.88298,     0.88298,     0.88298,     0.88298,     0.88298,     0.88298,     0.88298,     0.88298,     0.88298,     0.88298,     0.88298,     0.88298,     0.88298,     0.88298,     0.88298,     0.88298,     0.88298,     0.88298,     0.88298,     0.88298,     0.88298,     0.88298,     0.88298,\n",
              "            0.88298,     0.88298,     0.88298,     0.88298,     0.88298,     0.88298,     0.88298,     0.88298,     0.88298,     0.88298,     0.88298,     0.88298,     0.88298,     0.88298,     0.88298,     0.88298,     0.88298,     0.88298,     0.88298,     0.88298,     0.88298,     0.88298,     0.88298,\n",
              "            0.88298,     0.88298,     0.88298,     0.88298,     0.88298,     0.88298,     0.88298,     0.88298,     0.88298,     0.88298,     0.88298,     0.88298,     0.88298,     0.88298,     0.88298,     0.88298,     0.88298,     0.88298,     0.88298,     0.88298,     0.88298,     0.88298,     0.88298,\n",
              "            0.88298,     0.88298,     0.88298,     0.88298,     0.88298,     0.88298,     0.88298,     0.88298,     0.88298,     0.88298,     0.88298,     0.88298,     0.88298,     0.88298,     0.88298,     0.88298,     0.88298,     0.88298,     0.88298,     0.88298,     0.88298,     0.88298,     0.88298,\n",
              "            0.88298,     0.88298,     0.88298,     0.88298,     0.88298,     0.88298,     0.88298,     0.88298,     0.88298,     0.88298,     0.88298,     0.88298,     0.88298,     0.88298,     0.88298,     0.88298,     0.88298,     0.88298,     0.88298,     0.88298,     0.88298,     0.88298,     0.88298,\n",
              "            0.88298,     0.88298,     0.88298,     0.88298,     0.88298,     0.88298,     0.88298,     0.88298,     0.88298,     0.88298,     0.88298,     0.88298,     0.88298,     0.88298,     0.88298,     0.88298,     0.88298,     0.88298,     0.88298,     0.88298,     0.88298,     0.88298,     0.88298,\n",
              "            0.88298,     0.88298,     0.88298,     0.88298,     0.88298,     0.88298,     0.88298,     0.88298,     0.88298,     0.88298,     0.88298,     0.88298,     0.88298,     0.88298,     0.88298,     0.88298,     0.88298,     0.88298,     0.88298,     0.88298,     0.88298,     0.88298,     0.88298,\n",
              "            0.88298,     0.88298,     0.88298,     0.88298,     0.88298,     0.88298,     0.88298,     0.88298,     0.88298,     0.88298,     0.88298,     0.88298,     0.88298,     0.88298,     0.88298,     0.88298,     0.88298,     0.88298,     0.88298,     0.88298,     0.88298,     0.88298,     0.88298,\n",
              "            0.88298,     0.88298,     0.88298,     0.88298,     0.88298,     0.88298,     0.88298,     0.88242,     0.88117,     0.87993,     0.87868,     0.87743,     0.87619,     0.87494,      0.8737,     0.87245,     0.87234,     0.87234,     0.87234,     0.87234,     0.87234,     0.87234,     0.87234,\n",
              "            0.87234,     0.87165,     0.87053,     0.86941,     0.86829,     0.86717,     0.86606,     0.86494,     0.86382,      0.8627,      0.8617,      0.8617,      0.8617,      0.8617,      0.8617,      0.8617,      0.8617,      0.8617,      0.8617,      0.8617,      0.8617,      0.8617,      0.8617,\n",
              "             0.8617,      0.8617,      0.8617,      0.8617,      0.8617,      0.8617,      0.8617,      0.8617,      0.8617,      0.8617,      0.8617,      0.8617,      0.8617,      0.8617,      0.8617,      0.8617,      0.8617,      0.8617,      0.8617,      0.8617,      0.8617,      0.8617,      0.8617,\n",
              "             0.8617,      0.8617,      0.8617,      0.8617,      0.8617,      0.8617,      0.8617,      0.8617,      0.8617,      0.8617,      0.8617,      0.8617,      0.8617,      0.8617,      0.8617,      0.8617,      0.8617,      0.8617,      0.8617,      0.8617,      0.8617,      0.8617,      0.8617,\n",
              "             0.8617,      0.8617,      0.8617,      0.8617,      0.8617,      0.8617,      0.8617,      0.8617,      0.8617,      0.8617,      0.8617,      0.8617,      0.8617,      0.8617,      0.8617,      0.8617,      0.8617,      0.8617,      0.8617,      0.8617,      0.8617,      0.8617,      0.8617,\n",
              "             0.8617,      0.8617,      0.8617,      0.8617,      0.8617,      0.8617,      0.8617,      0.8617,      0.8617,      0.8617,      0.8617,      0.8617,      0.8617,      0.8617,      0.8617,      0.8617,      0.8617,      0.8617,      0.8617,      0.8617,      0.8617,      0.8617,      0.8617,\n",
              "             0.8617,      0.8617,      0.8617,      0.8617,      0.8617,      0.8617,      0.8617,      0.8617,      0.8617,      0.8617,      0.8617,      0.8617,      0.8617,      0.8617,      0.8617,      0.8617,      0.8617,      0.8617,      0.8617,      0.8617,      0.8617,      0.8617,      0.8617,\n",
              "             0.8617,      0.8617,      0.8617,      0.8617,      0.8617,      0.8617,      0.8617,      0.8617,      0.8617,      0.8614,     0.86083,     0.86025,     0.85968,      0.8591,     0.85853,     0.85796,     0.85738,     0.85681,     0.85624,     0.85566,     0.85509,     0.85451,     0.85394,\n",
              "            0.85337,     0.85279,     0.85222,     0.85164,     0.85107,     0.85071,     0.85035,     0.84999,     0.84964,     0.84928,     0.84892,     0.84856,     0.84821,     0.84785,     0.84749,     0.84713,     0.84678,     0.84642,     0.84606,      0.8457,     0.84535,     0.84499,     0.84463,\n",
              "            0.84427,     0.84392,     0.84356,      0.8432,     0.84284,     0.84249,     0.84213,     0.84177,     0.84141,     0.84106,      0.8407,     0.83915,      0.8337,     0.82824,     0.82279,     0.81895,     0.81834,     0.81774,     0.81713,     0.81652,     0.81592,     0.81531,     0.81471,\n",
              "             0.8141,      0.8135,     0.81289,     0.81228,     0.81168,     0.81107,     0.81047,     0.80986,     0.80925,     0.80865,     0.80793,     0.80718,     0.80643,     0.80567,     0.80492,     0.80417,     0.80342,     0.80267,     0.80191,     0.80116,     0.80041,     0.79966,     0.79891,\n",
              "            0.79815,     0.79743,     0.79673,     0.79603,     0.79532,     0.79462,     0.79391,     0.79321,     0.79251,      0.7918,      0.7911,      0.7904,     0.78969,     0.78899,     0.78829,     0.78758,     0.78639,     0.78471,     0.78303,     0.78136,     0.77968,       0.778,      0.7766,\n",
              "             0.7766,      0.7766,      0.7766,      0.7766,      0.7766,      0.7766,      0.7766,      0.7766,      0.7766,      0.7766,      0.7766,      0.7766,      0.7766,      0.7766,      0.7766,      0.7766,      0.7766,      0.7766,      0.7766,      0.7766,      0.7766,      0.7766,      0.7766,\n",
              "             0.7766,      0.7766,      0.7766,       0.776,     0.77527,     0.77454,     0.77382,     0.77309,     0.77236,     0.77164,     0.77091,     0.77018,     0.76946,     0.76873,       0.768,     0.76727,     0.76655,      0.7657,     0.76434,     0.76298,     0.76161,     0.76025,     0.75889,\n",
              "            0.75752,     0.75616,     0.75412,     0.75101,     0.74789,     0.74478,     0.74233,     0.73991,     0.73749,     0.73506,     0.73307,     0.73139,     0.72972,     0.72804,     0.72636,     0.72468,     0.72082,     0.70706,     0.69931,     0.69568,     0.69204,     0.69089,     0.69019,\n",
              "            0.68949,     0.68878,     0.68808,     0.68738,     0.68667,     0.68597,     0.68527,     0.68456,     0.68386,     0.68315,     0.68245,     0.68175,     0.68104,     0.67558,     0.63639,     0.62912,     0.62476,     0.62112,     0.61749,     0.59479,      0.5937,     0.59261,     0.59152,\n",
              "            0.59043,     0.58934,     0.58825,     0.58716,     0.58607,     0.58426,     0.57699,     0.56146,     0.55782,     0.55419,     0.54079,     0.53837,     0.53595,     0.53352,       0.531,     0.52827,     0.52555,     0.52282,     0.52042,     0.51843,     0.51645,     0.51447,     0.51249,\n",
              "            0.51014,     0.50288,     0.49835,     0.49563,      0.4929,     0.49017,     0.48851,      0.4873,     0.48609,     0.48488,     0.48366,     0.48245,     0.48124,     0.48003,     0.47882,     0.47202,     0.46609,     0.46172,     0.44678,      0.4455,     0.44422,     0.44293,     0.44165,\n",
              "            0.44037,     0.43909,      0.4378,     0.43652,       0.433,     0.42864,     0.39236,       0.388,     0.38364,     0.37037,     0.36492,     0.34659,     0.33853,     0.33417,     0.32981,     0.31605,     0.31293,     0.30982,     0.30217,     0.29523,     0.29087,     0.27608,     0.27296,\n",
              "            0.26985,     0.26673,     0.26414,     0.26171,     0.25929,     0.25687,     0.25137,     0.24258,     0.23712,     0.22205,     0.21893,     0.21582,      0.2019,     0.19133,     0.18769,     0.18406,     0.18034,     0.17597,     0.17161,     0.16836,     0.16564,     0.16291,     0.16018,\n",
              "             0.1511,     0.13611,     0.13339,     0.13066,     0.12794,     0.11375,     0.11012,     0.10648,    0.085181,    0.074354,    0.068901,     0.06383,     0.06383,    0.059421,    0.050071,    0.035408,    0.024503,    0.019741,     0.01756,    0.015379,    0.013198,    0.011017,           0,\n",
              "                  0,           0,           0,           0,           0,           0,           0,           0,           0,           0,           0,           0,           0,           0,           0,           0,           0,           0,           0,           0,           0,           0,           0,\n",
              "                  0,           0,           0,           0,           0,           0,           0,           0,           0,           0,           0,           0,           0,           0,           0,           0,           0,           0,           0,           0,           0,           0,           0,\n",
              "                  0,           0,           0,           0,           0,           0,           0,           0,           0,           0,           0,           0,           0,           0,           0,           0,           0,           0,           0,           0,           0,           0,           0,\n",
              "                  0,           0,           0,           0,           0,           0,           0,           0,           0,           0,           0,           0,           0,           0,           0,           0,           0,           0,           0,           0,           0,           0,           0,\n",
              "                  0,           0,           0,           0,           0,           0,           0,           0,           0,           0,           0,           0,           0,           0,           0,           0,           0,           0,           0,           0,           0,           0,           0,\n",
              "                  0,           0,           0,           0,           0,           0,           0,           0,           0,           0,           0]]), 'Confidence', 'Recall']]\n",
              "fitness: 0.5536460028728368\n",
              "keys: ['metrics/precision(B)', 'metrics/recall(B)', 'metrics/mAP50(B)', 'metrics/mAP50-95(B)']\n",
              "maps: array([    0.51557])\n",
              "names: {0: 'license'}\n",
              "plot: True\n",
              "results_dict: {'metrics/precision(B)': 0.9583860482606866, 'metrics/recall(B)': 0.8617021276595744, 'metrics/mAP50(B)': 0.8963172471557352, 'metrics/mAP50-95(B)': 0.515571420174737, 'fitness': 0.5536460028728368}\n",
              "save_dir: PosixPath('runs/detect/train')\n",
              "speed: {'preprocess': 0.06692710964159033, 'inference': 1.9375181746208805, 'loss': 0.0011783906783180676, 'postprocess': 1.6729694673384745}\n",
              "task: 'detect'"
            ]
          },
          "metadata": {},
          "execution_count": 13
        }
      ]
    },
    {
      "cell_type": "code",
      "source": [
        "import matplotlib.pyplot as plt\n",
        "import pandas as pd\n",
        "\n",
        "# Load the training results from the CSV file\n",
        "results = pd.read_csv(os.path.join('runs/detect/train', 'results.csv'))\n",
        "results.columns = results.columns.str.strip()  # Remove any leading/trailing whitespace from column names\n",
        "\n",
        "# Extract epochs and accuracy metrics\n",
        "epochs = results.index + 1  # Epochs are zero-indexed, so add 1\n",
        "mAP_0_5 = results['metrics/mAP50(B)']  # Mean Average Precision at IoU=0.5\n",
        "mAP_0_5_0_95 = results['metrics/mAP50-95(B)']  # Mean Average Precision at IoU=0.5:0.95\n",
        "\n",
        "# Plot the accuracy over epochs\n",
        "plt.figure(figsize=(10, 5))\n",
        "plt.plot(epochs, mAP_0_5, label='mAP@0.5')\n",
        "plt.plot(epochs, mAP_0_5_0_95, label='mAP@0.5:0.95')\n",
        "plt.xlabel('Epoch')\n",
        "plt.ylabel('Accuracy')\n",
        "plt.title('Accuracy Over Epochs')\n",
        "plt.legend()\n",
        "plt.grid(True)\n",
        "plt.show()"
      ],
      "metadata": {
        "colab": {
          "base_uri": "https://localhost:8080/",
          "height": 487
        },
        "id": "OCLWz8nGDGNo",
        "outputId": "70296b37-f5e4-4d98-d829-0bb70e327558"
      },
      "execution_count": null,
      "outputs": [
        {
          "output_type": "display_data",
          "data": {
            "text/plain": [
              "<Figure size 1000x500 with 1 Axes>"
            ],
            "image/png": "[encoded data removed]"
          },
          "metadata": {}
        }
      ]
    },
    {
      "cell_type": "code",
      "source": [
        "model.save('LPD.pt')"
      ],
      "metadata": {
        "id": "r5RjHkqUNAei"
      },
      "execution_count": null,
      "outputs": []
    },
    {
      "cell_type": "markdown",
      "source": [
        "### Detection+OCR"
      ],
      "metadata": {
        "id": "AweLX9k7UCd9"
      }
    },
    {
      "cell_type": "code",
      "source": [
        "!pip install easyocr"
      ],
      "metadata": {
        "colab": {
          "base_uri": "https://localhost:8080/"
        },
        "id": "-_oPsjQgkcTq",
        "outputId": "1c97a7a4-5cc6-4568-8de8-246fcb807b1d"
      },
      "execution_count": 22,
      "outputs": [
        {
          "output_type": "stream",
          "name": "stdout",
          "text": [
            "Collecting easyocr\n",
            "  Downloading easyocr-1.7.1-py3-none-any.whl.metadata (11 kB)\n",
            "Requirement already satisfied: torch in /usr/local/lib/python3.10/dist-packages (from easyocr) (2.4.0+cu121)\n",
            "Requirement already satisfied: torchvision>=0.5 in /usr/local/lib/python3.10/dist-packages (from easyocr) (0.19.0+cu121)\n",
            "Requirement already satisfied: opencv-python-headless in /usr/local/lib/python3.10/dist-packages (from easyocr) (4.10.0.84)\n",
            "Requirement already satisfied: scipy in /usr/local/lib/python3.10/dist-packages (from easyocr) (1.13.1)\n",
            "Requirement already satisfied: numpy in /usr/local/lib/python3.10/dist-packages (from easyocr) (1.26.4)\n",
            "Requirement already satisfied: Pillow in /usr/local/lib/python3.10/dist-packages (from easyocr) (9.4.0)\n",
            "Requirement already satisfied: scikit-image in /usr/local/lib/python3.10/dist-packages (from easyocr) (0.23.2)\n",
            "Collecting python-bidi (from easyocr)\n",
            "  Downloading python_bidi-0.6.0-cp310-cp310-manylinux_2_17_x86_64.manylinux2014_x86_64.whl.metadata (4.6 kB)\n",
            "Requirement already satisfied: PyYAML in /usr/local/lib/python3.10/dist-packages (from easyocr) (6.0.2)\n",
            "Requirement already satisfied: Shapely in /usr/local/lib/python3.10/dist-packages (from easyocr) (2.0.6)\n",
            "Collecting pyclipper (from easyocr)\n",
            "  Downloading pyclipper-1.3.0.post5-cp310-cp310-manylinux_2_12_x86_64.manylinux2010_x86_64.whl.metadata (9.0 kB)\n",
            "Collecting ninja (from easyocr)\n",
            "  Downloading ninja-1.11.1.1-py2.py3-none-manylinux1_x86_64.manylinux_2_5_x86_64.whl.metadata (5.3 kB)\n",
            "Requirement already satisfied: filelock in /usr/local/lib/python3.10/dist-packages (from torch->easyocr) (3.16.0)\n",
            "Requirement already satisfied: typing-extensions>=4.8.0 in /usr/local/lib/python3.10/dist-packages (from torch->easyocr) (4.12.2)\n",
            "Requirement already satisfied: sympy in /usr/local/lib/python3.10/dist-packages (from torch->easyocr) (1.13.2)\n",
            "Requirement already satisfied: networkx in /usr/local/lib/python3.10/dist-packages (from torch->easyocr) (3.3)\n",
            "Requirement already satisfied: jinja2 in /usr/local/lib/python3.10/dist-packages (from torch->easyocr) (3.1.4)\n",
            "Requirement already satisfied: fsspec in /usr/local/lib/python3.10/dist-packages (from torch->easyocr) (2024.6.1)\n",
            "Requirement already satisfied: imageio>=2.33 in /usr/local/lib/python3.10/dist-packages (from scikit-image->easyocr) (2.34.2)\n",
            "Requirement already satisfied: tifffile>=2022.8.12 in /usr/local/lib/python3.10/dist-packages (from scikit-image->easyocr) (2024.8.30)\n",
            "Requirement already satisfied: packaging>=21 in /usr/local/lib/python3.10/dist-packages (from scikit-image->easyocr) (24.1)\n",
            "Requirement already satisfied: lazy-loader>=0.4 in /usr/local/lib/python3.10/dist-packages (from scikit-image->easyocr) (0.4)\n",
            "Requirement already satisfied: MarkupSafe>=2.0 in /usr/local/lib/python3.10/dist-packages (from jinja2->torch->easyocr) (2.1.5)\n",
            "Requirement already satisfied: mpmath<1.4,>=1.1.0 in /usr/local/lib/python3.10/dist-packages (from sympy->torch->easyocr) (1.3.0)\n",
            "Downloading easyocr-1.7.1-py3-none-any.whl (2.9 MB)\n",
            "\u001b[2K   \u001b[90m━━━━━━━━━━━━━━━━━━━━━━━━━━━━━━━━━━━━━━━━\u001b[0m \u001b[32m2.9/2.9 MB\u001b[0m \u001b[31m26.0 MB/s\u001b[0m eta \u001b[36m0:00:00\u001b[0m\n",
            "\u001b[?25hDownloading ninja-1.11.1.1-py2.py3-none-manylinux1_x86_64.manylinux_2_5_x86_64.whl (307 kB)\n",
            "\u001b[2K   \u001b[90m━━━━━━━━━━━━━━━━━━━━━━━━━━━━━━━━━━━━━━━━\u001b[0m \u001b[32m307.2/307.2 kB\u001b[0m \u001b[31m18.0 MB/s\u001b[0m eta \u001b[36m0:00:00\u001b[0m\n",
            "\u001b[?25hDownloading pyclipper-1.3.0.post5-cp310-cp310-manylinux_2_12_x86_64.manylinux2010_x86_64.whl (908 kB)\n",
            "\u001b[2K   \u001b[90m━━━━━━━━━━━━━━━━━━━━━━━━━━━━━━━━━━━━━━━━\u001b[0m \u001b[32m908.3/908.3 kB\u001b[0m \u001b[31m41.4 MB/s\u001b[0m eta \u001b[36m0:00:00\u001b[0m\n",
            "\u001b[?25hDownloading python_bidi-0.6.0-cp310-cp310-manylinux_2_17_x86_64.manylinux2014_x86_64.whl (281 kB)\n",
            "\u001b[2K   \u001b[90m━━━━━━━━━━━━━━━━━━━━━━━━━━━━━━━━━━━━━━━━\u001b[0m \u001b[32m281.3/281.3 kB\u001b[0m \u001b[31m16.5 MB/s\u001b[0m eta \u001b[36m0:00:00\u001b[0m\n",
            "\u001b[?25hInstalling collected packages: python-bidi, pyclipper, ninja, easyocr\n",
            "Successfully installed easyocr-1.7.1 ninja-1.11.1.1 pyclipper-1.3.0.post5 python-bidi-0.6.0\n"
          ]
        }
      ]
    },
    {
      "cell_type": "code",
      "source": [
        "import cv2\n",
        "\n",
        "def get_detections(image, model, reader):\n",
        "    # Get YOLOv8 predictions\n",
        "    results = model.predict(image, verbose=False)\n",
        "\n",
        "    for result in results:\n",
        "        for box in result.boxes:  # Iterate through each bounding box\n",
        "            # Extract bounding box coordinates and class confidence\n",
        "            x1, y1, x2, y2 = box.xyxy.cpu().numpy()[0]\n",
        "            conf = box.conf.cpu().numpy()[0]\n",
        "            cls = box.cls.cpu().numpy()[0]\n",
        "\n",
        "            # Crop the detected area\n",
        "            cropped_image = image[int(y1):int(y2), int(x1):int(x2)]\n",
        "\n",
        "            # Perform OCR on the cropped image\n",
        "            ocr_results = reader.readtext(cropped_image)\n",
        "\n",
        "            # Iterate through OCR results (bbox, text, confidence)\n",
        "            for ocr_result in ocr_results:\n",
        "                bbox, text, confidence = ocr_result\n",
        "\n",
        "                # Draw the bounding box from YOLO detection\n",
        "                cv2.rectangle(image, (int(x1), int(y1)), (int(x2), int(y2)), (0, 255, 0), 2)\n",
        "\n",
        "                # Draw OCR results on the original image\n",
        "                # Calculate the size of the text for the background rectangle\n",
        "                text_size, _ = cv2.getTextSize(text, cv2.FONT_HERSHEY_SIMPLEX, 0.7, 2)\n",
        "                text_width, text_height = text_size\n",
        "\n",
        "                # Draw a background rectangle for the OCR text\n",
        "                cv2.rectangle(image,\n",
        "                              (int(x1), int(y1) - text_height - 10),  # Background top-left\n",
        "                              (int(x1) + text_width + 10, int(y1)),   # Background bottom-right\n",
        "                              (0, 0, 255), -1)  # Red background\n",
        "\n",
        "                # Put the text on top of the background\n",
        "                cv2.putText(image,\n",
        "                            text,\n",
        "                            (int(x1) + 5, int(y1) - 5),  # Slight padding inside the box\n",
        "                            cv2.FONT_HERSHEY_SIMPLEX,\n",
        "                            0.7, (255, 255, 255), 2)  # White text\n",
        "\n"
      ],
      "metadata": {
        "id": "PX7Ae58Vi_bU"
      },
      "execution_count": 82,
      "outputs": []
    },
    {
      "cell_type": "code",
      "source": [
        "import cv2\n",
        "import easyocr\n",
        "from ultralytics import YOLO\n",
        "\n",
        "\n",
        "\n",
        "image=cv2.imread('car-plate-detection/val/images/Cars0.png')\n",
        "image=cv2.cvtColor(image,cv2.COLOR_BGR2RGB)\n",
        "\n",
        "\n",
        "model\t= YOLO('LPD.pt')\n",
        "reader = easyocr.Reader(['en'])\n",
        "\n",
        "get_detections(image,model,reader)\n",
        "plt.imshow(image)\n",
        "plt.axis('off')"
      ],
      "metadata": {
        "colab": {
          "base_uri": "https://localhost:8080/",
          "height": 338
        },
        "id": "eJ1u2KBOSPQD",
        "outputId": "dde425b9-eda0-41c7-c78b-abb785e54cf5"
      },
      "execution_count": 85,
      "outputs": [
        {
          "output_type": "stream",
          "name": "stderr",
          "text": [
            "WARNING:easyocr.easyocr:Neither CUDA nor MPS are available - defaulting to CPU. Note: This module is much faster with a GPU.\n"
          ]
        },
        {
          "output_type": "execute_result",
          "data": {
            "text/plain": [
              "(-0.5, 499.5, 267.5, -0.5)"
            ]
          },
          "metadata": {},
          "execution_count": 85
        },
        {
          "output_type": "display_data",
          "data": {
            "text/plain": [
              "<Figure size 640x480 with 1 Axes>"
            ],
            "image/png": "[encoded data removed]"
          },
          "metadata": {}
        }
      ]
    }
  ]
}